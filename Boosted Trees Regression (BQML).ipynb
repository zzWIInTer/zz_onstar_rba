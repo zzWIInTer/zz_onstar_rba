{
  "nbformat": 4,
  "nbformat_minor": 0,
  "metadata": {
    "colab": {
      "name": "Boosted Trees Regression (BQML).ipynb",
      "provenance": []
    },
    "kernelspec": {
      "display_name": "Python 3",
      "name": "python3"
    },
    "language_info": {
      "name": "python"
    }
  },
  "cells": [
    {
      "cell_type": "markdown",
      "source": [
        "# Boosted Trees Regression (BQML)"
      ],
      "metadata": {
        "id": "CGuCVErsXdCQ"
      }
    },
    {
      "cell_type": "code",
      "source": [
        "###########################################################################\n",
        "#\n",
        "#  Copyright 2021 Google Inc.\n",
        "#\n",
        "#  Licensed under the Apache License, Version 2.0 (the \"License\");\n",
        "#  you may not use this file except in compliance with the License.\n",
        "#  You may obtain a copy of the License at\n",
        "#\n",
        "#      https://www.apache.org/licenses/LICENSE-2.0\n",
        "#\n",
        "#  Unless required by applicable law or agreed to in writing, software\n",
        "#  distributed under the License is distributed on an \"AS IS\" BASIS,\n",
        "#  WITHOUT WARRANTIES OR CONDITIONS OF ANY KIND, either express or implied.\n",
        "#  See the License for the specific language governing permissions and\n",
        "#  limitations under the License.\n",
        "#\n",
        "# This solution, including any related sample code or data, is made available\n",
        "# on an “as is,” “as available,” and “with all faults” basis, solely for\n",
        "# illustrative purposes, and without warranty or representation of any kind.\n",
        "# This solution is experimental, unsupported and provided solely for your\n",
        "# convenience. Your use of it is subject to your agreements with Google, as\n",
        "# applicable, and may constitute a beta feature as defined under those\n",
        "# agreements.  To the extent that you make any data available to Google in\n",
        "# connection with your use of the solution, you represent and warrant that you\n",
        "# have all necessary and appropriate rights, consents and permissions to permit\n",
        "# Google to use and process that data.  By using any portion of this solution,\n",
        "# you acknowledge, assume and accept all risks, known and unknown, associated\n",
        "# with its usage, including with respect to your deployment of any portion of\n",
        "# this solution in your systems, or usage in connection with your business,\n",
        "# if at all.\n",
        "###########################################################################"
      ],
      "metadata": {
        "id": "CmVlcj3kOlt7"
      },
      "execution_count": null,
      "outputs": []
    },
    {
      "cell_type": "markdown",
      "metadata": {
        "id": "l19lClJob3IR"
      },
      "source": [
        "## 0) Dependencies"
      ]
    },
    {
      "cell_type": "code",
      "source": [
        "################################################################################\n",
        "######################### CHANGE BQ PROJECT NAME BELOW #########################\n",
        "################################################################################\n",
        "\n",
        "project_name = 'OnStar_RBA' #add proj name and dataset"
      ],
      "metadata": {
        "id": "UP5mRlhOEYk2"
      },
      "execution_count": 1,
      "outputs": []
    },
    {
      "cell_type": "code",
      "metadata": {
        "id": "4aupXJjFcHkq",
        "outputId": "950277bd-784b-4187-9ec6-d5161ce6011c",
        "colab": {
          "base_uri": "https://localhost:8080/"
        }
      },
      "source": [
        "# Google credentials authentication libraries\n",
        "from google.colab import auth\n",
        "auth.authenticate_user()\n",
        "\n",
        "# BigQuery Magics\n",
        "'''\n",
        "BigQuery magics are used to run BigQuery SQL queries in a python environment.\n",
        "These queries can also be run in the BigQuery UI\n",
        "'''\n",
        "\n",
        "from google.cloud import bigquery\n",
        "from google.cloud.bigquery import magics\n",
        "magics.context.project = project_name #update project name\n",
        "client = bigquery.Client(project=magics.context.project)\n",
        "%load_ext google.cloud.bigquery\n",
        "bigquery.USE_LEGACY_SQL = False\n",
        "\n",
        "\n",
        "# data processing libraries\n",
        "import numpy as np\n",
        "import pandas as pd\n",
        "\n",
        "\n",
        "# modeling and metrics\n",
        "from statsmodels.stats.stattools import durbin_watson\n",
        "import statsmodels.api as sm\n",
        "\n",
        "!pip install relativeImp\n",
        "from relativeImp import relativeImp\n",
        "!pip install shap\n",
        "import shap\n",
        "\n",
        "# visutalization\n",
        "import matplotlib.pyplot as plt\n",
        "import seaborn as sns\n",
        "import plotly.express as px\n",
        "\n",
        "from google.colab import files"
      ],
      "execution_count": 2,
      "outputs": [
        {
          "output_type": "stream",
          "name": "stdout",
          "text": [
            "Collecting relativeImp\n",
            "  Downloading relativeImp-0.0.2-py3-none-any.whl (4.2 kB)\n",
            "Requirement already satisfied: pandas in /usr/local/lib/python3.10/dist-packages (from relativeImp) (1.5.3)\n",
            "Requirement already satisfied: numpy in /usr/local/lib/python3.10/dist-packages (from relativeImp) (1.23.5)\n",
            "Requirement already satisfied: python-dateutil>=2.8.1 in /usr/local/lib/python3.10/dist-packages (from pandas->relativeImp) (2.8.2)\n",
            "Requirement already satisfied: pytz>=2020.1 in /usr/local/lib/python3.10/dist-packages (from pandas->relativeImp) (2023.3.post1)\n",
            "Requirement already satisfied: six>=1.5 in /usr/local/lib/python3.10/dist-packages (from python-dateutil>=2.8.1->pandas->relativeImp) (1.16.0)\n",
            "Installing collected packages: relativeImp\n",
            "Successfully installed relativeImp-0.0.2\n",
            "Collecting shap\n",
            "  Downloading shap-0.44.1-cp310-cp310-manylinux_2_12_x86_64.manylinux2010_x86_64.manylinux_2_17_x86_64.manylinux2014_x86_64.whl (535 kB)\n",
            "\u001b[2K     \u001b[90m━━━━━━━━━━━━━━━━━━━━━━━━━━━━━━━━━━━━━━━━\u001b[0m \u001b[32m535.7/535.7 kB\u001b[0m \u001b[31m8.8 MB/s\u001b[0m eta \u001b[36m0:00:00\u001b[0m\n",
            "\u001b[?25hRequirement already satisfied: numpy in /usr/local/lib/python3.10/dist-packages (from shap) (1.23.5)\n",
            "Requirement already satisfied: scipy in /usr/local/lib/python3.10/dist-packages (from shap) (1.11.4)\n",
            "Requirement already satisfied: scikit-learn in /usr/local/lib/python3.10/dist-packages (from shap) (1.2.2)\n",
            "Requirement already satisfied: pandas in /usr/local/lib/python3.10/dist-packages (from shap) (1.5.3)\n",
            "Requirement already satisfied: tqdm>=4.27.0 in /usr/local/lib/python3.10/dist-packages (from shap) (4.66.1)\n",
            "Requirement already satisfied: packaging>20.9 in /usr/local/lib/python3.10/dist-packages (from shap) (23.2)\n",
            "Collecting slicer==0.0.7 (from shap)\n",
            "  Downloading slicer-0.0.7-py3-none-any.whl (14 kB)\n",
            "Requirement already satisfied: numba in /usr/local/lib/python3.10/dist-packages (from shap) (0.58.1)\n",
            "Requirement already satisfied: cloudpickle in /usr/local/lib/python3.10/dist-packages (from shap) (2.2.1)\n",
            "Requirement already satisfied: llvmlite<0.42,>=0.41.0dev0 in /usr/local/lib/python3.10/dist-packages (from numba->shap) (0.41.1)\n",
            "Requirement already satisfied: python-dateutil>=2.8.1 in /usr/local/lib/python3.10/dist-packages (from pandas->shap) (2.8.2)\n",
            "Requirement already satisfied: pytz>=2020.1 in /usr/local/lib/python3.10/dist-packages (from pandas->shap) (2023.3.post1)\n",
            "Requirement already satisfied: joblib>=1.1.1 in /usr/local/lib/python3.10/dist-packages (from scikit-learn->shap) (1.3.2)\n",
            "Requirement already satisfied: threadpoolctl>=2.0.0 in /usr/local/lib/python3.10/dist-packages (from scikit-learn->shap) (3.2.0)\n",
            "Requirement already satisfied: six>=1.5 in /usr/local/lib/python3.10/dist-packages (from python-dateutil>=2.8.1->pandas->shap) (1.16.0)\n",
            "Installing collected packages: slicer, shap\n",
            "Successfully installed shap-0.44.1 slicer-0.0.7\n"
          ]
        }
      ]
    },
    {
      "cell_type": "markdown",
      "metadata": {
        "id": "8N8-scWPc7fP"
      },
      "source": [
        "## 1) Import dataset"
      ]
    },
    {
      "cell_type": "markdown",
      "source": [
        "Import the data using the bigquery magics (%% command).\n",
        "Pulls all of the data from the cleaned data table and stores into a dataframe \"df\""
      ],
      "metadata": {
        "id": "uMBW9Yj3KYNQ"
      }
    },
    {
      "cell_type": "code",
      "source": [
        "################################################################################\n",
        "######################### CHANGE BQ PROJECT NAME BELOW #########################\n",
        "################################################################################"
      ],
      "metadata": {
        "id": "KtVgu2pdEeXJ"
      },
      "execution_count": null,
      "outputs": []
    },
    {
      "cell_type": "code",
      "source": [
        "# %%bigquery df\n",
        "# SELECT *\n",
        "# FROM `.RBA_demo.cleaned_data`\n",
        "# ORDER BY date; #update project name"
      ],
      "metadata": {
        "id": "c18LF5c8zovb"
      },
      "execution_count": null,
      "outputs": []
    },
    {
      "cell_type": "code",
      "source": [
        "#update file name\n",
        "file_name = 'https://raw.githubusercontent.com/zzWIInTer/zz_onstar_rba/master/final_cleaned_data.csv'\n",
        "df_raw = pd.read_csv(file_name)\n",
        "df_raw.fillna(0, inplace=True)\n",
        "\n",
        "#df = df_raw.drop(columns = ['Date','DIV_GMOC_SHOP_ESSl21_0p0_0d0_0']).copy()\n",
        "df = df_raw.copy()\n",
        "\n",
        "df.head()"
      ],
      "metadata": {
        "id": "v2xtMTBcURC2",
        "outputId": "063b5ecc-fa26-4e49-b692-bd2d74b4682f",
        "colab": {
          "base_uri": "https://localhost:8080/",
          "height": 255
        }
      },
      "execution_count": 3,
      "outputs": [
        {
          "output_type": "execute_result",
          "data": {
            "text/plain": [
              "         Date  A_OC_GOOGLE_SHOPPING  C_DIV_BUY_CONNECTEDl21_0p0_0d0_12  \\\n",
              "0  10/13/2023                   729                          -1.108161   \n",
              "1  10/14/2023                   936                          -0.591641   \n",
              "2  10/15/2023                   787                          -1.532171   \n",
              "3  10/16/2023                  1030                          -0.780518   \n",
              "4  10/17/2023                   950                          -0.965540   \n",
              "\n",
              "   C_DIV_BUY_ESSENTIALSl21_0p0_0d0_12  C_DIV_BUY_PREMIUMl21_0p0_0d0_12  \\\n",
              "0                            0.178209                        -0.774452   \n",
              "1                           -1.339583                        -0.210658   \n",
              "2                           -1.826123                        -1.843573   \n",
              "3                           -1.196795                        -0.373532   \n",
              "4                           -0.985256                        -0.277478   \n",
              "\n",
              "   C_DIV_BUY_SSl21_0p0_0d0_06  C_DIV_CONN_DATAl21_0p0_0d0_06  \\\n",
              "0                    0.627772                      -0.264759   \n",
              "1                   -0.060092                       1.589453   \n",
              "2                   -1.182772                      -1.070458   \n",
              "3                    0.178700                      -0.684164   \n",
              "4                   -1.161387                      -0.375129   \n",
              "\n",
              "   C_DIV_CONN_REMOTEl21_0p0_0d0_12  C_DIV_CONN_TRYl21_0p0_0d0_06  \\\n",
              "0                        -0.146654                     -0.311050   \n",
              "1                        -0.647853                      0.225988   \n",
              "2                        -1.485678                      0.973487   \n",
              "3                        -0.640373                     -1.523014   \n",
              "4                        -0.902193                     -1.312554   \n",
              "\n",
              "   C_DIV_GETNOW_CONNl21_0p0_0d0_06  ...  DIV_PLANPAGE_ESSl21_0p0_0d0_0  \\\n",
              "0                         1.422696  ...                      -0.690469   \n",
              "1                         0.828675  ...                      -0.717841   \n",
              "2                        -1.001415  ...                      -0.772585   \n",
              "3                        -0.602030  ...                      -0.714270   \n",
              "4                         0.123433  ...                      -0.288221   \n",
              "\n",
              "   DIV_WYG_PPl21_0p0_0d0_12  OC_APP_Accessl21_0p0_0d0_12  \\\n",
              "0                 -0.398094                    -0.624894   \n",
              "1                 -0.347162                    -0.191100   \n",
              "2                 -0.827603                    -0.320066   \n",
              "3                 -0.075824                     1.079373   \n",
              "4                  0.468299                     0.529403   \n",
              "\n",
              "   OC_PAGE_PREFl21_0p0_0d0_06  OC_PAGE_PREFPLl21_0p0_0d0_12  \\\n",
              "0                   -0.189886                     -1.329793   \n",
              "1                   -0.421855                     -0.885066   \n",
              "2                   -1.336846                     -1.405619   \n",
              "3                    1.429066                      0.473788   \n",
              "4                    1.571362                     -0.316369   \n",
              "\n",
              "   OC_PAGE_PREMl21_0p0_0d0_12  SC_BUYNOWl21_0p0_0d0_12  \\\n",
              "0                   -0.263140                -0.970183   \n",
              "1                   -0.368436                -0.970183   \n",
              "2                   -1.460062                -0.970183   \n",
              "3                    0.647186                 0.539693   \n",
              "4                    0.114966                -0.788998   \n",
              "\n",
              "   SC_HOMEPAGEl21_0p0_0d0_12  SC_SHOPNOWl21_0p0_0d0_06  Is_Holiday  \n",
              "0                   0.060408                 -0.310528           0  \n",
              "1                  -0.082952                  0.649707           0  \n",
              "2                  -0.144391                 -1.107704           0  \n",
              "3                   0.026275                 -1.216410           0  \n",
              "4                  -0.977240                 -1.216410           0  \n",
              "\n",
              "[5 rows x 33 columns]"
            ],
            "text/html": [
              "\n",
              "  <div id=\"df-a0f29736-3336-4569-8cd0-9124ebd14830\" class=\"colab-df-container\">\n",
              "    <div>\n",
              "<style scoped>\n",
              "    .dataframe tbody tr th:only-of-type {\n",
              "        vertical-align: middle;\n",
              "    }\n",
              "\n",
              "    .dataframe tbody tr th {\n",
              "        vertical-align: top;\n",
              "    }\n",
              "\n",
              "    .dataframe thead th {\n",
              "        text-align: right;\n",
              "    }\n",
              "</style>\n",
              "<table border=\"1\" class=\"dataframe\">\n",
              "  <thead>\n",
              "    <tr style=\"text-align: right;\">\n",
              "      <th></th>\n",
              "      <th>Date</th>\n",
              "      <th>A_OC_GOOGLE_SHOPPING</th>\n",
              "      <th>C_DIV_BUY_CONNECTEDl21_0p0_0d0_12</th>\n",
              "      <th>C_DIV_BUY_ESSENTIALSl21_0p0_0d0_12</th>\n",
              "      <th>C_DIV_BUY_PREMIUMl21_0p0_0d0_12</th>\n",
              "      <th>C_DIV_BUY_SSl21_0p0_0d0_06</th>\n",
              "      <th>C_DIV_CONN_DATAl21_0p0_0d0_06</th>\n",
              "      <th>C_DIV_CONN_REMOTEl21_0p0_0d0_12</th>\n",
              "      <th>C_DIV_CONN_TRYl21_0p0_0d0_06</th>\n",
              "      <th>C_DIV_GETNOW_CONNl21_0p0_0d0_06</th>\n",
              "      <th>...</th>\n",
              "      <th>DIV_PLANPAGE_ESSl21_0p0_0d0_0</th>\n",
              "      <th>DIV_WYG_PPl21_0p0_0d0_12</th>\n",
              "      <th>OC_APP_Accessl21_0p0_0d0_12</th>\n",
              "      <th>OC_PAGE_PREFl21_0p0_0d0_06</th>\n",
              "      <th>OC_PAGE_PREFPLl21_0p0_0d0_12</th>\n",
              "      <th>OC_PAGE_PREMl21_0p0_0d0_12</th>\n",
              "      <th>SC_BUYNOWl21_0p0_0d0_12</th>\n",
              "      <th>SC_HOMEPAGEl21_0p0_0d0_12</th>\n",
              "      <th>SC_SHOPNOWl21_0p0_0d0_06</th>\n",
              "      <th>Is_Holiday</th>\n",
              "    </tr>\n",
              "  </thead>\n",
              "  <tbody>\n",
              "    <tr>\n",
              "      <th>0</th>\n",
              "      <td>10/13/2023</td>\n",
              "      <td>729</td>\n",
              "      <td>-1.108161</td>\n",
              "      <td>0.178209</td>\n",
              "      <td>-0.774452</td>\n",
              "      <td>0.627772</td>\n",
              "      <td>-0.264759</td>\n",
              "      <td>-0.146654</td>\n",
              "      <td>-0.311050</td>\n",
              "      <td>1.422696</td>\n",
              "      <td>...</td>\n",
              "      <td>-0.690469</td>\n",
              "      <td>-0.398094</td>\n",
              "      <td>-0.624894</td>\n",
              "      <td>-0.189886</td>\n",
              "      <td>-1.329793</td>\n",
              "      <td>-0.263140</td>\n",
              "      <td>-0.970183</td>\n",
              "      <td>0.060408</td>\n",
              "      <td>-0.310528</td>\n",
              "      <td>0</td>\n",
              "    </tr>\n",
              "    <tr>\n",
              "      <th>1</th>\n",
              "      <td>10/14/2023</td>\n",
              "      <td>936</td>\n",
              "      <td>-0.591641</td>\n",
              "      <td>-1.339583</td>\n",
              "      <td>-0.210658</td>\n",
              "      <td>-0.060092</td>\n",
              "      <td>1.589453</td>\n",
              "      <td>-0.647853</td>\n",
              "      <td>0.225988</td>\n",
              "      <td>0.828675</td>\n",
              "      <td>...</td>\n",
              "      <td>-0.717841</td>\n",
              "      <td>-0.347162</td>\n",
              "      <td>-0.191100</td>\n",
              "      <td>-0.421855</td>\n",
              "      <td>-0.885066</td>\n",
              "      <td>-0.368436</td>\n",
              "      <td>-0.970183</td>\n",
              "      <td>-0.082952</td>\n",
              "      <td>0.649707</td>\n",
              "      <td>0</td>\n",
              "    </tr>\n",
              "    <tr>\n",
              "      <th>2</th>\n",
              "      <td>10/15/2023</td>\n",
              "      <td>787</td>\n",
              "      <td>-1.532171</td>\n",
              "      <td>-1.826123</td>\n",
              "      <td>-1.843573</td>\n",
              "      <td>-1.182772</td>\n",
              "      <td>-1.070458</td>\n",
              "      <td>-1.485678</td>\n",
              "      <td>0.973487</td>\n",
              "      <td>-1.001415</td>\n",
              "      <td>...</td>\n",
              "      <td>-0.772585</td>\n",
              "      <td>-0.827603</td>\n",
              "      <td>-0.320066</td>\n",
              "      <td>-1.336846</td>\n",
              "      <td>-1.405619</td>\n",
              "      <td>-1.460062</td>\n",
              "      <td>-0.970183</td>\n",
              "      <td>-0.144391</td>\n",
              "      <td>-1.107704</td>\n",
              "      <td>0</td>\n",
              "    </tr>\n",
              "    <tr>\n",
              "      <th>3</th>\n",
              "      <td>10/16/2023</td>\n",
              "      <td>1030</td>\n",
              "      <td>-0.780518</td>\n",
              "      <td>-1.196795</td>\n",
              "      <td>-0.373532</td>\n",
              "      <td>0.178700</td>\n",
              "      <td>-0.684164</td>\n",
              "      <td>-0.640373</td>\n",
              "      <td>-1.523014</td>\n",
              "      <td>-0.602030</td>\n",
              "      <td>...</td>\n",
              "      <td>-0.714270</td>\n",
              "      <td>-0.075824</td>\n",
              "      <td>1.079373</td>\n",
              "      <td>1.429066</td>\n",
              "      <td>0.473788</td>\n",
              "      <td>0.647186</td>\n",
              "      <td>0.539693</td>\n",
              "      <td>0.026275</td>\n",
              "      <td>-1.216410</td>\n",
              "      <td>0</td>\n",
              "    </tr>\n",
              "    <tr>\n",
              "      <th>4</th>\n",
              "      <td>10/17/2023</td>\n",
              "      <td>950</td>\n",
              "      <td>-0.965540</td>\n",
              "      <td>-0.985256</td>\n",
              "      <td>-0.277478</td>\n",
              "      <td>-1.161387</td>\n",
              "      <td>-0.375129</td>\n",
              "      <td>-0.902193</td>\n",
              "      <td>-1.312554</td>\n",
              "      <td>0.123433</td>\n",
              "      <td>...</td>\n",
              "      <td>-0.288221</td>\n",
              "      <td>0.468299</td>\n",
              "      <td>0.529403</td>\n",
              "      <td>1.571362</td>\n",
              "      <td>-0.316369</td>\n",
              "      <td>0.114966</td>\n",
              "      <td>-0.788998</td>\n",
              "      <td>-0.977240</td>\n",
              "      <td>-1.216410</td>\n",
              "      <td>0</td>\n",
              "    </tr>\n",
              "  </tbody>\n",
              "</table>\n",
              "<p>5 rows × 33 columns</p>\n",
              "</div>\n",
              "    <div class=\"colab-df-buttons\">\n",
              "\n",
              "  <div class=\"colab-df-container\">\n",
              "    <button class=\"colab-df-convert\" onclick=\"convertToInteractive('df-a0f29736-3336-4569-8cd0-9124ebd14830')\"\n",
              "            title=\"Convert this dataframe to an interactive table.\"\n",
              "            style=\"display:none;\">\n",
              "\n",
              "  <svg xmlns=\"http://www.w3.org/2000/svg\" height=\"24px\" viewBox=\"0 -960 960 960\">\n",
              "    <path d=\"M120-120v-720h720v720H120Zm60-500h600v-160H180v160Zm220 220h160v-160H400v160Zm0 220h160v-160H400v160ZM180-400h160v-160H180v160Zm440 0h160v-160H620v160ZM180-180h160v-160H180v160Zm440 0h160v-160H620v160Z\"/>\n",
              "  </svg>\n",
              "    </button>\n",
              "\n",
              "  <style>\n",
              "    .colab-df-container {\n",
              "      display:flex;\n",
              "      gap: 12px;\n",
              "    }\n",
              "\n",
              "    .colab-df-convert {\n",
              "      background-color: #E8F0FE;\n",
              "      border: none;\n",
              "      border-radius: 50%;\n",
              "      cursor: pointer;\n",
              "      display: none;\n",
              "      fill: #1967D2;\n",
              "      height: 32px;\n",
              "      padding: 0 0 0 0;\n",
              "      width: 32px;\n",
              "    }\n",
              "\n",
              "    .colab-df-convert:hover {\n",
              "      background-color: #E2EBFA;\n",
              "      box-shadow: 0px 1px 2px rgba(60, 64, 67, 0.3), 0px 1px 3px 1px rgba(60, 64, 67, 0.15);\n",
              "      fill: #174EA6;\n",
              "    }\n",
              "\n",
              "    .colab-df-buttons div {\n",
              "      margin-bottom: 4px;\n",
              "    }\n",
              "\n",
              "    [theme=dark] .colab-df-convert {\n",
              "      background-color: #3B4455;\n",
              "      fill: #D2E3FC;\n",
              "    }\n",
              "\n",
              "    [theme=dark] .colab-df-convert:hover {\n",
              "      background-color: #434B5C;\n",
              "      box-shadow: 0px 1px 3px 1px rgba(0, 0, 0, 0.15);\n",
              "      filter: drop-shadow(0px 1px 2px rgba(0, 0, 0, 0.3));\n",
              "      fill: #FFFFFF;\n",
              "    }\n",
              "  </style>\n",
              "\n",
              "    <script>\n",
              "      const buttonEl =\n",
              "        document.querySelector('#df-a0f29736-3336-4569-8cd0-9124ebd14830 button.colab-df-convert');\n",
              "      buttonEl.style.display =\n",
              "        google.colab.kernel.accessAllowed ? 'block' : 'none';\n",
              "\n",
              "      async function convertToInteractive(key) {\n",
              "        const element = document.querySelector('#df-a0f29736-3336-4569-8cd0-9124ebd14830');\n",
              "        const dataTable =\n",
              "          await google.colab.kernel.invokeFunction('convertToInteractive',\n",
              "                                                    [key], {});\n",
              "        if (!dataTable) return;\n",
              "\n",
              "        const docLinkHtml = 'Like what you see? Visit the ' +\n",
              "          '<a target=\"_blank\" href=https://colab.research.google.com/notebooks/data_table.ipynb>data table notebook</a>'\n",
              "          + ' to learn more about interactive tables.';\n",
              "        element.innerHTML = '';\n",
              "        dataTable['output_type'] = 'display_data';\n",
              "        await google.colab.output.renderOutput(dataTable, element);\n",
              "        const docLink = document.createElement('div');\n",
              "        docLink.innerHTML = docLinkHtml;\n",
              "        element.appendChild(docLink);\n",
              "      }\n",
              "    </script>\n",
              "  </div>\n",
              "\n",
              "\n",
              "<div id=\"df-d5dffa9f-84d7-4ff2-ae0b-276e42ca2268\">\n",
              "  <button class=\"colab-df-quickchart\" onclick=\"quickchart('df-d5dffa9f-84d7-4ff2-ae0b-276e42ca2268')\"\n",
              "            title=\"Suggest charts\"\n",
              "            style=\"display:none;\">\n",
              "\n",
              "<svg xmlns=\"http://www.w3.org/2000/svg\" height=\"24px\"viewBox=\"0 0 24 24\"\n",
              "     width=\"24px\">\n",
              "    <g>\n",
              "        <path d=\"M19 3H5c-1.1 0-2 .9-2 2v14c0 1.1.9 2 2 2h14c1.1 0 2-.9 2-2V5c0-1.1-.9-2-2-2zM9 17H7v-7h2v7zm4 0h-2V7h2v10zm4 0h-2v-4h2v4z\"/>\n",
              "    </g>\n",
              "</svg>\n",
              "  </button>\n",
              "\n",
              "<style>\n",
              "  .colab-df-quickchart {\n",
              "      --bg-color: #E8F0FE;\n",
              "      --fill-color: #1967D2;\n",
              "      --hover-bg-color: #E2EBFA;\n",
              "      --hover-fill-color: #174EA6;\n",
              "      --disabled-fill-color: #AAA;\n",
              "      --disabled-bg-color: #DDD;\n",
              "  }\n",
              "\n",
              "  [theme=dark] .colab-df-quickchart {\n",
              "      --bg-color: #3B4455;\n",
              "      --fill-color: #D2E3FC;\n",
              "      --hover-bg-color: #434B5C;\n",
              "      --hover-fill-color: #FFFFFF;\n",
              "      --disabled-bg-color: #3B4455;\n",
              "      --disabled-fill-color: #666;\n",
              "  }\n",
              "\n",
              "  .colab-df-quickchart {\n",
              "    background-color: var(--bg-color);\n",
              "    border: none;\n",
              "    border-radius: 50%;\n",
              "    cursor: pointer;\n",
              "    display: none;\n",
              "    fill: var(--fill-color);\n",
              "    height: 32px;\n",
              "    padding: 0;\n",
              "    width: 32px;\n",
              "  }\n",
              "\n",
              "  .colab-df-quickchart:hover {\n",
              "    background-color: var(--hover-bg-color);\n",
              "    box-shadow: 0 1px 2px rgba(60, 64, 67, 0.3), 0 1px 3px 1px rgba(60, 64, 67, 0.15);\n",
              "    fill: var(--button-hover-fill-color);\n",
              "  }\n",
              "\n",
              "  .colab-df-quickchart-complete:disabled,\n",
              "  .colab-df-quickchart-complete:disabled:hover {\n",
              "    background-color: var(--disabled-bg-color);\n",
              "    fill: var(--disabled-fill-color);\n",
              "    box-shadow: none;\n",
              "  }\n",
              "\n",
              "  .colab-df-spinner {\n",
              "    border: 2px solid var(--fill-color);\n",
              "    border-color: transparent;\n",
              "    border-bottom-color: var(--fill-color);\n",
              "    animation:\n",
              "      spin 1s steps(1) infinite;\n",
              "  }\n",
              "\n",
              "  @keyframes spin {\n",
              "    0% {\n",
              "      border-color: transparent;\n",
              "      border-bottom-color: var(--fill-color);\n",
              "      border-left-color: var(--fill-color);\n",
              "    }\n",
              "    20% {\n",
              "      border-color: transparent;\n",
              "      border-left-color: var(--fill-color);\n",
              "      border-top-color: var(--fill-color);\n",
              "    }\n",
              "    30% {\n",
              "      border-color: transparent;\n",
              "      border-left-color: var(--fill-color);\n",
              "      border-top-color: var(--fill-color);\n",
              "      border-right-color: var(--fill-color);\n",
              "    }\n",
              "    40% {\n",
              "      border-color: transparent;\n",
              "      border-right-color: var(--fill-color);\n",
              "      border-top-color: var(--fill-color);\n",
              "    }\n",
              "    60% {\n",
              "      border-color: transparent;\n",
              "      border-right-color: var(--fill-color);\n",
              "    }\n",
              "    80% {\n",
              "      border-color: transparent;\n",
              "      border-right-color: var(--fill-color);\n",
              "      border-bottom-color: var(--fill-color);\n",
              "    }\n",
              "    90% {\n",
              "      border-color: transparent;\n",
              "      border-bottom-color: var(--fill-color);\n",
              "    }\n",
              "  }\n",
              "</style>\n",
              "\n",
              "  <script>\n",
              "    async function quickchart(key) {\n",
              "      const quickchartButtonEl =\n",
              "        document.querySelector('#' + key + ' button');\n",
              "      quickchartButtonEl.disabled = true;  // To prevent multiple clicks.\n",
              "      quickchartButtonEl.classList.add('colab-df-spinner');\n",
              "      try {\n",
              "        const charts = await google.colab.kernel.invokeFunction(\n",
              "            'suggestCharts', [key], {});\n",
              "      } catch (error) {\n",
              "        console.error('Error during call to suggestCharts:', error);\n",
              "      }\n",
              "      quickchartButtonEl.classList.remove('colab-df-spinner');\n",
              "      quickchartButtonEl.classList.add('colab-df-quickchart-complete');\n",
              "    }\n",
              "    (() => {\n",
              "      let quickchartButtonEl =\n",
              "        document.querySelector('#df-d5dffa9f-84d7-4ff2-ae0b-276e42ca2268 button');\n",
              "      quickchartButtonEl.style.display =\n",
              "        google.colab.kernel.accessAllowed ? 'block' : 'none';\n",
              "    })();\n",
              "  </script>\n",
              "</div>\n",
              "\n",
              "    </div>\n",
              "  </div>\n"
            ]
          },
          "metadata": {},
          "execution_count": 3
        }
      ]
    },
    {
      "cell_type": "code",
      "metadata": {
        "id": "psVo1ZxHCyZ-"
      },
      "source": [
        "df.columns"
      ],
      "execution_count": null,
      "outputs": []
    },
    {
      "cell_type": "code",
      "metadata": {
        "id": "yToddasyh-77"
      },
      "source": [
        "df.describe()"
      ],
      "execution_count": null,
      "outputs": []
    },
    {
      "cell_type": "code",
      "source": [
        "df.head()"
      ],
      "metadata": {
        "id": "z4ALrx9owtGv"
      },
      "execution_count": null,
      "outputs": []
    },
    {
      "cell_type": "markdown",
      "source": [
        "Set KPI and date columns"
      ],
      "metadata": {
        "id": "eojj2vzU7bk7"
      }
    },
    {
      "cell_type": "code",
      "source": [
        "kpi_col = \"y1\" #@param {type:\"string\"}\n",
        "date_col = \"date\" #@param {type:\"string\"}"
      ],
      "metadata": {
        "id": "vmAz9wK07dBh"
      },
      "execution_count": null,
      "outputs": []
    },
    {
      "cell_type": "markdown",
      "metadata": {
        "id": "j2kOEcAxArc7"
      },
      "source": [
        "## 2) Run the RBA Model in BQML"
      ]
    },
    {
      "cell_type": "code",
      "source": [
        "################################################################################\n",
        "######################### CHANGE BQ PROJECT NAME BELOW #########################\n",
        "################################################################################"
      ],
      "metadata": {
        "id": "JTlB0wTXEgH2"
      },
      "execution_count": null,
      "outputs": []
    },
    {
      "cell_type": "markdown",
      "source": [
        "This model also includes a train/test split of 90/10 using the \"data_split_method\", \"data_split_eval_fraction\", and \"data_split_col\" parameters.\n",
        "\n",
        "Since this data is time series, we use a sequential split with the date column as the reference point.\n",
        "\n",
        "We suggest using a train/test split to validate model performance, but for attribution results we suggest running the model on the full dataset."
      ],
      "metadata": {
        "id": "Ef_lA3mrP5Ds"
      }
    },
    {
      "cell_type": "code",
      "metadata": {
        "id": "9cp6xyg278H7"
      },
      "source": [
        "%%bigquery\n",
        "CREATE OR REPLACE MODEL `.RBA_demo.RBA_model`  #update project name\n",
        "OPTIONS (model_type='boosted_tree_regressor',\n",
        "        #data_split_method = 'SEQ', #use these options for train/test splits\n",
        "        #data_split_eval_fraction = 0.1,\n",
        "        #data_split_col = 'date',\n",
        "        input_label_cols = ['y1'],\n",
        "        enable_global_explain = True)\n",
        "AS SELECT * EXCEPT(date)\n",
        "    FROM `.RBA_demo.cleaned_data`\n",
        "    #ORDER BY date; #update project name"
      ],
      "execution_count": null,
      "outputs": []
    },
    {
      "cell_type": "markdown",
      "metadata": {
        "id": "KtvXzEFDDeyp"
      },
      "source": [
        "### 2.1) Print the model evaluation metrics"
      ]
    },
    {
      "cell_type": "code",
      "source": [
        "################################################################################\n",
        "######################### CHANGE BQ PROJECT NAME BELOW #########################\n",
        "################################################################################"
      ],
      "metadata": {
        "id": "wJRETqIIEhrk"
      },
      "execution_count": null,
      "outputs": []
    },
    {
      "cell_type": "markdown",
      "source": [
        "Call the model evaluation metrics from the model and save to a dataframe \"evaluation_metrics\".\n",
        "\n",
        "For linear regression models The ML.EVALUATE function returns: mean absolute error,mean squared erorr, mean squared log error, median absolute error, r-squared, and explained variance metrics."
      ],
      "metadata": {
        "id": "lhOfZw5xOwdj"
      }
    },
    {
      "cell_type": "code",
      "metadata": {
        "id": "0KPZXxNXzkl-"
      },
      "source": [
        "%%bigquery evaluation_metrics\n",
        "SELECT *\n",
        "FROM ML.EVALUATE(MODEL `.RBA_demo.RBA_model`) #update project name"
      ],
      "execution_count": null,
      "outputs": []
    },
    {
      "cell_type": "code",
      "source": [
        "evaluation_metrics"
      ],
      "metadata": {
        "id": "u0lA4xMcQqi-"
      },
      "execution_count": null,
      "outputs": []
    },
    {
      "cell_type": "markdown",
      "source": [
        "WARNING: make sure evaluation metrics displayed in Colab match the BQ UI."
      ],
      "metadata": {
        "id": "rytclQ15eA1n"
      }
    },
    {
      "cell_type": "markdown",
      "source": [
        "### 2.2) Visualize model fit"
      ],
      "metadata": {
        "id": "s-WeCPeFKZ-x"
      }
    },
    {
      "cell_type": "code",
      "source": [
        "################################################################################\n",
        "######################### CHANGE BQ PROJECT NAME BELOW #########################\n",
        "################################################################################"
      ],
      "metadata": {
        "id": "sF80oyU6KnSe"
      },
      "execution_count": null,
      "outputs": []
    },
    {
      "cell_type": "markdown",
      "source": [
        "Select the predicted conversions (y1) of the model and actual conversions from the data (y1) using the ML.PREDICT function"
      ],
      "metadata": {
        "id": "EkHqYIKKKfbc"
      }
    },
    {
      "cell_type": "code",
      "source": [
        "%%bigquery model_predictions\n",
        "SELECT\n",
        "  *\n",
        "FROM\n",
        "  ML.PREDICT(MODEL `.RBA_demo.RBA_model`, #update project name\n",
        "    (\n",
        "    SELECT\n",
        "        *\n",
        "    FROM\n",
        "      `.RBA_demo.cleaned_data`\n",
        "      ORDER BY date)); #update project name"
      ],
      "metadata": {
        "id": "6tK38VliKZZb"
      },
      "execution_count": null,
      "outputs": []
    },
    {
      "cell_type": "markdown",
      "source": [
        "Visualize the model fit by comparing predicted vs. actual data."
      ],
      "metadata": {
        "id": "J460CbLiQI9P"
      }
    },
    {
      "cell_type": "code",
      "source": [
        "results = pd.DataFrame()\n",
        "results['actual'] = df[kpi_col]\n",
        "results['predicted'] = model_predictions.predicted_y1"
      ],
      "metadata": {
        "id": "nASYBh7dKs7s"
      },
      "execution_count": null,
      "outputs": []
    },
    {
      "cell_type": "code",
      "source": [
        "fig = px.line(results.sort_index())\n",
        "fig.show()"
      ],
      "metadata": {
        "id": "j4xh1O83KtPV"
      },
      "execution_count": null,
      "outputs": []
    },
    {
      "cell_type": "markdown",
      "metadata": {
        "id": "_5mUPHgA5a1V"
      },
      "source": [
        "## 3) Calculate contribution of each digital media tactic on conversions"
      ]
    },
    {
      "cell_type": "markdown",
      "source": [
        "To determine feature attribution, we use BQML's Global Explainability methodology. ML.GLOBAL_EXPLAIN provides explanations for the entire model by aggregating the local explanations of the evaluation data"
      ],
      "metadata": {
        "id": "mQhZOFBkuNdB"
      }
    },
    {
      "cell_type": "code",
      "source": [
        "%%bigquery feature_importance\n",
        "SELECT\n",
        "  *\n",
        "FROM\n",
        "  ML.GLOBAL_EXPLAIN(MODEL `RBA_demo.RBA_model`);"
      ],
      "metadata": {
        "id": "-N0HayKd2Lfh"
      },
      "execution_count": null,
      "outputs": []
    },
    {
      "cell_type": "code",
      "source": [
        "feature_importance"
      ],
      "metadata": {
        "id": "YboNcHiAuQBF"
      },
      "execution_count": null,
      "outputs": []
    },
    {
      "cell_type": "code",
      "source": [
        "sum_feature_imp = feature_importance.attribution.sum()\n",
        "scale_factor = 0.99 # pulled from BQ UI\n",
        "\n",
        "feature_importance['attribution %'] = feature_importance.attribution / (sum_feature_imp / scale_factor)\n",
        "feature_importance.sort_values(by = 'attribution %', ascending = False)"
      ],
      "metadata": {
        "id": "PKxqTYoyuRxM"
      },
      "execution_count": null,
      "outputs": []
    },
    {
      "cell_type": "code",
      "source": [
        "feature_importance['attribution %'].sum()"
      ],
      "metadata": {
        "id": "Bo137kTquUwO"
      },
      "execution_count": null,
      "outputs": []
    },
    {
      "cell_type": "markdown",
      "source": [
        "## 4) Export Final Results"
      ],
      "metadata": {
        "id": "nu2dFciNaj_F"
      }
    },
    {
      "cell_type": "code",
      "source": [
        "final_results_df = feature_importance[['feature','attribution %']]\n",
        "final_results_df.to_csv('rba_final_output.csv', encoding = 'utf-8-sig')\n",
        "files.download('rba_final_output.csv')"
      ],
      "metadata": {
        "id": "CLlaUtFdalvB"
      },
      "execution_count": null,
      "outputs": []
    }
  ]
}