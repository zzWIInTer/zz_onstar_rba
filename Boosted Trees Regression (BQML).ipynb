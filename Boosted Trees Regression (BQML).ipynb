{
  "nbformat": 4,
  "nbformat_minor": 0,
  "metadata": {
    "colab": {
      "name": "Boosted Trees Regression (BQML).ipynb",
      "provenance": []
    },
    "kernelspec": {
      "display_name": "Python 3",
      "name": "python3"
    },
    "language_info": {
      "name": "python"
    }
  },
  "cells": [
    {
      "cell_type": "markdown",
      "source": [
        "# Boosted Trees Regression (BQML)"
      ],
      "metadata": {
        "id": "CGuCVErsXdCQ"
      }
    },
    {
      "cell_type": "code",
      "source": [
        "###########################################################################\n",
        "#\n",
        "#  Copyright 2021 Google Inc.\n",
        "#\n",
        "#  Licensed under the Apache License, Version 2.0 (the \"License\");\n",
        "#  you may not use this file except in compliance with the License.\n",
        "#  You may obtain a copy of the License at\n",
        "#\n",
        "#      https://www.apache.org/licenses/LICENSE-2.0\n",
        "#\n",
        "#  Unless required by applicable law or agreed to in writing, software\n",
        "#  distributed under the License is distributed on an \"AS IS\" BASIS,\n",
        "#  WITHOUT WARRANTIES OR CONDITIONS OF ANY KIND, either express or implied.\n",
        "#  See the License for the specific language governing permissions and\n",
        "#  limitations under the License.\n",
        "#\n",
        "# This solution, including any related sample code or data, is made available\n",
        "# on an “as is,” “as available,” and “with all faults” basis, solely for\n",
        "# illustrative purposes, and without warranty or representation of any kind.\n",
        "# This solution is experimental, unsupported and provided solely for your\n",
        "# convenience. Your use of it is subject to your agreements with Google, as\n",
        "# applicable, and may constitute a beta feature as defined under those\n",
        "# agreements.  To the extent that you make any data available to Google in\n",
        "# connection with your use of the solution, you represent and warrant that you\n",
        "# have all necessary and appropriate rights, consents and permissions to permit\n",
        "# Google to use and process that data.  By using any portion of this solution,\n",
        "# you acknowledge, assume and accept all risks, known and unknown, associated\n",
        "# with its usage, including with respect to your deployment of any portion of\n",
        "# this solution in your systems, or usage in connection with your business,\n",
        "# if at all.\n",
        "###########################################################################"
      ],
      "metadata": {
        "id": "CmVlcj3kOlt7"
      },
      "execution_count": null,
      "outputs": []
    },
    {
      "cell_type": "markdown",
      "metadata": {
        "id": "l19lClJob3IR"
      },
      "source": [
        "## 0) Dependencies"
      ]
    },
    {
      "cell_type": "code",
      "source": [
        "################################################################################\n",
        "######################### CHANGE BQ PROJECT NAME BELOW #########################\n",
        "################################################################################\n",
        "\n",
        "project_name = 'OnStar_RBA_0708' #add proj name and dataset"
      ],
      "metadata": {
        "id": "UP5mRlhOEYk2"
      },
      "execution_count": 1,
      "outputs": []
    },
    {
      "cell_type": "code",
      "metadata": {
        "id": "4aupXJjFcHkq",
        "outputId": "fb2964b8-3839-49aa-8388-650a50267473",
        "colab": {
          "base_uri": "https://localhost:8080/"
        }
      },
      "source": [
        "# Google credentials authentication libraries\n",
        "from google.colab import auth\n",
        "auth.authenticate_user()\n",
        "\n",
        "# BigQuery Magics\n",
        "'''\n",
        "BigQuery magics are used to run BigQuery SQL queries in a python environment.\n",
        "These queries can also be run in the BigQuery UI\n",
        "'''\n",
        "\n",
        "from google.cloud import bigquery\n",
        "from google.cloud.bigquery import magics\n",
        "magics.context.project = project_name #update project name\n",
        "client = bigquery.Client(project=magics.context.project)\n",
        "%load_ext google.cloud.bigquery\n",
        "bigquery.USE_LEGACY_SQL = False\n",
        "\n",
        "\n",
        "# data processing libraries\n",
        "import numpy as np\n",
        "import pandas as pd\n",
        "\n",
        "\n",
        "# modeling and metrics\n",
        "from statsmodels.stats.stattools import durbin_watson\n",
        "import statsmodels.api as sm\n",
        "\n",
        "!pip install relativeImp\n",
        "from relativeImp import relativeImp\n",
        "!pip install shap\n",
        "import shap\n",
        "\n",
        "# visutalization\n",
        "import matplotlib.pyplot as plt\n",
        "import seaborn as sns\n",
        "import plotly.express as px\n",
        "\n",
        "from google.colab import files"
      ],
      "execution_count": 2,
      "outputs": [
        {
          "output_type": "stream",
          "name": "stdout",
          "text": [
            "Collecting relativeImp\n",
            "  Downloading relativeImp-0.0.2-py3-none-any.whl.metadata (3.1 kB)\n",
            "Requirement already satisfied: pandas in /usr/local/lib/python3.10/dist-packages (from relativeImp) (2.1.4)\n",
            "Requirement already satisfied: numpy in /usr/local/lib/python3.10/dist-packages (from relativeImp) (1.26.4)\n",
            "Requirement already satisfied: python-dateutil>=2.8.2 in /usr/local/lib/python3.10/dist-packages (from pandas->relativeImp) (2.8.2)\n",
            "Requirement already satisfied: pytz>=2020.1 in /usr/local/lib/python3.10/dist-packages (from pandas->relativeImp) (2024.1)\n",
            "Requirement already satisfied: tzdata>=2022.1 in /usr/local/lib/python3.10/dist-packages (from pandas->relativeImp) (2024.1)\n",
            "Requirement already satisfied: six>=1.5 in /usr/local/lib/python3.10/dist-packages (from python-dateutil>=2.8.2->pandas->relativeImp) (1.16.0)\n",
            "Downloading relativeImp-0.0.2-py3-none-any.whl (4.2 kB)\n",
            "Installing collected packages: relativeImp\n",
            "Successfully installed relativeImp-0.0.2\n",
            "Collecting shap\n",
            "  Downloading shap-0.46.0-cp310-cp310-manylinux_2_12_x86_64.manylinux2010_x86_64.manylinux_2_17_x86_64.manylinux2014_x86_64.whl.metadata (24 kB)\n",
            "Requirement already satisfied: numpy in /usr/local/lib/python3.10/dist-packages (from shap) (1.26.4)\n",
            "Requirement already satisfied: scipy in /usr/local/lib/python3.10/dist-packages (from shap) (1.13.1)\n",
            "Requirement already satisfied: scikit-learn in /usr/local/lib/python3.10/dist-packages (from shap) (1.3.2)\n",
            "Requirement already satisfied: pandas in /usr/local/lib/python3.10/dist-packages (from shap) (2.1.4)\n",
            "Requirement already satisfied: tqdm>=4.27.0 in /usr/local/lib/python3.10/dist-packages (from shap) (4.66.5)\n",
            "Requirement already satisfied: packaging>20.9 in /usr/local/lib/python3.10/dist-packages (from shap) (24.1)\n",
            "Collecting slicer==0.0.8 (from shap)\n",
            "  Downloading slicer-0.0.8-py3-none-any.whl.metadata (4.0 kB)\n",
            "Requirement already satisfied: numba in /usr/local/lib/python3.10/dist-packages (from shap) (0.60.0)\n",
            "Requirement already satisfied: cloudpickle in /usr/local/lib/python3.10/dist-packages (from shap) (2.2.1)\n",
            "Requirement already satisfied: llvmlite<0.44,>=0.43.0dev0 in /usr/local/lib/python3.10/dist-packages (from numba->shap) (0.43.0)\n",
            "Requirement already satisfied: python-dateutil>=2.8.2 in /usr/local/lib/python3.10/dist-packages (from pandas->shap) (2.8.2)\n",
            "Requirement already satisfied: pytz>=2020.1 in /usr/local/lib/python3.10/dist-packages (from pandas->shap) (2024.1)\n",
            "Requirement already satisfied: tzdata>=2022.1 in /usr/local/lib/python3.10/dist-packages (from pandas->shap) (2024.1)\n",
            "Requirement already satisfied: joblib>=1.1.1 in /usr/local/lib/python3.10/dist-packages (from scikit-learn->shap) (1.4.2)\n",
            "Requirement already satisfied: threadpoolctl>=2.0.0 in /usr/local/lib/python3.10/dist-packages (from scikit-learn->shap) (3.5.0)\n",
            "Requirement already satisfied: six>=1.5 in /usr/local/lib/python3.10/dist-packages (from python-dateutil>=2.8.2->pandas->shap) (1.16.0)\n",
            "Downloading shap-0.46.0-cp310-cp310-manylinux_2_12_x86_64.manylinux2010_x86_64.manylinux_2_17_x86_64.manylinux2014_x86_64.whl (540 kB)\n",
            "\u001b[2K   \u001b[90m━━━━━━━━━━━━━━━━━━━━━━━━━━━━━━━━━━━━━━━━\u001b[0m \u001b[32m540.1/540.1 kB\u001b[0m \u001b[31m17.1 MB/s\u001b[0m eta \u001b[36m0:00:00\u001b[0m\n",
            "\u001b[?25hDownloading slicer-0.0.8-py3-none-any.whl (15 kB)\n",
            "Installing collected packages: slicer, shap\n",
            "Successfully installed shap-0.46.0 slicer-0.0.8\n"
          ]
        }
      ]
    },
    {
      "cell_type": "markdown",
      "metadata": {
        "id": "8N8-scWPc7fP"
      },
      "source": [
        "## 1) Import dataset"
      ]
    },
    {
      "cell_type": "markdown",
      "source": [
        "Import the data using the bigquery magics (%% command).\n",
        "Pulls all of the data from the cleaned data table and stores into a dataframe \"df\""
      ],
      "metadata": {
        "id": "uMBW9Yj3KYNQ"
      }
    },
    {
      "cell_type": "code",
      "source": [
        "################################################################################\n",
        "######################### CHANGE BQ PROJECT NAME BELOW #########################\n",
        "################################################################################"
      ],
      "metadata": {
        "id": "KtVgu2pdEeXJ"
      },
      "execution_count": null,
      "outputs": []
    },
    {
      "cell_type": "code",
      "source": [
        "# %%bigquery df\n",
        "# SELECT *\n",
        "# FROM `.RBA_demo.cleaned_data`\n",
        "# ORDER BY date; #update project name"
      ],
      "metadata": {
        "id": "c18LF5c8zovb"
      },
      "execution_count": null,
      "outputs": []
    },
    {
      "cell_type": "code",
      "source": [
        "#update file name\n",
        "#file_name = 'https://raw.githubusercontent.com/zzWIInTer/zz_onstar_rba/master/final_cleaned_data.csv'\n",
        "#file_name = 'https://raw.githubusercontent.com/zzWIInTer/zz_onstar_rba/master/final_cleaned_data_0708.csv'\n",
        "#file_name = 'https://raw.githubusercontent.com/zzWIInTer/zz_onstar_rba/master/FY2024_final_cleaned_data_0725.csv'\n",
        "#file_name = 'https://raw.githubusercontent.com/zzWIInTer/zz_onstar_rba/master/final_cleaned_data_08262024.csv'\n",
        "file_name = 'https://raw.githubusercontent.com/zzWIInTer/zz_onstar_rba/master/FY2024_final_cleaned_data_08262024.csv'\n",
        "df_raw = pd.read_csv(file_name)\n",
        "df_raw.fillna(0, inplace=True)\n",
        "\n",
        "\n",
        "#df = df_raw.drop(columns = ['DIV_WYG_PPl21_0p0_0d0_12']).copy()\n",
        "df = df_raw.copy()\n",
        "\n",
        "df.head()"
      ],
      "metadata": {
        "id": "v2xtMTBcURC2",
        "outputId": "6c862924-3bde-49e0-8336-f0bdee8c1f58",
        "colab": {
          "base_uri": "https://localhost:8080/",
          "height": 255
        }
      },
      "execution_count": 21,
      "outputs": [
        {
          "output_type": "execute_result",
          "data": {
            "text/plain": [
              "       Date  A_OC_GOOGLE_SHOPPING  Is_NYE  C_DIV_BUY_CONNECTEDl21_0p0_0d0_0  \\\n",
              "0  1/1/2024                   354     1.0                         -1.828030   \n",
              "1  1/2/2024                  1151     0.0                         -1.498295   \n",
              "2  1/3/2024                  1259     0.0                         -1.278471   \n",
              "3  1/4/2024                  1210     0.0                         -0.893780   \n",
              "4  1/5/2024                  1200     0.0                         -0.564044   \n",
              "\n",
              "   C_DIV_BUY_ESSENTIALSl21_0p0_0d0_12  C_DIV_BUY_PREMIUMl21_0p0_0d0_0  \\\n",
              "0                           -2.526448                       -2.104763   \n",
              "1                           -1.701873                       -1.692545   \n",
              "2                           -0.686296                       -0.661999   \n",
              "3                           -1.040351                       -1.417733   \n",
              "4                           -2.027976                       -1.692545   \n",
              "\n",
              "   C_DIV_BUY_SSl21_0p0_0d0_06  C_DIV_CONN_DATAl21_0p0_0d0_06  \\\n",
              "0                   -2.063396                      -0.729938   \n",
              "1                   -1.611430                       0.193948   \n",
              "2                   -1.714378                      -1.520723   \n",
              "3                   -0.717541                      -0.060512   \n",
              "4                   -0.782825                      -0.358035   \n",
              "\n",
              "   C_DIV_CONN_REMOTEl21_0p0_0d0_12  C_DIV_CONN_TRYl21_0p0_0d0_12  ...  \\\n",
              "0                        -1.250854                     -1.956002  ...   \n",
              "1                        -1.511079                     -1.263386  ...   \n",
              "2                         0.331041                     -0.917079  ...   \n",
              "3                        -0.983781                      0.512837  ...   \n",
              "4                         1.056933                     -0.436717  ...   \n",
              "\n",
              "   DIV_PLANPAGE_CONNl21_0p0_0d0_0  DIV_PLANPAGE_ESSl21_0p0_0d0_06  \\\n",
              "0                       -2.219101                       -1.762813   \n",
              "1                       -0.652023                        0.663929   \n",
              "2                       -0.090557                        0.328018   \n",
              "3                       -0.392240                        0.263726   \n",
              "4                       -0.140838                        0.887628   \n",
              "\n",
              "   DIV_PLANPAGE_HOMEl21_0p0_0d0_12  DIV_WYG_PPl21_0p0_0d0_0  \\\n",
              "0                        -1.998409                -1.529526   \n",
              "1                        -0.551123                 0.694164   \n",
              "2                        -0.065951                 1.056014   \n",
              "3                        -0.283491                 0.420674   \n",
              "4                        -0.435376                 0.342834   \n",
              "\n",
              "   OC_APP_Accessl21_0p0_0d0_06  OC_PAGE_ESSl21_0p0_0d0_0  \\\n",
              "0                    -2.932118                 -0.948632   \n",
              "1                    -0.204862                  3.622656   \n",
              "2                    -0.331250                  0.567805   \n",
              "3                    -0.842920                 -0.054887   \n",
              "4                    -0.799820                 -0.186751   \n",
              "\n",
              "   OC_PAGE_PREFl21_0p0_0d0_06  OC_PAGE_PREMl21_0p0_0d0_06  \\\n",
              "0                   -2.519696                   -1.567837   \n",
              "1                   -1.369898                   -0.598367   \n",
              "2                   -1.168232                   -0.461871   \n",
              "3                   -1.077934                   -0.663535   \n",
              "4                   -1.401366                   -0.568137   \n",
              "\n",
              "   SC_BUYNOWl21_0p0_0d0_12  SC_SHOPNOWl21_0p0_0d0_06  \n",
              "0                -0.172139                 -0.314432  \n",
              "1                -0.881182                 -1.108435  \n",
              "2                -0.172139                 -0.314432  \n",
              "3                -0.881182                 -0.263751  \n",
              "4                 3.856514                  0.580933  \n",
              "\n",
              "[5 rows x 34 columns]"
            ],
            "text/html": [
              "\n",
              "  <div id=\"df-1b2fef01-75ae-4fe1-9836-9400d5145637\" class=\"colab-df-container\">\n",
              "    <div>\n",
              "<style scoped>\n",
              "    .dataframe tbody tr th:only-of-type {\n",
              "        vertical-align: middle;\n",
              "    }\n",
              "\n",
              "    .dataframe tbody tr th {\n",
              "        vertical-align: top;\n",
              "    }\n",
              "\n",
              "    .dataframe thead th {\n",
              "        text-align: right;\n",
              "    }\n",
              "</style>\n",
              "<table border=\"1\" class=\"dataframe\">\n",
              "  <thead>\n",
              "    <tr style=\"text-align: right;\">\n",
              "      <th></th>\n",
              "      <th>Date</th>\n",
              "      <th>A_OC_GOOGLE_SHOPPING</th>\n",
              "      <th>Is_NYE</th>\n",
              "      <th>C_DIV_BUY_CONNECTEDl21_0p0_0d0_0</th>\n",
              "      <th>C_DIV_BUY_ESSENTIALSl21_0p0_0d0_12</th>\n",
              "      <th>C_DIV_BUY_PREMIUMl21_0p0_0d0_0</th>\n",
              "      <th>C_DIV_BUY_SSl21_0p0_0d0_06</th>\n",
              "      <th>C_DIV_CONN_DATAl21_0p0_0d0_06</th>\n",
              "      <th>C_DIV_CONN_REMOTEl21_0p0_0d0_12</th>\n",
              "      <th>C_DIV_CONN_TRYl21_0p0_0d0_12</th>\n",
              "      <th>...</th>\n",
              "      <th>DIV_PLANPAGE_CONNl21_0p0_0d0_0</th>\n",
              "      <th>DIV_PLANPAGE_ESSl21_0p0_0d0_06</th>\n",
              "      <th>DIV_PLANPAGE_HOMEl21_0p0_0d0_12</th>\n",
              "      <th>DIV_WYG_PPl21_0p0_0d0_0</th>\n",
              "      <th>OC_APP_Accessl21_0p0_0d0_06</th>\n",
              "      <th>OC_PAGE_ESSl21_0p0_0d0_0</th>\n",
              "      <th>OC_PAGE_PREFl21_0p0_0d0_06</th>\n",
              "      <th>OC_PAGE_PREMl21_0p0_0d0_06</th>\n",
              "      <th>SC_BUYNOWl21_0p0_0d0_12</th>\n",
              "      <th>SC_SHOPNOWl21_0p0_0d0_06</th>\n",
              "    </tr>\n",
              "  </thead>\n",
              "  <tbody>\n",
              "    <tr>\n",
              "      <th>0</th>\n",
              "      <td>1/1/2024</td>\n",
              "      <td>354</td>\n",
              "      <td>1.0</td>\n",
              "      <td>-1.828030</td>\n",
              "      <td>-2.526448</td>\n",
              "      <td>-2.104763</td>\n",
              "      <td>-2.063396</td>\n",
              "      <td>-0.729938</td>\n",
              "      <td>-1.250854</td>\n",
              "      <td>-1.956002</td>\n",
              "      <td>...</td>\n",
              "      <td>-2.219101</td>\n",
              "      <td>-1.762813</td>\n",
              "      <td>-1.998409</td>\n",
              "      <td>-1.529526</td>\n",
              "      <td>-2.932118</td>\n",
              "      <td>-0.948632</td>\n",
              "      <td>-2.519696</td>\n",
              "      <td>-1.567837</td>\n",
              "      <td>-0.172139</td>\n",
              "      <td>-0.314432</td>\n",
              "    </tr>\n",
              "    <tr>\n",
              "      <th>1</th>\n",
              "      <td>1/2/2024</td>\n",
              "      <td>1151</td>\n",
              "      <td>0.0</td>\n",
              "      <td>-1.498295</td>\n",
              "      <td>-1.701873</td>\n",
              "      <td>-1.692545</td>\n",
              "      <td>-1.611430</td>\n",
              "      <td>0.193948</td>\n",
              "      <td>-1.511079</td>\n",
              "      <td>-1.263386</td>\n",
              "      <td>...</td>\n",
              "      <td>-0.652023</td>\n",
              "      <td>0.663929</td>\n",
              "      <td>-0.551123</td>\n",
              "      <td>0.694164</td>\n",
              "      <td>-0.204862</td>\n",
              "      <td>3.622656</td>\n",
              "      <td>-1.369898</td>\n",
              "      <td>-0.598367</td>\n",
              "      <td>-0.881182</td>\n",
              "      <td>-1.108435</td>\n",
              "    </tr>\n",
              "    <tr>\n",
              "      <th>2</th>\n",
              "      <td>1/3/2024</td>\n",
              "      <td>1259</td>\n",
              "      <td>0.0</td>\n",
              "      <td>-1.278471</td>\n",
              "      <td>-0.686296</td>\n",
              "      <td>-0.661999</td>\n",
              "      <td>-1.714378</td>\n",
              "      <td>-1.520723</td>\n",
              "      <td>0.331041</td>\n",
              "      <td>-0.917079</td>\n",
              "      <td>...</td>\n",
              "      <td>-0.090557</td>\n",
              "      <td>0.328018</td>\n",
              "      <td>-0.065951</td>\n",
              "      <td>1.056014</td>\n",
              "      <td>-0.331250</td>\n",
              "      <td>0.567805</td>\n",
              "      <td>-1.168232</td>\n",
              "      <td>-0.461871</td>\n",
              "      <td>-0.172139</td>\n",
              "      <td>-0.314432</td>\n",
              "    </tr>\n",
              "    <tr>\n",
              "      <th>3</th>\n",
              "      <td>1/4/2024</td>\n",
              "      <td>1210</td>\n",
              "      <td>0.0</td>\n",
              "      <td>-0.893780</td>\n",
              "      <td>-1.040351</td>\n",
              "      <td>-1.417733</td>\n",
              "      <td>-0.717541</td>\n",
              "      <td>-0.060512</td>\n",
              "      <td>-0.983781</td>\n",
              "      <td>0.512837</td>\n",
              "      <td>...</td>\n",
              "      <td>-0.392240</td>\n",
              "      <td>0.263726</td>\n",
              "      <td>-0.283491</td>\n",
              "      <td>0.420674</td>\n",
              "      <td>-0.842920</td>\n",
              "      <td>-0.054887</td>\n",
              "      <td>-1.077934</td>\n",
              "      <td>-0.663535</td>\n",
              "      <td>-0.881182</td>\n",
              "      <td>-0.263751</td>\n",
              "    </tr>\n",
              "    <tr>\n",
              "      <th>4</th>\n",
              "      <td>1/5/2024</td>\n",
              "      <td>1200</td>\n",
              "      <td>0.0</td>\n",
              "      <td>-0.564044</td>\n",
              "      <td>-2.027976</td>\n",
              "      <td>-1.692545</td>\n",
              "      <td>-0.782825</td>\n",
              "      <td>-0.358035</td>\n",
              "      <td>1.056933</td>\n",
              "      <td>-0.436717</td>\n",
              "      <td>...</td>\n",
              "      <td>-0.140838</td>\n",
              "      <td>0.887628</td>\n",
              "      <td>-0.435376</td>\n",
              "      <td>0.342834</td>\n",
              "      <td>-0.799820</td>\n",
              "      <td>-0.186751</td>\n",
              "      <td>-1.401366</td>\n",
              "      <td>-0.568137</td>\n",
              "      <td>3.856514</td>\n",
              "      <td>0.580933</td>\n",
              "    </tr>\n",
              "  </tbody>\n",
              "</table>\n",
              "<p>5 rows × 34 columns</p>\n",
              "</div>\n",
              "    <div class=\"colab-df-buttons\">\n",
              "\n",
              "  <div class=\"colab-df-container\">\n",
              "    <button class=\"colab-df-convert\" onclick=\"convertToInteractive('df-1b2fef01-75ae-4fe1-9836-9400d5145637')\"\n",
              "            title=\"Convert this dataframe to an interactive table.\"\n",
              "            style=\"display:none;\">\n",
              "\n",
              "  <svg xmlns=\"http://www.w3.org/2000/svg\" height=\"24px\" viewBox=\"0 -960 960 960\">\n",
              "    <path d=\"M120-120v-720h720v720H120Zm60-500h600v-160H180v160Zm220 220h160v-160H400v160Zm0 220h160v-160H400v160ZM180-400h160v-160H180v160Zm440 0h160v-160H620v160ZM180-180h160v-160H180v160Zm440 0h160v-160H620v160Z\"/>\n",
              "  </svg>\n",
              "    </button>\n",
              "\n",
              "  <style>\n",
              "    .colab-df-container {\n",
              "      display:flex;\n",
              "      gap: 12px;\n",
              "    }\n",
              "\n",
              "    .colab-df-convert {\n",
              "      background-color: #E8F0FE;\n",
              "      border: none;\n",
              "      border-radius: 50%;\n",
              "      cursor: pointer;\n",
              "      display: none;\n",
              "      fill: #1967D2;\n",
              "      height: 32px;\n",
              "      padding: 0 0 0 0;\n",
              "      width: 32px;\n",
              "    }\n",
              "\n",
              "    .colab-df-convert:hover {\n",
              "      background-color: #E2EBFA;\n",
              "      box-shadow: 0px 1px 2px rgba(60, 64, 67, 0.3), 0px 1px 3px 1px rgba(60, 64, 67, 0.15);\n",
              "      fill: #174EA6;\n",
              "    }\n",
              "\n",
              "    .colab-df-buttons div {\n",
              "      margin-bottom: 4px;\n",
              "    }\n",
              "\n",
              "    [theme=dark] .colab-df-convert {\n",
              "      background-color: #3B4455;\n",
              "      fill: #D2E3FC;\n",
              "    }\n",
              "\n",
              "    [theme=dark] .colab-df-convert:hover {\n",
              "      background-color: #434B5C;\n",
              "      box-shadow: 0px 1px 3px 1px rgba(0, 0, 0, 0.15);\n",
              "      filter: drop-shadow(0px 1px 2px rgba(0, 0, 0, 0.3));\n",
              "      fill: #FFFFFF;\n",
              "    }\n",
              "  </style>\n",
              "\n",
              "    <script>\n",
              "      const buttonEl =\n",
              "        document.querySelector('#df-1b2fef01-75ae-4fe1-9836-9400d5145637 button.colab-df-convert');\n",
              "      buttonEl.style.display =\n",
              "        google.colab.kernel.accessAllowed ? 'block' : 'none';\n",
              "\n",
              "      async function convertToInteractive(key) {\n",
              "        const element = document.querySelector('#df-1b2fef01-75ae-4fe1-9836-9400d5145637');\n",
              "        const dataTable =\n",
              "          await google.colab.kernel.invokeFunction('convertToInteractive',\n",
              "                                                    [key], {});\n",
              "        if (!dataTable) return;\n",
              "\n",
              "        const docLinkHtml = 'Like what you see? Visit the ' +\n",
              "          '<a target=\"_blank\" href=https://colab.research.google.com/notebooks/data_table.ipynb>data table notebook</a>'\n",
              "          + ' to learn more about interactive tables.';\n",
              "        element.innerHTML = '';\n",
              "        dataTable['output_type'] = 'display_data';\n",
              "        await google.colab.output.renderOutput(dataTable, element);\n",
              "        const docLink = document.createElement('div');\n",
              "        docLink.innerHTML = docLinkHtml;\n",
              "        element.appendChild(docLink);\n",
              "      }\n",
              "    </script>\n",
              "  </div>\n",
              "\n",
              "\n",
              "<div id=\"df-119373fc-e6c5-4fd4-9742-1f409f9c37e0\">\n",
              "  <button class=\"colab-df-quickchart\" onclick=\"quickchart('df-119373fc-e6c5-4fd4-9742-1f409f9c37e0')\"\n",
              "            title=\"Suggest charts\"\n",
              "            style=\"display:none;\">\n",
              "\n",
              "<svg xmlns=\"http://www.w3.org/2000/svg\" height=\"24px\"viewBox=\"0 0 24 24\"\n",
              "     width=\"24px\">\n",
              "    <g>\n",
              "        <path d=\"M19 3H5c-1.1 0-2 .9-2 2v14c0 1.1.9 2 2 2h14c1.1 0 2-.9 2-2V5c0-1.1-.9-2-2-2zM9 17H7v-7h2v7zm4 0h-2V7h2v10zm4 0h-2v-4h2v4z\"/>\n",
              "    </g>\n",
              "</svg>\n",
              "  </button>\n",
              "\n",
              "<style>\n",
              "  .colab-df-quickchart {\n",
              "      --bg-color: #E8F0FE;\n",
              "      --fill-color: #1967D2;\n",
              "      --hover-bg-color: #E2EBFA;\n",
              "      --hover-fill-color: #174EA6;\n",
              "      --disabled-fill-color: #AAA;\n",
              "      --disabled-bg-color: #DDD;\n",
              "  }\n",
              "\n",
              "  [theme=dark] .colab-df-quickchart {\n",
              "      --bg-color: #3B4455;\n",
              "      --fill-color: #D2E3FC;\n",
              "      --hover-bg-color: #434B5C;\n",
              "      --hover-fill-color: #FFFFFF;\n",
              "      --disabled-bg-color: #3B4455;\n",
              "      --disabled-fill-color: #666;\n",
              "  }\n",
              "\n",
              "  .colab-df-quickchart {\n",
              "    background-color: var(--bg-color);\n",
              "    border: none;\n",
              "    border-radius: 50%;\n",
              "    cursor: pointer;\n",
              "    display: none;\n",
              "    fill: var(--fill-color);\n",
              "    height: 32px;\n",
              "    padding: 0;\n",
              "    width: 32px;\n",
              "  }\n",
              "\n",
              "  .colab-df-quickchart:hover {\n",
              "    background-color: var(--hover-bg-color);\n",
              "    box-shadow: 0 1px 2px rgba(60, 64, 67, 0.3), 0 1px 3px 1px rgba(60, 64, 67, 0.15);\n",
              "    fill: var(--button-hover-fill-color);\n",
              "  }\n",
              "\n",
              "  .colab-df-quickchart-complete:disabled,\n",
              "  .colab-df-quickchart-complete:disabled:hover {\n",
              "    background-color: var(--disabled-bg-color);\n",
              "    fill: var(--disabled-fill-color);\n",
              "    box-shadow: none;\n",
              "  }\n",
              "\n",
              "  .colab-df-spinner {\n",
              "    border: 2px solid var(--fill-color);\n",
              "    border-color: transparent;\n",
              "    border-bottom-color: var(--fill-color);\n",
              "    animation:\n",
              "      spin 1s steps(1) infinite;\n",
              "  }\n",
              "\n",
              "  @keyframes spin {\n",
              "    0% {\n",
              "      border-color: transparent;\n",
              "      border-bottom-color: var(--fill-color);\n",
              "      border-left-color: var(--fill-color);\n",
              "    }\n",
              "    20% {\n",
              "      border-color: transparent;\n",
              "      border-left-color: var(--fill-color);\n",
              "      border-top-color: var(--fill-color);\n",
              "    }\n",
              "    30% {\n",
              "      border-color: transparent;\n",
              "      border-left-color: var(--fill-color);\n",
              "      border-top-color: var(--fill-color);\n",
              "      border-right-color: var(--fill-color);\n",
              "    }\n",
              "    40% {\n",
              "      border-color: transparent;\n",
              "      border-right-color: var(--fill-color);\n",
              "      border-top-color: var(--fill-color);\n",
              "    }\n",
              "    60% {\n",
              "      border-color: transparent;\n",
              "      border-right-color: var(--fill-color);\n",
              "    }\n",
              "    80% {\n",
              "      border-color: transparent;\n",
              "      border-right-color: var(--fill-color);\n",
              "      border-bottom-color: var(--fill-color);\n",
              "    }\n",
              "    90% {\n",
              "      border-color: transparent;\n",
              "      border-bottom-color: var(--fill-color);\n",
              "    }\n",
              "  }\n",
              "</style>\n",
              "\n",
              "  <script>\n",
              "    async function quickchart(key) {\n",
              "      const quickchartButtonEl =\n",
              "        document.querySelector('#' + key + ' button');\n",
              "      quickchartButtonEl.disabled = true;  // To prevent multiple clicks.\n",
              "      quickchartButtonEl.classList.add('colab-df-spinner');\n",
              "      try {\n",
              "        const charts = await google.colab.kernel.invokeFunction(\n",
              "            'suggestCharts', [key], {});\n",
              "      } catch (error) {\n",
              "        console.error('Error during call to suggestCharts:', error);\n",
              "      }\n",
              "      quickchartButtonEl.classList.remove('colab-df-spinner');\n",
              "      quickchartButtonEl.classList.add('colab-df-quickchart-complete');\n",
              "    }\n",
              "    (() => {\n",
              "      let quickchartButtonEl =\n",
              "        document.querySelector('#df-119373fc-e6c5-4fd4-9742-1f409f9c37e0 button');\n",
              "      quickchartButtonEl.style.display =\n",
              "        google.colab.kernel.accessAllowed ? 'block' : 'none';\n",
              "    })();\n",
              "  </script>\n",
              "</div>\n",
              "\n",
              "    </div>\n",
              "  </div>\n"
            ],
            "application/vnd.google.colaboratory.intrinsic+json": {
              "type": "dataframe",
              "variable_name": "df"
            }
          },
          "metadata": {},
          "execution_count": 21
        }
      ]
    },
    {
      "cell_type": "code",
      "metadata": {
        "id": "psVo1ZxHCyZ-",
        "colab": {
          "base_uri": "https://localhost:8080/"
        },
        "outputId": "de49c32f-869a-4051-8623-9033477fe2f7"
      },
      "source": [
        "#df.columns\n",
        "df.info()"
      ],
      "execution_count": 22,
      "outputs": [
        {
          "output_type": "stream",
          "name": "stdout",
          "text": [
            "<class 'pandas.core.frame.DataFrame'>\n",
            "RangeIndex: 136 entries, 0 to 135\n",
            "Data columns (total 34 columns):\n",
            " #   Column                              Non-Null Count  Dtype  \n",
            "---  ------                              --------------  -----  \n",
            " 0   Date                                136 non-null    object \n",
            " 1   A_OC_GOOGLE_SHOPPING                136 non-null    int64  \n",
            " 2   Is_NYE                              136 non-null    float64\n",
            " 3   C_DIV_BUY_CONNECTEDl21_0p0_0d0_0    136 non-null    float64\n",
            " 4   C_DIV_BUY_ESSENTIALSl21_0p0_0d0_12  136 non-null    float64\n",
            " 5   C_DIV_BUY_PREMIUMl21_0p0_0d0_0      136 non-null    float64\n",
            " 6   C_DIV_BUY_SSl21_0p0_0d0_06          136 non-null    float64\n",
            " 7   C_DIV_CONN_DATAl21_0p0_0d0_06       136 non-null    float64\n",
            " 8   C_DIV_CONN_REMOTEl21_0p0_0d0_12     136 non-null    float64\n",
            " 9   C_DIV_CONN_TRYl21_0p0_0d0_12        136 non-null    float64\n",
            " 10  C_DIV_GETNOW_CONNl21_0p0_0d0_12     136 non-null    float64\n",
            " 11  C_DIV_GETNOW_ESSl21_0p0_0d0_06      136 non-null    float64\n",
            " 12  C_DIV_GETNOW_PREMl21_0p0_0d0_06     136 non-null    float64\n",
            " 13  C_DIV_GETNOW_SSl21_0p0_0d0_12       136 non-null    float64\n",
            " 14  C_PP_PKG_APP_ACCESSl21_0p0_0d0_06   136 non-null    float64\n",
            " 15  C_PP_PKG_CONNECTEDl21_0p0_0d0_0     136 non-null    float64\n",
            " 16  C_PP_PKG_ESSl21_0p0_0d0_12          136 non-null    float64\n",
            " 17  C_PP_PKG_PREMl21_0p0_0d0_0          136 non-null    float64\n",
            " 18  C_PP_PKG_REMOTEl21_0p0_0d0_0        136 non-null    float64\n",
            " 19  C_PP_PKG_SCl21_0p0_0d0_06           136 non-null    float64\n",
            " 20  C_PP_PKG_SSl21_0p0_0d0_12           136 non-null    float64\n",
            " 21  DIV_GMOC_SHOP_ESSl21_0p0_0d0_0      136 non-null    float64\n",
            " 22  DIV_GMOC_SHOP_SSl21_0p0_0d0_0       136 non-null    float64\n",
            " 23  DIV_PKG_SS_ROADSIDEl21_0p0_0d0_06   136 non-null    float64\n",
            " 24  DIV_PLANPAGE_CONNl21_0p0_0d0_0      136 non-null    float64\n",
            " 25  DIV_PLANPAGE_ESSl21_0p0_0d0_06      136 non-null    float64\n",
            " 26  DIV_PLANPAGE_HOMEl21_0p0_0d0_12     136 non-null    float64\n",
            " 27  DIV_WYG_PPl21_0p0_0d0_0             136 non-null    float64\n",
            " 28  OC_APP_Accessl21_0p0_0d0_06         136 non-null    float64\n",
            " 29  OC_PAGE_ESSl21_0p0_0d0_0            136 non-null    float64\n",
            " 30  OC_PAGE_PREFl21_0p0_0d0_06          136 non-null    float64\n",
            " 31  OC_PAGE_PREMl21_0p0_0d0_06          136 non-null    float64\n",
            " 32  SC_BUYNOWl21_0p0_0d0_12             136 non-null    float64\n",
            " 33  SC_SHOPNOWl21_0p0_0d0_06            136 non-null    float64\n",
            "dtypes: float64(32), int64(1), object(1)\n",
            "memory usage: 36.2+ KB\n"
          ]
        }
      ]
    },
    {
      "cell_type": "code",
      "metadata": {
        "id": "yToddasyh-77"
      },
      "source": [
        "#df.describe()"
      ],
      "execution_count": 8,
      "outputs": []
    },
    {
      "cell_type": "code",
      "source": [
        "#df.head()"
      ],
      "metadata": {
        "id": "z4ALrx9owtGv"
      },
      "execution_count": 9,
      "outputs": []
    },
    {
      "cell_type": "markdown",
      "source": [
        "Set KPI and date columns"
      ],
      "metadata": {
        "id": "eojj2vzU7bk7"
      }
    },
    {
      "cell_type": "code",
      "source": [
        "kpi_col = \"A_OC_GOOGLE_SHOPPING\" #@param {type:\"string\"}\n",
        "date_col = \"Date\" #@param {type:\"string\"}"
      ],
      "metadata": {
        "id": "vmAz9wK07dBh"
      },
      "execution_count": 23,
      "outputs": []
    },
    {
      "cell_type": "markdown",
      "metadata": {
        "id": "j2kOEcAxArc7"
      },
      "source": [
        "## 2) Run the RBA Model in BQML"
      ]
    },
    {
      "cell_type": "code",
      "source": [
        "################################################################################\n",
        "######################### CHANGE BQ PROJECT NAME BELOW #########################\n",
        "################################################################################"
      ],
      "metadata": {
        "id": "JTlB0wTXEgH2"
      },
      "execution_count": null,
      "outputs": []
    },
    {
      "cell_type": "markdown",
      "source": [
        "This model also includes a train/test split of 90/10 using the \"data_split_method\", \"data_split_eval_fraction\", and \"data_split_col\" parameters.\n",
        "\n",
        "Since this data is time series, we use a sequential split with the date column as the reference point.\n",
        "\n",
        "We suggest using a train/test split to validate model performance, but for attribution results we suggest running the model on the full dataset."
      ],
      "metadata": {
        "id": "Ef_lA3mrP5Ds"
      }
    },
    {
      "cell_type": "code",
      "metadata": {
        "id": "9cp6xyg278H7"
      },
      "source": [
        "# %%bigquery\n",
        "# CREATE OR REPLACE MODEL `.RBA_demo.RBA_model`  #update project name\n",
        "# OPTIONS (model_type='boosted_tree_regressor',\n",
        "#         #data_split_method = 'SEQ', #use these options for train/test splits\n",
        "#         #data_split_eval_fraction = 0.1,\n",
        "#         #data_split_col = 'date',\n",
        "#         input_label_cols = ['y1'],\n",
        "#         enable_global_explain = True)\n",
        "# AS SELECT * EXCEPT(date)\n",
        "#     FROM `.RBA_demo.cleaned_data`\n",
        "#     #ORDER BY date; #update project name"
      ],
      "execution_count": null,
      "outputs": []
    },
    {
      "cell_type": "code",
      "source": [
        "import xgboost as xgb\n",
        "\n",
        "# Prepare your features and target variable\n",
        "X_all = df.drop(columns = [kpi_col,date_col], axis=1)  # Assuming 'y1' is your target variable\n",
        "y = df[kpi_col]\n",
        "\n",
        "# Create the XGBoost model\n",
        "model_all = xgb.XGBRegressor(objective ='reg:squarederror', enable_categorical=True)\n",
        "\n",
        "# Fit the model\n",
        "model_all.fit(X_all, y)\n",
        "\n",
        "# Evaluate the model on the test data\n",
        "#y_pred = model_all.predict(X_all)\n"
      ],
      "metadata": {
        "colab": {
          "base_uri": "https://localhost:8080/",
          "height": 248
        },
        "id": "NBO_U3fTxB_6",
        "outputId": "2ab2f5c1-e278-4f9c-eed1-f40a43532574"
      },
      "execution_count": 24,
      "outputs": [
        {
          "output_type": "execute_result",
          "data": {
            "text/plain": [
              "XGBRegressor(base_score=None, booster=None, callbacks=None,\n",
              "             colsample_bylevel=None, colsample_bynode=None,\n",
              "             colsample_bytree=None, device=None, early_stopping_rounds=None,\n",
              "             enable_categorical=True, eval_metric=None, feature_types=None,\n",
              "             gamma=None, grow_policy=None, importance_type=None,\n",
              "             interaction_constraints=None, learning_rate=None, max_bin=None,\n",
              "             max_cat_threshold=None, max_cat_to_onehot=None,\n",
              "             max_delta_step=None, max_depth=None, max_leaves=None,\n",
              "             min_child_weight=None, missing=nan, monotone_constraints=None,\n",
              "             multi_strategy=None, n_estimators=None, n_jobs=None,\n",
              "             num_parallel_tree=None, random_state=None, ...)"
            ],
            "text/html": [
              "<style>#sk-container-id-3 {color: black;}#sk-container-id-3 pre{padding: 0;}#sk-container-id-3 div.sk-toggleable {background-color: white;}#sk-container-id-3 label.sk-toggleable__label {cursor: pointer;display: block;width: 100%;margin-bottom: 0;padding: 0.3em;box-sizing: border-box;text-align: center;}#sk-container-id-3 label.sk-toggleable__label-arrow:before {content: \"▸\";float: left;margin-right: 0.25em;color: #696969;}#sk-container-id-3 label.sk-toggleable__label-arrow:hover:before {color: black;}#sk-container-id-3 div.sk-estimator:hover label.sk-toggleable__label-arrow:before {color: black;}#sk-container-id-3 div.sk-toggleable__content {max-height: 0;max-width: 0;overflow: hidden;text-align: left;background-color: #f0f8ff;}#sk-container-id-3 div.sk-toggleable__content pre {margin: 0.2em;color: black;border-radius: 0.25em;background-color: #f0f8ff;}#sk-container-id-3 input.sk-toggleable__control:checked~div.sk-toggleable__content {max-height: 200px;max-width: 100%;overflow: auto;}#sk-container-id-3 input.sk-toggleable__control:checked~label.sk-toggleable__label-arrow:before {content: \"▾\";}#sk-container-id-3 div.sk-estimator input.sk-toggleable__control:checked~label.sk-toggleable__label {background-color: #d4ebff;}#sk-container-id-3 div.sk-label input.sk-toggleable__control:checked~label.sk-toggleable__label {background-color: #d4ebff;}#sk-container-id-3 input.sk-hidden--visually {border: 0;clip: rect(1px 1px 1px 1px);clip: rect(1px, 1px, 1px, 1px);height: 1px;margin: -1px;overflow: hidden;padding: 0;position: absolute;width: 1px;}#sk-container-id-3 div.sk-estimator {font-family: monospace;background-color: #f0f8ff;border: 1px dotted black;border-radius: 0.25em;box-sizing: border-box;margin-bottom: 0.5em;}#sk-container-id-3 div.sk-estimator:hover {background-color: #d4ebff;}#sk-container-id-3 div.sk-parallel-item::after {content: \"\";width: 100%;border-bottom: 1px solid gray;flex-grow: 1;}#sk-container-id-3 div.sk-label:hover label.sk-toggleable__label {background-color: #d4ebff;}#sk-container-id-3 div.sk-serial::before {content: \"\";position: absolute;border-left: 1px solid gray;box-sizing: border-box;top: 0;bottom: 0;left: 50%;z-index: 0;}#sk-container-id-3 div.sk-serial {display: flex;flex-direction: column;align-items: center;background-color: white;padding-right: 0.2em;padding-left: 0.2em;position: relative;}#sk-container-id-3 div.sk-item {position: relative;z-index: 1;}#sk-container-id-3 div.sk-parallel {display: flex;align-items: stretch;justify-content: center;background-color: white;position: relative;}#sk-container-id-3 div.sk-item::before, #sk-container-id-3 div.sk-parallel-item::before {content: \"\";position: absolute;border-left: 1px solid gray;box-sizing: border-box;top: 0;bottom: 0;left: 50%;z-index: -1;}#sk-container-id-3 div.sk-parallel-item {display: flex;flex-direction: column;z-index: 1;position: relative;background-color: white;}#sk-container-id-3 div.sk-parallel-item:first-child::after {align-self: flex-end;width: 50%;}#sk-container-id-3 div.sk-parallel-item:last-child::after {align-self: flex-start;width: 50%;}#sk-container-id-3 div.sk-parallel-item:only-child::after {width: 0;}#sk-container-id-3 div.sk-dashed-wrapped {border: 1px dashed gray;margin: 0 0.4em 0.5em 0.4em;box-sizing: border-box;padding-bottom: 0.4em;background-color: white;}#sk-container-id-3 div.sk-label label {font-family: monospace;font-weight: bold;display: inline-block;line-height: 1.2em;}#sk-container-id-3 div.sk-label-container {text-align: center;}#sk-container-id-3 div.sk-container {/* jupyter's `normalize.less` sets `[hidden] { display: none; }` but bootstrap.min.css set `[hidden] { display: none !important; }` so we also need the `!important` here to be able to override the default hidden behavior on the sphinx rendered scikit-learn.org. See: https://github.com/scikit-learn/scikit-learn/issues/21755 */display: inline-block !important;position: relative;}#sk-container-id-3 div.sk-text-repr-fallback {display: none;}</style><div id=\"sk-container-id-3\" class=\"sk-top-container\"><div class=\"sk-text-repr-fallback\"><pre>XGBRegressor(base_score=None, booster=None, callbacks=None,\n",
              "             colsample_bylevel=None, colsample_bynode=None,\n",
              "             colsample_bytree=None, device=None, early_stopping_rounds=None,\n",
              "             enable_categorical=True, eval_metric=None, feature_types=None,\n",
              "             gamma=None, grow_policy=None, importance_type=None,\n",
              "             interaction_constraints=None, learning_rate=None, max_bin=None,\n",
              "             max_cat_threshold=None, max_cat_to_onehot=None,\n",
              "             max_delta_step=None, max_depth=None, max_leaves=None,\n",
              "             min_child_weight=None, missing=nan, monotone_constraints=None,\n",
              "             multi_strategy=None, n_estimators=None, n_jobs=None,\n",
              "             num_parallel_tree=None, random_state=None, ...)</pre><b>In a Jupyter environment, please rerun this cell to show the HTML representation or trust the notebook. <br />On GitHub, the HTML representation is unable to render, please try loading this page with nbviewer.org.</b></div><div class=\"sk-container\" hidden><div class=\"sk-item\"><div class=\"sk-estimator sk-toggleable\"><input class=\"sk-toggleable__control sk-hidden--visually\" id=\"sk-estimator-id-3\" type=\"checkbox\" checked><label for=\"sk-estimator-id-3\" class=\"sk-toggleable__label sk-toggleable__label-arrow\">XGBRegressor</label><div class=\"sk-toggleable__content\"><pre>XGBRegressor(base_score=None, booster=None, callbacks=None,\n",
              "             colsample_bylevel=None, colsample_bynode=None,\n",
              "             colsample_bytree=None, device=None, early_stopping_rounds=None,\n",
              "             enable_categorical=True, eval_metric=None, feature_types=None,\n",
              "             gamma=None, grow_policy=None, importance_type=None,\n",
              "             interaction_constraints=None, learning_rate=None, max_bin=None,\n",
              "             max_cat_threshold=None, max_cat_to_onehot=None,\n",
              "             max_delta_step=None, max_depth=None, max_leaves=None,\n",
              "             min_child_weight=None, missing=nan, monotone_constraints=None,\n",
              "             multi_strategy=None, n_estimators=None, n_jobs=None,\n",
              "             num_parallel_tree=None, random_state=None, ...)</pre></div></div></div></div></div>"
            ]
          },
          "metadata": {},
          "execution_count": 24
        }
      ]
    },
    {
      "cell_type": "code",
      "source": [
        "# Calculate the index for splitting the data (e.g., last 10% for testing)\n",
        "split_index = int(len(df) * 0.9)\n",
        "\n",
        "# Split the data into training and testing sets\n",
        "train_df = df.iloc[:split_index]\n",
        "test_df = df.iloc[split_index:]\n",
        "\n",
        "# Separate features and target variable for both sets\n",
        "X_train = train_df.drop([kpi_col, date_col], axis=1)\n",
        "y_train = train_df[kpi_col]\n",
        "X_test = test_df.drop([kpi_col, date_col], axis=1)\n",
        "y_test = test_df[kpi_col]\n",
        "\n",
        "# Create the XGBoost model\n",
        "model_train = xgb.XGBRegressor(objective ='reg:squarederror', enable_categorical=True)\n",
        "\n",
        "# Fit the model\n",
        "model_train.fit(X_train, y_train)\n",
        "\n",
        "# Evaluate the model on the test data\n",
        "#y_pred_test = model.predict(X_test)\n"
      ],
      "metadata": {
        "colab": {
          "base_uri": "https://localhost:8080/",
          "height": 248
        },
        "id": "IFvuQRi2xSTH",
        "outputId": "9fdd6c80-71b5-4792-ed55-5d57cf576684"
      },
      "execution_count": 25,
      "outputs": [
        {
          "output_type": "execute_result",
          "data": {
            "text/plain": [
              "XGBRegressor(base_score=None, booster=None, callbacks=None,\n",
              "             colsample_bylevel=None, colsample_bynode=None,\n",
              "             colsample_bytree=None, device=None, early_stopping_rounds=None,\n",
              "             enable_categorical=True, eval_metric=None, feature_types=None,\n",
              "             gamma=None, grow_policy=None, importance_type=None,\n",
              "             interaction_constraints=None, learning_rate=None, max_bin=None,\n",
              "             max_cat_threshold=None, max_cat_to_onehot=None,\n",
              "             max_delta_step=None, max_depth=None, max_leaves=None,\n",
              "             min_child_weight=None, missing=nan, monotone_constraints=None,\n",
              "             multi_strategy=None, n_estimators=None, n_jobs=None,\n",
              "             num_parallel_tree=None, random_state=None, ...)"
            ],
            "text/html": [
              "<style>#sk-container-id-4 {color: black;}#sk-container-id-4 pre{padding: 0;}#sk-container-id-4 div.sk-toggleable {background-color: white;}#sk-container-id-4 label.sk-toggleable__label {cursor: pointer;display: block;width: 100%;margin-bottom: 0;padding: 0.3em;box-sizing: border-box;text-align: center;}#sk-container-id-4 label.sk-toggleable__label-arrow:before {content: \"▸\";float: left;margin-right: 0.25em;color: #696969;}#sk-container-id-4 label.sk-toggleable__label-arrow:hover:before {color: black;}#sk-container-id-4 div.sk-estimator:hover label.sk-toggleable__label-arrow:before {color: black;}#sk-container-id-4 div.sk-toggleable__content {max-height: 0;max-width: 0;overflow: hidden;text-align: left;background-color: #f0f8ff;}#sk-container-id-4 div.sk-toggleable__content pre {margin: 0.2em;color: black;border-radius: 0.25em;background-color: #f0f8ff;}#sk-container-id-4 input.sk-toggleable__control:checked~div.sk-toggleable__content {max-height: 200px;max-width: 100%;overflow: auto;}#sk-container-id-4 input.sk-toggleable__control:checked~label.sk-toggleable__label-arrow:before {content: \"▾\";}#sk-container-id-4 div.sk-estimator input.sk-toggleable__control:checked~label.sk-toggleable__label {background-color: #d4ebff;}#sk-container-id-4 div.sk-label input.sk-toggleable__control:checked~label.sk-toggleable__label {background-color: #d4ebff;}#sk-container-id-4 input.sk-hidden--visually {border: 0;clip: rect(1px 1px 1px 1px);clip: rect(1px, 1px, 1px, 1px);height: 1px;margin: -1px;overflow: hidden;padding: 0;position: absolute;width: 1px;}#sk-container-id-4 div.sk-estimator {font-family: monospace;background-color: #f0f8ff;border: 1px dotted black;border-radius: 0.25em;box-sizing: border-box;margin-bottom: 0.5em;}#sk-container-id-4 div.sk-estimator:hover {background-color: #d4ebff;}#sk-container-id-4 div.sk-parallel-item::after {content: \"\";width: 100%;border-bottom: 1px solid gray;flex-grow: 1;}#sk-container-id-4 div.sk-label:hover label.sk-toggleable__label {background-color: #d4ebff;}#sk-container-id-4 div.sk-serial::before {content: \"\";position: absolute;border-left: 1px solid gray;box-sizing: border-box;top: 0;bottom: 0;left: 50%;z-index: 0;}#sk-container-id-4 div.sk-serial {display: flex;flex-direction: column;align-items: center;background-color: white;padding-right: 0.2em;padding-left: 0.2em;position: relative;}#sk-container-id-4 div.sk-item {position: relative;z-index: 1;}#sk-container-id-4 div.sk-parallel {display: flex;align-items: stretch;justify-content: center;background-color: white;position: relative;}#sk-container-id-4 div.sk-item::before, #sk-container-id-4 div.sk-parallel-item::before {content: \"\";position: absolute;border-left: 1px solid gray;box-sizing: border-box;top: 0;bottom: 0;left: 50%;z-index: -1;}#sk-container-id-4 div.sk-parallel-item {display: flex;flex-direction: column;z-index: 1;position: relative;background-color: white;}#sk-container-id-4 div.sk-parallel-item:first-child::after {align-self: flex-end;width: 50%;}#sk-container-id-4 div.sk-parallel-item:last-child::after {align-self: flex-start;width: 50%;}#sk-container-id-4 div.sk-parallel-item:only-child::after {width: 0;}#sk-container-id-4 div.sk-dashed-wrapped {border: 1px dashed gray;margin: 0 0.4em 0.5em 0.4em;box-sizing: border-box;padding-bottom: 0.4em;background-color: white;}#sk-container-id-4 div.sk-label label {font-family: monospace;font-weight: bold;display: inline-block;line-height: 1.2em;}#sk-container-id-4 div.sk-label-container {text-align: center;}#sk-container-id-4 div.sk-container {/* jupyter's `normalize.less` sets `[hidden] { display: none; }` but bootstrap.min.css set `[hidden] { display: none !important; }` so we also need the `!important` here to be able to override the default hidden behavior on the sphinx rendered scikit-learn.org. See: https://github.com/scikit-learn/scikit-learn/issues/21755 */display: inline-block !important;position: relative;}#sk-container-id-4 div.sk-text-repr-fallback {display: none;}</style><div id=\"sk-container-id-4\" class=\"sk-top-container\"><div class=\"sk-text-repr-fallback\"><pre>XGBRegressor(base_score=None, booster=None, callbacks=None,\n",
              "             colsample_bylevel=None, colsample_bynode=None,\n",
              "             colsample_bytree=None, device=None, early_stopping_rounds=None,\n",
              "             enable_categorical=True, eval_metric=None, feature_types=None,\n",
              "             gamma=None, grow_policy=None, importance_type=None,\n",
              "             interaction_constraints=None, learning_rate=None, max_bin=None,\n",
              "             max_cat_threshold=None, max_cat_to_onehot=None,\n",
              "             max_delta_step=None, max_depth=None, max_leaves=None,\n",
              "             min_child_weight=None, missing=nan, monotone_constraints=None,\n",
              "             multi_strategy=None, n_estimators=None, n_jobs=None,\n",
              "             num_parallel_tree=None, random_state=None, ...)</pre><b>In a Jupyter environment, please rerun this cell to show the HTML representation or trust the notebook. <br />On GitHub, the HTML representation is unable to render, please try loading this page with nbviewer.org.</b></div><div class=\"sk-container\" hidden><div class=\"sk-item\"><div class=\"sk-estimator sk-toggleable\"><input class=\"sk-toggleable__control sk-hidden--visually\" id=\"sk-estimator-id-4\" type=\"checkbox\" checked><label for=\"sk-estimator-id-4\" class=\"sk-toggleable__label sk-toggleable__label-arrow\">XGBRegressor</label><div class=\"sk-toggleable__content\"><pre>XGBRegressor(base_score=None, booster=None, callbacks=None,\n",
              "             colsample_bylevel=None, colsample_bynode=None,\n",
              "             colsample_bytree=None, device=None, early_stopping_rounds=None,\n",
              "             enable_categorical=True, eval_metric=None, feature_types=None,\n",
              "             gamma=None, grow_policy=None, importance_type=None,\n",
              "             interaction_constraints=None, learning_rate=None, max_bin=None,\n",
              "             max_cat_threshold=None, max_cat_to_onehot=None,\n",
              "             max_delta_step=None, max_depth=None, max_leaves=None,\n",
              "             min_child_weight=None, missing=nan, monotone_constraints=None,\n",
              "             multi_strategy=None, n_estimators=None, n_jobs=None,\n",
              "             num_parallel_tree=None, random_state=None, ...)</pre></div></div></div></div></div>"
            ]
          },
          "metadata": {},
          "execution_count": 25
        }
      ]
    },
    {
      "cell_type": "code",
      "source": [
        "xgb.plot_importance(model_all)"
      ],
      "metadata": {
        "colab": {
          "base_uri": "https://localhost:8080/",
          "height": 489
        },
        "id": "RWlDuSiZxPFk",
        "outputId": "fb59220d-964e-47d6-8267-f530a9ce1d60"
      },
      "execution_count": 26,
      "outputs": [
        {
          "output_type": "execute_result",
          "data": {
            "text/plain": [
              "<Axes: title={'center': 'Feature importance'}, xlabel='F score', ylabel='Features'>"
            ]
          },
          "metadata": {},
          "execution_count": 26
        },
        {
          "output_type": "display_data",
          "data": {
            "text/plain": [
              "<Figure size 640x480 with 1 Axes>"
            ],
            "image/png": "[encoded data removed]"
          },
          "metadata": {}
        }
      ]
    },
    {
      "cell_type": "markdown",
      "metadata": {
        "id": "KtvXzEFDDeyp"
      },
      "source": [
        "### 2.1) Print the model evaluation metrics"
      ]
    },
    {
      "cell_type": "code",
      "source": [
        "################################################################################\n",
        "######################### CHANGE BQ PROJECT NAME BELOW #########################\n",
        "################################################################################"
      ],
      "metadata": {
        "id": "wJRETqIIEhrk"
      },
      "execution_count": null,
      "outputs": []
    },
    {
      "cell_type": "markdown",
      "source": [
        "Call the model evaluation metrics from the model and save to a dataframe \"evaluation_metrics\".\n",
        "\n",
        "For linear regression models The ML.EVALUATE function returns: mean absolute error,mean squared erorr, mean squared log error, median absolute error, r-squared, and explained variance metrics."
      ],
      "metadata": {
        "id": "lhOfZw5xOwdj"
      }
    },
    {
      "cell_type": "code",
      "metadata": {
        "id": "0KPZXxNXzkl-"
      },
      "source": [
        "# %%bigquery evaluation_metrics\n",
        "# SELECT *\n",
        "# FROM ML.EVALUATE(MODEL `.RBA_demo.RBA_model`) #update project name"
      ],
      "execution_count": null,
      "outputs": []
    },
    {
      "cell_type": "code",
      "source": [
        "# evaluation_metrics"
      ],
      "metadata": {
        "id": "u0lA4xMcQqi-"
      },
      "execution_count": null,
      "outputs": []
    },
    {
      "cell_type": "code",
      "source": [
        "from sklearn.metrics import mean_absolute_error, mean_squared_error, r2_score\n",
        "\n",
        "# Assuming 'model' is your trained model, and you have 'X_test' and 'y_test'\n",
        "y_pred_test = model_train.predict(X_test)\n",
        "\n",
        "# Calculate the metrics\n",
        "mae = mean_absolute_error(y_test, y_pred_test)\n",
        "mse = mean_squared_error(y_test, y_pred_test)\n",
        "rmse = np.sqrt(mse)\n",
        "r2 = r2_score(y_test, y_pred_test)\n",
        "\n",
        "\n",
        "# Print the metrics\n",
        "print(f\"Model Fit Test\")\n",
        "print(f\"Mean Absolute Error (MAE): {mae}\")\n",
        "print(f\"Mean Squared Error (MSE): {mse}\")\n",
        "print(f\"Root Mean Squared Error (RMSE): {rmse}\")\n",
        "print(f\"R-squared (R2): {r2}\")\n",
        "print()\n",
        "\n",
        "\n",
        "\n",
        "# Assuming 'model' is your trained model, and you have 'X_test' and 'y_test'\n",
        "y_pred = model_all.predict(X_all)\n",
        "\n",
        "# Calculate the metrics\n",
        "mae = mean_absolute_error(y, y_pred)\n",
        "mse = mean_squared_error(y, y_pred)\n",
        "rmse = np.sqrt(mse)\n",
        "r2 = r2_score(y, y_pred)\n",
        "\n",
        "\n",
        "print(f\"Model Fit All\")\n",
        "print(f\"Mean Absolute Error (MAE): {mae}\")\n",
        "print(f\"Mean Squared Error (MSE): {mse}\")\n",
        "print(f\"Root Mean Squared Error (RMSE): {rmse}\")\n",
        "print(f\"R-squared (R2): {r2}\")\n",
        "\n"
      ],
      "metadata": {
        "colab": {
          "base_uri": "https://localhost:8080/"
        },
        "id": "dhISTWq3yKdq",
        "outputId": "3828374a-8f76-4adb-8dfe-0918f88e2e00"
      },
      "execution_count": 27,
      "outputs": [
        {
          "output_type": "stream",
          "name": "stdout",
          "text": [
            "Model Fit Test\n",
            "Mean Absolute Error (MAE): 98.78994750976562\n",
            "Mean Squared Error (MSE): 14673.667929407475\n",
            "Root Mean Squared Error (RMSE): 121.13491622735154\n",
            "R-squared (R2): -1.0836935897322717\n",
            "\n",
            "Model Fit All\n",
            "Mean Absolute Error (MAE): 0.00034960578469669115\n",
            "Mean Squared Error (MSE): 2.8806628988069647e-07\n",
            "Root Mean Squared Error (RMSE): 0.0005367180729961462\n",
            "R-squared (R2): 0.9999999999951752\n"
          ]
        }
      ]
    },
    {
      "cell_type": "markdown",
      "source": [
        "WARNING: make sure evaluation metrics displayed in Colab match the BQ UI."
      ],
      "metadata": {
        "id": "rytclQ15eA1n"
      }
    },
    {
      "cell_type": "markdown",
      "source": [
        "### 2.2) Visualize model fit"
      ],
      "metadata": {
        "id": "s-WeCPeFKZ-x"
      }
    },
    {
      "cell_type": "code",
      "source": [
        "################################################################################\n",
        "######################### CHANGE BQ PROJECT NAME BELOW #########################\n",
        "################################################################################"
      ],
      "metadata": {
        "id": "sF80oyU6KnSe"
      },
      "execution_count": null,
      "outputs": []
    },
    {
      "cell_type": "markdown",
      "source": [
        "Select the predicted conversions (y1) of the model and actual conversions from the data (y1) using the ML.PREDICT function"
      ],
      "metadata": {
        "id": "EkHqYIKKKfbc"
      }
    },
    {
      "cell_type": "code",
      "source": [
        "# %%bigquery model_predictions\n",
        "# SELECT\n",
        "#   *\n",
        "# FROM\n",
        "#   ML.PREDICT(MODEL `.RBA_demo.RBA_model`, #update project name\n",
        "#     (\n",
        "#     SELECT\n",
        "#         *\n",
        "#     FROM\n",
        "#       `.RBA_demo.cleaned_data`\n",
        "#       ORDER BY date)); #update project name"
      ],
      "metadata": {
        "id": "6tK38VliKZZb"
      },
      "execution_count": null,
      "outputs": []
    },
    {
      "cell_type": "markdown",
      "source": [
        "Visualize the model fit by comparing predicted vs. actual data."
      ],
      "metadata": {
        "id": "J460CbLiQI9P"
      }
    },
    {
      "cell_type": "code",
      "source": [
        "results = pd.DataFrame()\n",
        "results['actual'] = df[kpi_col]\n",
        "results['predicted'] = y_pred"
      ],
      "metadata": {
        "id": "nASYBh7dKs7s"
      },
      "execution_count": 28,
      "outputs": []
    },
    {
      "cell_type": "code",
      "source": [
        "fig = px.line(results.sort_index())\n",
        "fig.show()"
      ],
      "metadata": {
        "id": "j4xh1O83KtPV",
        "colab": {
          "base_uri": "https://localhost:8080/",
          "height": 542
        },
        "outputId": "d20849cc-904d-4203-9912-229a90dda0de"
      },
      "execution_count": 29,
      "outputs": [
        {
          "output_type": "display_data",
          "data": {
            "text/html": [
              "<html>\n",
              "<head><meta charset=\"utf-8\" /></head>\n",
              "<body>\n",
              "    <div>            <script src=\"https://cdnjs.cloudflare.com/ajax/libs/mathjax/2.7.5/MathJax.js?config=TeX-AMS-MML_SVG\"></script><script type=\"text/javascript\">if (window.MathJax && window.MathJax.Hub && window.MathJax.Hub.Config) {window.MathJax.Hub.Config({SVG: {font: \"STIX-Web\"}});}</script>                <script type=\"text/javascript\">window.PlotlyConfig = {MathJaxConfig: 'local'};</script>\n",
              "        <script charset=\"utf-8\" src=\"https://cdn.plot.ly/plotly-2.24.1.min.js\"></script>                <div id=\"1d4b8886-bc21-402c-a454-7c4dbca2b8e6\" class=\"plotly-graph-div\" style=\"height:525px; width:100%;\"></div>            <script type=\"text/javascript\">                                    window.PLOTLYENV=window.PLOTLYENV || {};                                    if (document.getElementById(\"1d4b8886-bc21-402c-a454-7c4dbca2b8e6\")) {                    Plotly.newPlot(                        \"1d4b8886-bc21-402c-a454-7c4dbca2b8e6\",                        [{\"hovertemplate\":\"variable=actual\\u003cbr\\u003eindex=%{x}\\u003cbr\\u003evalue=%{y}\\u003cextra\\u003e\\u003c\\u002fextra\\u003e\",\"legendgroup\":\"actual\",\"line\":{\"color\":\"#636efa\",\"dash\":\"solid\"},\"marker\":{\"symbol\":\"circle\"},\"mode\":\"lines\",\"name\":\"actual\",\"orientation\":\"v\",\"showlegend\":true,\"x\":[0,1,2,3,4,5,6,7,8,9,10,11,12,13,14,15,16,17,18,19,20,21,22,23,24,25,26,27,28,29,30,31,32,33,34,35,36,37,38,39,40,41,42,43,44,45,46,47,48,49,50,51,52,53,54,55,56,57,58,59,60,61,62,63,64,65,66,67,68,69,70,71,72,73,74,75,76,77,78,79,80,81,82,83,84,85,86,87,88,89,90,91,92,93,94,95,96,97,98,99,100,101,102,103,104,105,106,107,108,109,110,111,112,113,114,115,116,117,118,119,120,121,122,123,124,125,126,127,128,129,130,131,132,133,134,135],\"xaxis\":\"x\",\"y\":[354.0,1151.0,1259.0,1210.0,1200.0,1185.0,948.0,1163.0,1249.0,1134.0,1293.0,1374.0,1455.0,1514.0,1828.0,1737.0,1597.0,1070.0,1520.0,1266.0,935.0,976.0,972.0,819.0,786.0,995.0,879.0,716.0,1023.0,1007.0,1083.0,1046.0,1088.0,976.0,691.0,990.0,744.0,866.0,924.0,1014.0,786.0,689.0,705.0,783.0,884.0,1513.0,1077.0,580.0,464.0,688.0,839.0,837.0,899.0,1189.0,1023.0,811.0,1119.0,975.0,922.0,946.0,1041.0,960.0,744.0,962.0,668.0,738.0,883.0,708.0,654.0,523.0,825.0,739.0,671.0,1099.0,1238.0,925.0,753.0,1006.0,987.0,888.0,1085.0,1063.0,801.0,629.0,1062.0,752.0,903.0,909.0,738.0,848.0,696.0,914.0,893.0,739.0,763.0,1000.0,810.0,616.0,911.0,821.0,730.0,1014.0,1040.0,841.0,751.0,921.0,669.0,538.0,904.0,961.0,782.0,624.0,950.0,986.0,803.0,868.0,851.0,710.0,556.0,747.0,644.0,671.0,676.0,842.0,743.0,564.0,733.0,749.0,722.0,839.0,881.0,800.0,625.0,825.0,757.0,758.0],\"yaxis\":\"y\",\"type\":\"scatter\"},{\"hovertemplate\":\"variable=predicted\\u003cbr\\u003eindex=%{x}\\u003cbr\\u003evalue=%{y}\\u003cextra\\u003e\\u003c\\u002fextra\\u003e\",\"legendgroup\":\"predicted\",\"line\":{\"color\":\"#EF553B\",\"dash\":\"solid\"},\"marker\":{\"symbol\":\"circle\"},\"mode\":\"lines\",\"name\":\"predicted\",\"orientation\":\"v\",\"showlegend\":true,\"x\":[0,1,2,3,4,5,6,7,8,9,10,11,12,13,14,15,16,17,18,19,20,21,22,23,24,25,26,27,28,29,30,31,32,33,34,35,36,37,38,39,40,41,42,43,44,45,46,47,48,49,50,51,52,53,54,55,56,57,58,59,60,61,62,63,64,65,66,67,68,69,70,71,72,73,74,75,76,77,78,79,80,81,82,83,84,85,86,87,88,89,90,91,92,93,94,95,96,97,98,99,100,101,102,103,104,105,106,107,108,109,110,111,112,113,114,115,116,117,118,119,120,121,122,123,124,125,126,127,128,129,130,131,132,133,134,135],\"xaxis\":\"x\",\"y\":[354.0003356933594,1151.0001220703125,1258.9998779296875,1210.0008544921875,1200.0,1184.9996337890625,947.9992065429688,1162.99951171875,1248.999755859375,1134.000244140625,1293.0003662109375,1373.9996337890625,1455.0006103515625,1513.9998779296875,1827.9991455078125,1737.0001220703125,1597.0,1069.999267578125,1520.000244140625,1266.0003662109375,934.9998168945312,976.0,972.0001220703125,819.000244140625,786.0013427734375,995.0000610351562,878.9998779296875,716.0,1022.999755859375,1006.9999389648438,1082.999267578125,1045.9998779296875,1087.9993896484375,976.0000610351562,691.0003662109375,989.9996337890625,744.0001831054688,866.0003662109375,923.99853515625,1014.0000610351562,786.0003662109375,688.9996948242188,704.9998779296875,783.0001220703125,883.9999389648438,1513.0,1077.00048828125,580.0003662109375,463.9999084472656,687.9998779296875,838.9999389648438,836.9998779296875,899.0,1188.99951171875,1022.9998168945312,811.0001220703125,1118.9998779296875,975.0005493164062,921.9993896484375,945.999755859375,1041.0,960.0,743.9996337890625,961.9986572265625,668.0032348632812,738.000244140625,883.0001220703125,708.0001220703125,654.0010375976562,523.0006103515625,825.000244140625,738.9998779296875,671.000244140625,1099.000244140625,1238.0,925.000244140625,753.000244140625,1006.0001220703125,987.0,888.0006103515625,1085.0001220703125,1062.9990234375,800.9999389648438,629.0003662109375,1061.999755859375,752.001220703125,902.9998779296875,908.9995727539062,737.9999389648438,847.9991455078125,695.9996948242188,913.9998168945312,892.9998168945312,739.0001220703125,762.9996948242188,999.9996948242188,809.9998779296875,615.9998779296875,910.9996337890625,820.99951171875,730.0001220703125,1014.0,1039.999755859375,840.9998779296875,750.9996948242188,920.9993286132812,669.0007934570312,538.0006713867188,904.0,960.999755859375,781.9994506835938,624.0003051757812,949.9998168945312,986.0000610351562,803.000732421875,868.0003662109375,851.00048828125,709.9999389648438,555.9999389648438,747.0007934570312,643.9998168945312,671.0008544921875,676.0001831054688,842.000244140625,742.9996948242188,563.9998779296875,732.9996948242188,748.9995727539062,722.0001220703125,838.9981689453125,880.9998779296875,800.000244140625,624.999755859375,825.0001831054688,757.0005493164062,758.0001220703125],\"yaxis\":\"y\",\"type\":\"scatter\"}],                        {\"template\":{\"data\":{\"histogram2dcontour\":[{\"type\":\"histogram2dcontour\",\"colorbar\":{\"outlinewidth\":0,\"ticks\":\"\"},\"colorscale\":[[0.0,\"#0d0887\"],[0.1111111111111111,\"#46039f\"],[0.2222222222222222,\"#7201a8\"],[0.3333333333333333,\"#9c179e\"],[0.4444444444444444,\"#bd3786\"],[0.5555555555555556,\"#d8576b\"],[0.6666666666666666,\"#ed7953\"],[0.7777777777777778,\"#fb9f3a\"],[0.8888888888888888,\"#fdca26\"],[1.0,\"#f0f921\"]]}],\"choropleth\":[{\"type\":\"choropleth\",\"colorbar\":{\"outlinewidth\":0,\"ticks\":\"\"}}],\"histogram2d\":[{\"type\":\"histogram2d\",\"colorbar\":{\"outlinewidth\":0,\"ticks\":\"\"},\"colorscale\":[[0.0,\"#0d0887\"],[0.1111111111111111,\"#46039f\"],[0.2222222222222222,\"#7201a8\"],[0.3333333333333333,\"#9c179e\"],[0.4444444444444444,\"#bd3786\"],[0.5555555555555556,\"#d8576b\"],[0.6666666666666666,\"#ed7953\"],[0.7777777777777778,\"#fb9f3a\"],[0.8888888888888888,\"#fdca26\"],[1.0,\"#f0f921\"]]}],\"heatmap\":[{\"type\":\"heatmap\",\"colorbar\":{\"outlinewidth\":0,\"ticks\":\"\"},\"colorscale\":[[0.0,\"#0d0887\"],[0.1111111111111111,\"#46039f\"],[0.2222222222222222,\"#7201a8\"],[0.3333333333333333,\"#9c179e\"],[0.4444444444444444,\"#bd3786\"],[0.5555555555555556,\"#d8576b\"],[0.6666666666666666,\"#ed7953\"],[0.7777777777777778,\"#fb9f3a\"],[0.8888888888888888,\"#fdca26\"],[1.0,\"#f0f921\"]]}],\"heatmapgl\":[{\"type\":\"heatmapgl\",\"colorbar\":{\"outlinewidth\":0,\"ticks\":\"\"},\"colorscale\":[[0.0,\"#0d0887\"],[0.1111111111111111,\"#46039f\"],[0.2222222222222222,\"#7201a8\"],[0.3333333333333333,\"#9c179e\"],[0.4444444444444444,\"#bd3786\"],[0.5555555555555556,\"#d8576b\"],[0.6666666666666666,\"#ed7953\"],[0.7777777777777778,\"#fb9f3a\"],[0.8888888888888888,\"#fdca26\"],[1.0,\"#f0f921\"]]}],\"contourcarpet\":[{\"type\":\"contourcarpet\",\"colorbar\":{\"outlinewidth\":0,\"ticks\":\"\"}}],\"contour\":[{\"type\":\"contour\",\"colorbar\":{\"outlinewidth\":0,\"ticks\":\"\"},\"colorscale\":[[0.0,\"#0d0887\"],[0.1111111111111111,\"#46039f\"],[0.2222222222222222,\"#7201a8\"],[0.3333333333333333,\"#9c179e\"],[0.4444444444444444,\"#bd3786\"],[0.5555555555555556,\"#d8576b\"],[0.6666666666666666,\"#ed7953\"],[0.7777777777777778,\"#fb9f3a\"],[0.8888888888888888,\"#fdca26\"],[1.0,\"#f0f921\"]]}],\"surface\":[{\"type\":\"surface\",\"colorbar\":{\"outlinewidth\":0,\"ticks\":\"\"},\"colorscale\":[[0.0,\"#0d0887\"],[0.1111111111111111,\"#46039f\"],[0.2222222222222222,\"#7201a8\"],[0.3333333333333333,\"#9c179e\"],[0.4444444444444444,\"#bd3786\"],[0.5555555555555556,\"#d8576b\"],[0.6666666666666666,\"#ed7953\"],[0.7777777777777778,\"#fb9f3a\"],[0.8888888888888888,\"#fdca26\"],[1.0,\"#f0f921\"]]}],\"mesh3d\":[{\"type\":\"mesh3d\",\"colorbar\":{\"outlinewidth\":0,\"ticks\":\"\"}}],\"scatter\":[{\"fillpattern\":{\"fillmode\":\"overlay\",\"size\":10,\"solidity\":0.2},\"type\":\"scatter\"}],\"parcoords\":[{\"type\":\"parcoords\",\"line\":{\"colorbar\":{\"outlinewidth\":0,\"ticks\":\"\"}}}],\"scatterpolargl\":[{\"type\":\"scatterpolargl\",\"marker\":{\"colorbar\":{\"outlinewidth\":0,\"ticks\":\"\"}}}],\"bar\":[{\"error_x\":{\"color\":\"#2a3f5f\"},\"error_y\":{\"color\":\"#2a3f5f\"},\"marker\":{\"line\":{\"color\":\"#E5ECF6\",\"width\":0.5},\"pattern\":{\"fillmode\":\"overlay\",\"size\":10,\"solidity\":0.2}},\"type\":\"bar\"}],\"scattergeo\":[{\"type\":\"scattergeo\",\"marker\":{\"colorbar\":{\"outlinewidth\":0,\"ticks\":\"\"}}}],\"scatterpolar\":[{\"type\":\"scatterpolar\",\"marker\":{\"colorbar\":{\"outlinewidth\":0,\"ticks\":\"\"}}}],\"histogram\":[{\"marker\":{\"pattern\":{\"fillmode\":\"overlay\",\"size\":10,\"solidity\":0.2}},\"type\":\"histogram\"}],\"scattergl\":[{\"type\":\"scattergl\",\"marker\":{\"colorbar\":{\"outlinewidth\":0,\"ticks\":\"\"}}}],\"scatter3d\":[{\"type\":\"scatter3d\",\"line\":{\"colorbar\":{\"outlinewidth\":0,\"ticks\":\"\"}},\"marker\":{\"colorbar\":{\"outlinewidth\":0,\"ticks\":\"\"}}}],\"scattermapbox\":[{\"type\":\"scattermapbox\",\"marker\":{\"colorbar\":{\"outlinewidth\":0,\"ticks\":\"\"}}}],\"scatterternary\":[{\"type\":\"scatterternary\",\"marker\":{\"colorbar\":{\"outlinewidth\":0,\"ticks\":\"\"}}}],\"scattercarpet\":[{\"type\":\"scattercarpet\",\"marker\":{\"colorbar\":{\"outlinewidth\":0,\"ticks\":\"\"}}}],\"carpet\":[{\"aaxis\":{\"endlinecolor\":\"#2a3f5f\",\"gridcolor\":\"white\",\"linecolor\":\"white\",\"minorgridcolor\":\"white\",\"startlinecolor\":\"#2a3f5f\"},\"baxis\":{\"endlinecolor\":\"#2a3f5f\",\"gridcolor\":\"white\",\"linecolor\":\"white\",\"minorgridcolor\":\"white\",\"startlinecolor\":\"#2a3f5f\"},\"type\":\"carpet\"}],\"table\":[{\"cells\":{\"fill\":{\"color\":\"#EBF0F8\"},\"line\":{\"color\":\"white\"}},\"header\":{\"fill\":{\"color\":\"#C8D4E3\"},\"line\":{\"color\":\"white\"}},\"type\":\"table\"}],\"barpolar\":[{\"marker\":{\"line\":{\"color\":\"#E5ECF6\",\"width\":0.5},\"pattern\":{\"fillmode\":\"overlay\",\"size\":10,\"solidity\":0.2}},\"type\":\"barpolar\"}],\"pie\":[{\"automargin\":true,\"type\":\"pie\"}]},\"layout\":{\"autotypenumbers\":\"strict\",\"colorway\":[\"#636efa\",\"#EF553B\",\"#00cc96\",\"#ab63fa\",\"#FFA15A\",\"#19d3f3\",\"#FF6692\",\"#B6E880\",\"#FF97FF\",\"#FECB52\"],\"font\":{\"color\":\"#2a3f5f\"},\"hovermode\":\"closest\",\"hoverlabel\":{\"align\":\"left\"},\"paper_bgcolor\":\"white\",\"plot_bgcolor\":\"#E5ECF6\",\"polar\":{\"bgcolor\":\"#E5ECF6\",\"angularaxis\":{\"gridcolor\":\"white\",\"linecolor\":\"white\",\"ticks\":\"\"},\"radialaxis\":{\"gridcolor\":\"white\",\"linecolor\":\"white\",\"ticks\":\"\"}},\"ternary\":{\"bgcolor\":\"#E5ECF6\",\"aaxis\":{\"gridcolor\":\"white\",\"linecolor\":\"white\",\"ticks\":\"\"},\"baxis\":{\"gridcolor\":\"white\",\"linecolor\":\"white\",\"ticks\":\"\"},\"caxis\":{\"gridcolor\":\"white\",\"linecolor\":\"white\",\"ticks\":\"\"}},\"coloraxis\":{\"colorbar\":{\"outlinewidth\":0,\"ticks\":\"\"}},\"colorscale\":{\"sequential\":[[0.0,\"#0d0887\"],[0.1111111111111111,\"#46039f\"],[0.2222222222222222,\"#7201a8\"],[0.3333333333333333,\"#9c179e\"],[0.4444444444444444,\"#bd3786\"],[0.5555555555555556,\"#d8576b\"],[0.6666666666666666,\"#ed7953\"],[0.7777777777777778,\"#fb9f3a\"],[0.8888888888888888,\"#fdca26\"],[1.0,\"#f0f921\"]],\"sequentialminus\":[[0.0,\"#0d0887\"],[0.1111111111111111,\"#46039f\"],[0.2222222222222222,\"#7201a8\"],[0.3333333333333333,\"#9c179e\"],[0.4444444444444444,\"#bd3786\"],[0.5555555555555556,\"#d8576b\"],[0.6666666666666666,\"#ed7953\"],[0.7777777777777778,\"#fb9f3a\"],[0.8888888888888888,\"#fdca26\"],[1.0,\"#f0f921\"]],\"diverging\":[[0,\"#8e0152\"],[0.1,\"#c51b7d\"],[0.2,\"#de77ae\"],[0.3,\"#f1b6da\"],[0.4,\"#fde0ef\"],[0.5,\"#f7f7f7\"],[0.6,\"#e6f5d0\"],[0.7,\"#b8e186\"],[0.8,\"#7fbc41\"],[0.9,\"#4d9221\"],[1,\"#276419\"]]},\"xaxis\":{\"gridcolor\":\"white\",\"linecolor\":\"white\",\"ticks\":\"\",\"title\":{\"standoff\":15},\"zerolinecolor\":\"white\",\"automargin\":true,\"zerolinewidth\":2},\"yaxis\":{\"gridcolor\":\"white\",\"linecolor\":\"white\",\"ticks\":\"\",\"title\":{\"standoff\":15},\"zerolinecolor\":\"white\",\"automargin\":true,\"zerolinewidth\":2},\"scene\":{\"xaxis\":{\"backgroundcolor\":\"#E5ECF6\",\"gridcolor\":\"white\",\"linecolor\":\"white\",\"showbackground\":true,\"ticks\":\"\",\"zerolinecolor\":\"white\",\"gridwidth\":2},\"yaxis\":{\"backgroundcolor\":\"#E5ECF6\",\"gridcolor\":\"white\",\"linecolor\":\"white\",\"showbackground\":true,\"ticks\":\"\",\"zerolinecolor\":\"white\",\"gridwidth\":2},\"zaxis\":{\"backgroundcolor\":\"#E5ECF6\",\"gridcolor\":\"white\",\"linecolor\":\"white\",\"showbackground\":true,\"ticks\":\"\",\"zerolinecolor\":\"white\",\"gridwidth\":2}},\"shapedefaults\":{\"line\":{\"color\":\"#2a3f5f\"}},\"annotationdefaults\":{\"arrowcolor\":\"#2a3f5f\",\"arrowhead\":0,\"arrowwidth\":1},\"geo\":{\"bgcolor\":\"white\",\"landcolor\":\"#E5ECF6\",\"subunitcolor\":\"white\",\"showland\":true,\"showlakes\":true,\"lakecolor\":\"white\"},\"title\":{\"x\":0.05},\"mapbox\":{\"style\":\"light\"}}},\"xaxis\":{\"anchor\":\"y\",\"domain\":[0.0,1.0],\"title\":{\"text\":\"index\"}},\"yaxis\":{\"anchor\":\"x\",\"domain\":[0.0,1.0],\"title\":{\"text\":\"value\"}},\"legend\":{\"title\":{\"text\":\"variable\"},\"tracegroupgap\":0},\"margin\":{\"t\":60}},                        {\"responsive\": true}                    ).then(function(){\n",
              "                            \n",
              "var gd = document.getElementById('1d4b8886-bc21-402c-a454-7c4dbca2b8e6');\n",
              "var x = new MutationObserver(function (mutations, observer) {{\n",
              "        var display = window.getComputedStyle(gd).display;\n",
              "        if (!display || display === 'none') {{\n",
              "            console.log([gd, 'removed!']);\n",
              "            Plotly.purge(gd);\n",
              "            observer.disconnect();\n",
              "        }}\n",
              "}});\n",
              "\n",
              "// Listen for the removal of the full notebook cells\n",
              "var notebookContainer = gd.closest('#notebook-container');\n",
              "if (notebookContainer) {{\n",
              "    x.observe(notebookContainer, {childList: true});\n",
              "}}\n",
              "\n",
              "// Listen for the clearing of the current output cell\n",
              "var outputEl = gd.closest('.output');\n",
              "if (outputEl) {{\n",
              "    x.observe(outputEl, {childList: true});\n",
              "}}\n",
              "\n",
              "                        })                };                            </script>        </div>\n",
              "</body>\n",
              "</html>"
            ]
          },
          "metadata": {}
        }
      ]
    },
    {
      "cell_type": "markdown",
      "metadata": {
        "id": "_5mUPHgA5a1V"
      },
      "source": [
        "## 3) Calculate contribution of each digital media tactic on conversions"
      ]
    },
    {
      "cell_type": "markdown",
      "source": [
        "To determine feature attribution, we use BQML's Global Explainability methodology. ML.GLOBAL_EXPLAIN provides explanations for the entire model by aggregating the local explanations of the evaluation data"
      ],
      "metadata": {
        "id": "mQhZOFBkuNdB"
      }
    },
    {
      "cell_type": "code",
      "source": [
        "# %%bigquery feature_importance\n",
        "# SELECT\n",
        "#   *\n",
        "# FROM\n",
        "#   ML.GLOBAL_EXPLAIN(MODEL `RBA_demo.RBA_model`);"
      ],
      "metadata": {
        "id": "-N0HayKd2Lfh"
      },
      "execution_count": null,
      "outputs": []
    },
    {
      "cell_type": "code",
      "source": [
        "#feature_importance"
      ],
      "metadata": {
        "id": "YboNcHiAuQBF"
      },
      "execution_count": null,
      "outputs": []
    },
    {
      "cell_type": "code",
      "source": [
        "# sum_feature_imp = feature_importance.attribution.sum()\n",
        "# scale_factor = 0.99 # pulled from BQ UI\n",
        "\n",
        "# feature_importance['attribution %'] = feature_importance.attribution / (sum_feature_imp / scale_factor)\n",
        "# feature_importance.sort_values(by = 'attribution %', ascending = False)"
      ],
      "metadata": {
        "id": "PKxqTYoyuRxM"
      },
      "execution_count": null,
      "outputs": []
    },
    {
      "cell_type": "code",
      "source": [
        "# feature_importance['attribution %'].sum()"
      ],
      "metadata": {
        "id": "Bo137kTquUwO"
      },
      "execution_count": null,
      "outputs": []
    },
    {
      "cell_type": "code",
      "source": [
        "# For xgboost\n",
        "importances = model_all.feature_importances_\n",
        "\n",
        "feature_importance = pd.DataFrame({'feature': X_train.columns, 'importance': importances})\n"
      ],
      "metadata": {
        "id": "TPs55ZBaz459"
      },
      "execution_count": 30,
      "outputs": []
    },
    {
      "cell_type": "code",
      "source": [
        "sum_importance = feature_importance.importance.sum()\n",
        "scale_factor = 0.99  # Adjust as needed\n",
        "\n",
        "feature_importance['attribution %'] = feature_importance.importance / (sum_importance / scale_factor)\n",
        "feature_importance.sort_values(by='attribution %', ascending=False, inplace=True)\n"
      ],
      "metadata": {
        "id": "5i6GC__8z8qK"
      },
      "execution_count": 31,
      "outputs": []
    },
    {
      "cell_type": "code",
      "source": [
        "total_scaled_importance = feature_importance['attribution %'].sum()\n",
        "print(total_scaled_importance)\n"
      ],
      "metadata": {
        "colab": {
          "base_uri": "https://localhost:8080/"
        },
        "id": "z3sn-9CFz-wT",
        "outputId": "7aff54ae-8df1-4622-e49c-f3f73467bf4f"
      },
      "execution_count": 32,
      "outputs": [
        {
          "output_type": "stream",
          "name": "stdout",
          "text": [
            "0.9900001\n"
          ]
        }
      ]
    },
    {
      "cell_type": "markdown",
      "source": [
        "## 4) Export Final Results"
      ],
      "metadata": {
        "id": "nu2dFciNaj_F"
      }
    },
    {
      "cell_type": "code",
      "source": [
        "final_results_df = feature_importance[['feature','attribution %']]\n",
        "final_results_df.to_csv('rba_final_output_boosted.csv', encoding = 'utf-8-sig')\n",
        "files.download('rba_final_output_boosted.csv')"
      ],
      "metadata": {
        "id": "CLlaUtFdalvB",
        "colab": {
          "base_uri": "https://localhost:8080/",
          "height": 17
        },
        "outputId": "3bde3c9a-0fd2-497c-dcf6-7b4fd9ee8ce0"
      },
      "execution_count": 33,
      "outputs": [
        {
          "output_type": "display_data",
          "data": {
            "text/plain": [
              "<IPython.core.display.Javascript object>"
            ],
            "application/javascript": [
              "\n",
              "    async function download(id, filename, size) {\n",
              "      if (!google.colab.kernel.accessAllowed) {\n",
              "        return;\n",
              "      }\n",
              "      const div = document.createElement('div');\n",
              "      const label = document.createElement('label');\n",
              "      label.textContent = `Downloading \"${filename}\": `;\n",
              "      div.appendChild(label);\n",
              "      const progress = document.createElement('progress');\n",
              "      progress.max = size;\n",
              "      div.appendChild(progress);\n",
              "      document.body.appendChild(div);\n",
              "\n",
              "      const buffers = [];\n",
              "      let downloaded = 0;\n",
              "\n",
              "      const channel = await google.colab.kernel.comms.open(id);\n",
              "      // Send a message to notify the kernel that we're ready.\n",
              "      channel.send({})\n",
              "\n",
              "      for await (const message of channel.messages) {\n",
              "        // Send a message to notify the kernel that we're ready.\n",
              "        channel.send({})\n",
              "        if (message.buffers) {\n",
              "          for (const buffer of message.buffers) {\n",
              "            buffers.push(buffer);\n",
              "            downloaded += buffer.byteLength;\n",
              "            progress.value = downloaded;\n",
              "          }\n",
              "        }\n",
              "      }\n",
              "      const blob = new Blob(buffers, {type: 'application/binary'});\n",
              "      const a = document.createElement('a');\n",
              "      a.href = window.URL.createObjectURL(blob);\n",
              "      a.download = filename;\n",
              "      div.appendChild(a);\n",
              "      a.click();\n",
              "      div.remove();\n",
              "    }\n",
              "  "
            ]
          },
          "metadata": {}
        },
        {
          "output_type": "display_data",
          "data": {
            "text/plain": [
              "<IPython.core.display.Javascript object>"
            ],
            "application/javascript": [
              "download(\"download_8619b37d-78bb-422a-8223-5a3f0f96c212\", \"rba_final_output_boosted.csv\", 1419)"
            ]
          },
          "metadata": {}
        }
      ]
    },
    {
      "cell_type": "code",
      "source": [],
      "metadata": {
        "id": "ojL7k2qk0D5v"
      },
      "execution_count": null,
      "outputs": []
    }
  ]
}