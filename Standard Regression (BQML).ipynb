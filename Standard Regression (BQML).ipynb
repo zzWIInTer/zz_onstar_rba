{
  "nbformat": 4,
  "nbformat_minor": 0,
  "metadata": {
    "colab": {
      "name": "Standard Regression (BQML).ipynb",
      "provenance": []
    },
    "kernelspec": {
      "display_name": "Python 3",
      "name": "python3"
    },
    "language_info": {
      "name": "python"
    }
  },
  "cells": [
    {
      "cell_type": "markdown",
      "source": [
        "# Standard Regression (BQML)"
      ],
      "metadata": {
        "id": "CGuCVErsXdCQ"
      }
    },
    {
      "cell_type": "code",
      "source": [
        "###########################################################################\n",
        "#\n",
        "#  Copyright 2021 Google Inc.\n",
        "#\n",
        "#  Licensed under the Apache License, Version 2.0 (the \"License\");\n",
        "#  you may not use this file except in compliance with the License.\n",
        "#  You may obtain a copy of the License at\n",
        "#\n",
        "#      https://www.apache.org/licenses/LICENSE-2.0\n",
        "#\n",
        "#  Unless required by applicable law or agreed to in writing, software\n",
        "#  distributed under the License is distributed on an \"AS IS\" BASIS,\n",
        "#  WITHOUT WARRANTIES OR CONDITIONS OF ANY KIND, either express or implied.\n",
        "#  See the License for the specific language governing permissions and\n",
        "#  limitations under the License.\n",
        "#\n",
        "# This solution, including any related sample code or data, is made available\n",
        "# on an “as is,” “as available,” and “with all faults” basis, solely for\n",
        "# illustrative purposes, and without warranty or representation of any kind.\n",
        "# This solution is experimental, unsupported and provided solely for your\n",
        "# convenience. Your use of it is subject to your agreements with Google, as\n",
        "# applicable, and may constitute a beta feature as defined under those\n",
        "# agreements.  To the extent that you make any data available to Google in\n",
        "# connection with your use of the solution, you represent and warrant that you\n",
        "# have all necessary and appropriate rights, consents and permissions to permit\n",
        "# Google to use and process that data.  By using any portion of this solution,\n",
        "# you acknowledge, assume and accept all risks, known and unknown, associated\n",
        "# with its usage, including with respect to your deployment of any portion of\n",
        "# this solution in your systems, or usage in connection with your business,\n",
        "# if at all.\n",
        "###########################################################################"
      ],
      "metadata": {
        "id": "CmVlcj3kOlt7"
      },
      "execution_count": null,
      "outputs": []
    },
    {
      "cell_type": "markdown",
      "metadata": {
        "id": "l19lClJob3IR"
      },
      "source": [
        "## 0) Dependencies"
      ]
    },
    {
      "cell_type": "code",
      "source": [
        "################################################################################\n",
        "######################### CHANGE BQ PROJECT NAME BELOW #########################\n",
        "################################################################################\n",
        "\n",
        "project_name = 'OnStar_RBA' #add proj name and dataset"
      ],
      "metadata": {
        "id": "UP5mRlhOEYk2"
      },
      "execution_count": 1,
      "outputs": []
    },
    {
      "cell_type": "code",
      "metadata": {
        "id": "4aupXJjFcHkq",
        "outputId": "00ce4354-04a6-4ea7-d7e2-03e854147825",
        "colab": {
          "base_uri": "https://localhost:8080/"
        }
      },
      "source": [
        "# Google credentials authentication libraries\n",
        "from google.colab import auth\n",
        "auth.authenticate_user()\n",
        "\n",
        "# BigQuery Magics\n",
        "'''\n",
        "BigQuery magics are used to run BigQuery SQL queries in a python environment.\n",
        "These queries can also be run in the BigQuery UI\n",
        "'''\n",
        "\n",
        "from google.cloud import bigquery\n",
        "from google.cloud.bigquery import magics\n",
        "magics.context.project = project_name #update project name\n",
        "client = bigquery.Client(project=magics.context.project)\n",
        "%load_ext google.cloud.bigquery\n",
        "bigquery.USE_LEGACY_SQL = False\n",
        "\n",
        "\n",
        "# data processing libraries\n",
        "import numpy as np\n",
        "import pandas as pd\n",
        "\n",
        "\n",
        "# modeling and metrics\n",
        "from sklearn.linear_model import LinearRegression\n",
        "from sklearn.metrics import mean_squared_error, r2_score, mean_absolute_error, median_absolute_error, explained_variance_score\n",
        "from statsmodels.stats.stattools import durbin_watson\n",
        "import statsmodels.api as sm\n",
        "\n",
        "!pip install relativeImp\n",
        "from relativeImp import relativeImp\n",
        "\n",
        "\n",
        "# visutalization\n",
        "import matplotlib.pyplot as plt\n",
        "import seaborn as sns\n",
        "import plotly.express as px\n",
        "\n",
        "from google.colab import files"
      ],
      "execution_count": 24,
      "outputs": [
        {
          "output_type": "stream",
          "name": "stdout",
          "text": [
            "The google.cloud.bigquery extension is already loaded. To reload it, use:\n",
            "  %reload_ext google.cloud.bigquery\n",
            "Requirement already satisfied: relativeImp in /usr/local/lib/python3.10/dist-packages (0.0.2)\n",
            "Requirement already satisfied: pandas in /usr/local/lib/python3.10/dist-packages (from relativeImp) (1.5.3)\n",
            "Requirement already satisfied: numpy in /usr/local/lib/python3.10/dist-packages (from relativeImp) (1.23.5)\n",
            "Requirement already satisfied: python-dateutil>=2.8.1 in /usr/local/lib/python3.10/dist-packages (from pandas->relativeImp) (2.8.2)\n",
            "Requirement already satisfied: pytz>=2020.1 in /usr/local/lib/python3.10/dist-packages (from pandas->relativeImp) (2023.3.post1)\n",
            "Requirement already satisfied: six>=1.5 in /usr/local/lib/python3.10/dist-packages (from python-dateutil>=2.8.1->pandas->relativeImp) (1.16.0)\n"
          ]
        }
      ]
    },
    {
      "cell_type": "markdown",
      "metadata": {
        "id": "8N8-scWPc7fP"
      },
      "source": [
        "## 1) Import dataset"
      ]
    },
    {
      "cell_type": "markdown",
      "source": [
        "Import the data using the bigquery magics (%% command).\n",
        "Pulls all of the data from the cleaned data table and stores into a dataframe \"df\""
      ],
      "metadata": {
        "id": "uMBW9Yj3KYNQ"
      }
    },
    {
      "cell_type": "code",
      "source": [
        "################################################################################\n",
        "######################### CHANGE BQ PROJECT NAME BELOW #########################\n",
        "################################################################################"
      ],
      "metadata": {
        "id": "KtVgu2pdEeXJ"
      },
      "execution_count": null,
      "outputs": []
    },
    {
      "cell_type": "code",
      "source": [
        "# %%bigquery df\n",
        "# SELECT *\n",
        "# FROM `.RBA_demo.cleaned_data`\n",
        "# ORDER BY date; #update project name"
      ],
      "metadata": {
        "id": "c18LF5c8zovb"
      },
      "execution_count": null,
      "outputs": []
    },
    {
      "cell_type": "code",
      "source": [
        "#update file name\n",
        "file_name = 'https://raw.githubusercontent.com/zzWIInTer/zz_onstar_rba/master/final_cleaned_data.csv'\n",
        "df = pd.read_csv(file_name)\n",
        "df.fillna(0, inplace=True)\n",
        "df.head()"
      ],
      "metadata": {
        "id": "7aY80jTPGRO_",
        "outputId": "56713bcc-2ddf-4731-b068-6922d0e27559",
        "colab": {
          "base_uri": "https://localhost:8080/",
          "height": 255
        }
      },
      "execution_count": 13,
      "outputs": [
        {
          "output_type": "execute_result",
          "data": {
            "text/plain": [
              "         Date  A_OC_GOOGLE_SHOPPING  C_DIV_BUY_CONNECTEDl21_0p0_0d0_12  \\\n",
              "0  10/13/2023                   729                          -1.108161   \n",
              "1  10/14/2023                   936                          -0.591641   \n",
              "2  10/15/2023                   787                          -1.532171   \n",
              "3  10/16/2023                  1030                          -0.780518   \n",
              "4  10/17/2023                   950                          -0.965540   \n",
              "\n",
              "   C_DIV_BUY_ESSENTIALSl21_0p0_0d0_12  C_DIV_BUY_PREMIUMl21_0p0_0d0_12  \\\n",
              "0                            0.178209                        -0.774452   \n",
              "1                           -1.339583                        -0.210658   \n",
              "2                           -1.826123                        -1.843573   \n",
              "3                           -1.196795                        -0.373532   \n",
              "4                           -0.985256                        -0.277478   \n",
              "\n",
              "   C_DIV_BUY_SSl21_0p0_0d0_06  C_DIV_CONN_DATAl21_0p0_0d0_06  \\\n",
              "0                    0.627772                      -0.264759   \n",
              "1                   -0.060092                       1.589453   \n",
              "2                   -1.182772                      -1.070458   \n",
              "3                    0.178700                      -0.684164   \n",
              "4                   -1.161387                      -0.375129   \n",
              "\n",
              "   C_DIV_CONN_REMOTEl21_0p0_0d0_12  C_DIV_CONN_TRYl21_0p0_0d0_06  \\\n",
              "0                        -0.146654                     -0.311050   \n",
              "1                        -0.647853                      0.225988   \n",
              "2                        -1.485678                      0.973487   \n",
              "3                        -0.640373                     -1.523014   \n",
              "4                        -0.902193                     -1.312554   \n",
              "\n",
              "   C_DIV_GETNOW_CONNl21_0p0_0d0_06  ...  DIV_PLANPAGE_ESSl21_0p0_0d0_0  \\\n",
              "0                         1.422696  ...                      -0.690469   \n",
              "1                         0.828675  ...                      -0.717841   \n",
              "2                        -1.001415  ...                      -0.772585   \n",
              "3                        -0.602030  ...                      -0.714270   \n",
              "4                         0.123433  ...                      -0.288221   \n",
              "\n",
              "   DIV_WYG_PPl21_0p0_0d0_12  OC_APP_Accessl21_0p0_0d0_12  \\\n",
              "0                 -0.398094                    -0.624894   \n",
              "1                 -0.347162                    -0.191100   \n",
              "2                 -0.827603                    -0.320066   \n",
              "3                 -0.075824                     1.079373   \n",
              "4                  0.468299                     0.529403   \n",
              "\n",
              "   OC_PAGE_PREFl21_0p0_0d0_06  OC_PAGE_PREFPLl21_0p0_0d0_12  \\\n",
              "0                   -0.189886                     -1.329793   \n",
              "1                   -0.421855                     -0.885066   \n",
              "2                   -1.336846                     -1.405619   \n",
              "3                    1.429066                      0.473788   \n",
              "4                    1.571362                     -0.316369   \n",
              "\n",
              "   OC_PAGE_PREMl21_0p0_0d0_12  SC_BUYNOWl21_0p0_0d0_12  \\\n",
              "0                   -0.263140                -0.970183   \n",
              "1                   -0.368436                -0.970183   \n",
              "2                   -1.460062                -0.970183   \n",
              "3                    0.647186                 0.539693   \n",
              "4                    0.114966                -0.788998   \n",
              "\n",
              "   SC_HOMEPAGEl21_0p0_0d0_12  SC_SHOPNOWl21_0p0_0d0_06  Is_Holiday  \n",
              "0                   0.060408                 -0.310528           0  \n",
              "1                  -0.082952                  0.649707           0  \n",
              "2                  -0.144391                 -1.107704           0  \n",
              "3                   0.026275                 -1.216410           0  \n",
              "4                  -0.977240                 -1.216410           0  \n",
              "\n",
              "[5 rows x 33 columns]"
            ],
            "text/html": [
              "\n",
              "  <div id=\"df-deb70704-80eb-4d1a-9cab-8d11e2f42950\" class=\"colab-df-container\">\n",
              "    <div>\n",
              "<style scoped>\n",
              "    .dataframe tbody tr th:only-of-type {\n",
              "        vertical-align: middle;\n",
              "    }\n",
              "\n",
              "    .dataframe tbody tr th {\n",
              "        vertical-align: top;\n",
              "    }\n",
              "\n",
              "    .dataframe thead th {\n",
              "        text-align: right;\n",
              "    }\n",
              "</style>\n",
              "<table border=\"1\" class=\"dataframe\">\n",
              "  <thead>\n",
              "    <tr style=\"text-align: right;\">\n",
              "      <th></th>\n",
              "      <th>Date</th>\n",
              "      <th>A_OC_GOOGLE_SHOPPING</th>\n",
              "      <th>C_DIV_BUY_CONNECTEDl21_0p0_0d0_12</th>\n",
              "      <th>C_DIV_BUY_ESSENTIALSl21_0p0_0d0_12</th>\n",
              "      <th>C_DIV_BUY_PREMIUMl21_0p0_0d0_12</th>\n",
              "      <th>C_DIV_BUY_SSl21_0p0_0d0_06</th>\n",
              "      <th>C_DIV_CONN_DATAl21_0p0_0d0_06</th>\n",
              "      <th>C_DIV_CONN_REMOTEl21_0p0_0d0_12</th>\n",
              "      <th>C_DIV_CONN_TRYl21_0p0_0d0_06</th>\n",
              "      <th>C_DIV_GETNOW_CONNl21_0p0_0d0_06</th>\n",
              "      <th>...</th>\n",
              "      <th>DIV_PLANPAGE_ESSl21_0p0_0d0_0</th>\n",
              "      <th>DIV_WYG_PPl21_0p0_0d0_12</th>\n",
              "      <th>OC_APP_Accessl21_0p0_0d0_12</th>\n",
              "      <th>OC_PAGE_PREFl21_0p0_0d0_06</th>\n",
              "      <th>OC_PAGE_PREFPLl21_0p0_0d0_12</th>\n",
              "      <th>OC_PAGE_PREMl21_0p0_0d0_12</th>\n",
              "      <th>SC_BUYNOWl21_0p0_0d0_12</th>\n",
              "      <th>SC_HOMEPAGEl21_0p0_0d0_12</th>\n",
              "      <th>SC_SHOPNOWl21_0p0_0d0_06</th>\n",
              "      <th>Is_Holiday</th>\n",
              "    </tr>\n",
              "  </thead>\n",
              "  <tbody>\n",
              "    <tr>\n",
              "      <th>0</th>\n",
              "      <td>10/13/2023</td>\n",
              "      <td>729</td>\n",
              "      <td>-1.108161</td>\n",
              "      <td>0.178209</td>\n",
              "      <td>-0.774452</td>\n",
              "      <td>0.627772</td>\n",
              "      <td>-0.264759</td>\n",
              "      <td>-0.146654</td>\n",
              "      <td>-0.311050</td>\n",
              "      <td>1.422696</td>\n",
              "      <td>...</td>\n",
              "      <td>-0.690469</td>\n",
              "      <td>-0.398094</td>\n",
              "      <td>-0.624894</td>\n",
              "      <td>-0.189886</td>\n",
              "      <td>-1.329793</td>\n",
              "      <td>-0.263140</td>\n",
              "      <td>-0.970183</td>\n",
              "      <td>0.060408</td>\n",
              "      <td>-0.310528</td>\n",
              "      <td>0</td>\n",
              "    </tr>\n",
              "    <tr>\n",
              "      <th>1</th>\n",
              "      <td>10/14/2023</td>\n",
              "      <td>936</td>\n",
              "      <td>-0.591641</td>\n",
              "      <td>-1.339583</td>\n",
              "      <td>-0.210658</td>\n",
              "      <td>-0.060092</td>\n",
              "      <td>1.589453</td>\n",
              "      <td>-0.647853</td>\n",
              "      <td>0.225988</td>\n",
              "      <td>0.828675</td>\n",
              "      <td>...</td>\n",
              "      <td>-0.717841</td>\n",
              "      <td>-0.347162</td>\n",
              "      <td>-0.191100</td>\n",
              "      <td>-0.421855</td>\n",
              "      <td>-0.885066</td>\n",
              "      <td>-0.368436</td>\n",
              "      <td>-0.970183</td>\n",
              "      <td>-0.082952</td>\n",
              "      <td>0.649707</td>\n",
              "      <td>0</td>\n",
              "    </tr>\n",
              "    <tr>\n",
              "      <th>2</th>\n",
              "      <td>10/15/2023</td>\n",
              "      <td>787</td>\n",
              "      <td>-1.532171</td>\n",
              "      <td>-1.826123</td>\n",
              "      <td>-1.843573</td>\n",
              "      <td>-1.182772</td>\n",
              "      <td>-1.070458</td>\n",
              "      <td>-1.485678</td>\n",
              "      <td>0.973487</td>\n",
              "      <td>-1.001415</td>\n",
              "      <td>...</td>\n",
              "      <td>-0.772585</td>\n",
              "      <td>-0.827603</td>\n",
              "      <td>-0.320066</td>\n",
              "      <td>-1.336846</td>\n",
              "      <td>-1.405619</td>\n",
              "      <td>-1.460062</td>\n",
              "      <td>-0.970183</td>\n",
              "      <td>-0.144391</td>\n",
              "      <td>-1.107704</td>\n",
              "      <td>0</td>\n",
              "    </tr>\n",
              "    <tr>\n",
              "      <th>3</th>\n",
              "      <td>10/16/2023</td>\n",
              "      <td>1030</td>\n",
              "      <td>-0.780518</td>\n",
              "      <td>-1.196795</td>\n",
              "      <td>-0.373532</td>\n",
              "      <td>0.178700</td>\n",
              "      <td>-0.684164</td>\n",
              "      <td>-0.640373</td>\n",
              "      <td>-1.523014</td>\n",
              "      <td>-0.602030</td>\n",
              "      <td>...</td>\n",
              "      <td>-0.714270</td>\n",
              "      <td>-0.075824</td>\n",
              "      <td>1.079373</td>\n",
              "      <td>1.429066</td>\n",
              "      <td>0.473788</td>\n",
              "      <td>0.647186</td>\n",
              "      <td>0.539693</td>\n",
              "      <td>0.026275</td>\n",
              "      <td>-1.216410</td>\n",
              "      <td>0</td>\n",
              "    </tr>\n",
              "    <tr>\n",
              "      <th>4</th>\n",
              "      <td>10/17/2023</td>\n",
              "      <td>950</td>\n",
              "      <td>-0.965540</td>\n",
              "      <td>-0.985256</td>\n",
              "      <td>-0.277478</td>\n",
              "      <td>-1.161387</td>\n",
              "      <td>-0.375129</td>\n",
              "      <td>-0.902193</td>\n",
              "      <td>-1.312554</td>\n",
              "      <td>0.123433</td>\n",
              "      <td>...</td>\n",
              "      <td>-0.288221</td>\n",
              "      <td>0.468299</td>\n",
              "      <td>0.529403</td>\n",
              "      <td>1.571362</td>\n",
              "      <td>-0.316369</td>\n",
              "      <td>0.114966</td>\n",
              "      <td>-0.788998</td>\n",
              "      <td>-0.977240</td>\n",
              "      <td>-1.216410</td>\n",
              "      <td>0</td>\n",
              "    </tr>\n",
              "  </tbody>\n",
              "</table>\n",
              "<p>5 rows × 33 columns</p>\n",
              "</div>\n",
              "    <div class=\"colab-df-buttons\">\n",
              "\n",
              "  <div class=\"colab-df-container\">\n",
              "    <button class=\"colab-df-convert\" onclick=\"convertToInteractive('df-deb70704-80eb-4d1a-9cab-8d11e2f42950')\"\n",
              "            title=\"Convert this dataframe to an interactive table.\"\n",
              "            style=\"display:none;\">\n",
              "\n",
              "  <svg xmlns=\"http://www.w3.org/2000/svg\" height=\"24px\" viewBox=\"0 -960 960 960\">\n",
              "    <path d=\"M120-120v-720h720v720H120Zm60-500h600v-160H180v160Zm220 220h160v-160H400v160Zm0 220h160v-160H400v160ZM180-400h160v-160H180v160Zm440 0h160v-160H620v160ZM180-180h160v-160H180v160Zm440 0h160v-160H620v160Z\"/>\n",
              "  </svg>\n",
              "    </button>\n",
              "\n",
              "  <style>\n",
              "    .colab-df-container {\n",
              "      display:flex;\n",
              "      gap: 12px;\n",
              "    }\n",
              "\n",
              "    .colab-df-convert {\n",
              "      background-color: #E8F0FE;\n",
              "      border: none;\n",
              "      border-radius: 50%;\n",
              "      cursor: pointer;\n",
              "      display: none;\n",
              "      fill: #1967D2;\n",
              "      height: 32px;\n",
              "      padding: 0 0 0 0;\n",
              "      width: 32px;\n",
              "    }\n",
              "\n",
              "    .colab-df-convert:hover {\n",
              "      background-color: #E2EBFA;\n",
              "      box-shadow: 0px 1px 2px rgba(60, 64, 67, 0.3), 0px 1px 3px 1px rgba(60, 64, 67, 0.15);\n",
              "      fill: #174EA6;\n",
              "    }\n",
              "\n",
              "    .colab-df-buttons div {\n",
              "      margin-bottom: 4px;\n",
              "    }\n",
              "\n",
              "    [theme=dark] .colab-df-convert {\n",
              "      background-color: #3B4455;\n",
              "      fill: #D2E3FC;\n",
              "    }\n",
              "\n",
              "    [theme=dark] .colab-df-convert:hover {\n",
              "      background-color: #434B5C;\n",
              "      box-shadow: 0px 1px 3px 1px rgba(0, 0, 0, 0.15);\n",
              "      filter: drop-shadow(0px 1px 2px rgba(0, 0, 0, 0.3));\n",
              "      fill: #FFFFFF;\n",
              "    }\n",
              "  </style>\n",
              "\n",
              "    <script>\n",
              "      const buttonEl =\n",
              "        document.querySelector('#df-deb70704-80eb-4d1a-9cab-8d11e2f42950 button.colab-df-convert');\n",
              "      buttonEl.style.display =\n",
              "        google.colab.kernel.accessAllowed ? 'block' : 'none';\n",
              "\n",
              "      async function convertToInteractive(key) {\n",
              "        const element = document.querySelector('#df-deb70704-80eb-4d1a-9cab-8d11e2f42950');\n",
              "        const dataTable =\n",
              "          await google.colab.kernel.invokeFunction('convertToInteractive',\n",
              "                                                    [key], {});\n",
              "        if (!dataTable) return;\n",
              "\n",
              "        const docLinkHtml = 'Like what you see? Visit the ' +\n",
              "          '<a target=\"_blank\" href=https://colab.research.google.com/notebooks/data_table.ipynb>data table notebook</a>'\n",
              "          + ' to learn more about interactive tables.';\n",
              "        element.innerHTML = '';\n",
              "        dataTable['output_type'] = 'display_data';\n",
              "        await google.colab.output.renderOutput(dataTable, element);\n",
              "        const docLink = document.createElement('div');\n",
              "        docLink.innerHTML = docLinkHtml;\n",
              "        element.appendChild(docLink);\n",
              "      }\n",
              "    </script>\n",
              "  </div>\n",
              "\n",
              "\n",
              "<div id=\"df-7eaa93c0-2071-4637-9f56-16e82f4c712e\">\n",
              "  <button class=\"colab-df-quickchart\" onclick=\"quickchart('df-7eaa93c0-2071-4637-9f56-16e82f4c712e')\"\n",
              "            title=\"Suggest charts\"\n",
              "            style=\"display:none;\">\n",
              "\n",
              "<svg xmlns=\"http://www.w3.org/2000/svg\" height=\"24px\"viewBox=\"0 0 24 24\"\n",
              "     width=\"24px\">\n",
              "    <g>\n",
              "        <path d=\"M19 3H5c-1.1 0-2 .9-2 2v14c0 1.1.9 2 2 2h14c1.1 0 2-.9 2-2V5c0-1.1-.9-2-2-2zM9 17H7v-7h2v7zm4 0h-2V7h2v10zm4 0h-2v-4h2v4z\"/>\n",
              "    </g>\n",
              "</svg>\n",
              "  </button>\n",
              "\n",
              "<style>\n",
              "  .colab-df-quickchart {\n",
              "      --bg-color: #E8F0FE;\n",
              "      --fill-color: #1967D2;\n",
              "      --hover-bg-color: #E2EBFA;\n",
              "      --hover-fill-color: #174EA6;\n",
              "      --disabled-fill-color: #AAA;\n",
              "      --disabled-bg-color: #DDD;\n",
              "  }\n",
              "\n",
              "  [theme=dark] .colab-df-quickchart {\n",
              "      --bg-color: #3B4455;\n",
              "      --fill-color: #D2E3FC;\n",
              "      --hover-bg-color: #434B5C;\n",
              "      --hover-fill-color: #FFFFFF;\n",
              "      --disabled-bg-color: #3B4455;\n",
              "      --disabled-fill-color: #666;\n",
              "  }\n",
              "\n",
              "  .colab-df-quickchart {\n",
              "    background-color: var(--bg-color);\n",
              "    border: none;\n",
              "    border-radius: 50%;\n",
              "    cursor: pointer;\n",
              "    display: none;\n",
              "    fill: var(--fill-color);\n",
              "    height: 32px;\n",
              "    padding: 0;\n",
              "    width: 32px;\n",
              "  }\n",
              "\n",
              "  .colab-df-quickchart:hover {\n",
              "    background-color: var(--hover-bg-color);\n",
              "    box-shadow: 0 1px 2px rgba(60, 64, 67, 0.3), 0 1px 3px 1px rgba(60, 64, 67, 0.15);\n",
              "    fill: var(--button-hover-fill-color);\n",
              "  }\n",
              "\n",
              "  .colab-df-quickchart-complete:disabled,\n",
              "  .colab-df-quickchart-complete:disabled:hover {\n",
              "    background-color: var(--disabled-bg-color);\n",
              "    fill: var(--disabled-fill-color);\n",
              "    box-shadow: none;\n",
              "  }\n",
              "\n",
              "  .colab-df-spinner {\n",
              "    border: 2px solid var(--fill-color);\n",
              "    border-color: transparent;\n",
              "    border-bottom-color: var(--fill-color);\n",
              "    animation:\n",
              "      spin 1s steps(1) infinite;\n",
              "  }\n",
              "\n",
              "  @keyframes spin {\n",
              "    0% {\n",
              "      border-color: transparent;\n",
              "      border-bottom-color: var(--fill-color);\n",
              "      border-left-color: var(--fill-color);\n",
              "    }\n",
              "    20% {\n",
              "      border-color: transparent;\n",
              "      border-left-color: var(--fill-color);\n",
              "      border-top-color: var(--fill-color);\n",
              "    }\n",
              "    30% {\n",
              "      border-color: transparent;\n",
              "      border-left-color: var(--fill-color);\n",
              "      border-top-color: var(--fill-color);\n",
              "      border-right-color: var(--fill-color);\n",
              "    }\n",
              "    40% {\n",
              "      border-color: transparent;\n",
              "      border-right-color: var(--fill-color);\n",
              "      border-top-color: var(--fill-color);\n",
              "    }\n",
              "    60% {\n",
              "      border-color: transparent;\n",
              "      border-right-color: var(--fill-color);\n",
              "    }\n",
              "    80% {\n",
              "      border-color: transparent;\n",
              "      border-right-color: var(--fill-color);\n",
              "      border-bottom-color: var(--fill-color);\n",
              "    }\n",
              "    90% {\n",
              "      border-color: transparent;\n",
              "      border-bottom-color: var(--fill-color);\n",
              "    }\n",
              "  }\n",
              "</style>\n",
              "\n",
              "  <script>\n",
              "    async function quickchart(key) {\n",
              "      const quickchartButtonEl =\n",
              "        document.querySelector('#' + key + ' button');\n",
              "      quickchartButtonEl.disabled = true;  // To prevent multiple clicks.\n",
              "      quickchartButtonEl.classList.add('colab-df-spinner');\n",
              "      try {\n",
              "        const charts = await google.colab.kernel.invokeFunction(\n",
              "            'suggestCharts', [key], {});\n",
              "      } catch (error) {\n",
              "        console.error('Error during call to suggestCharts:', error);\n",
              "      }\n",
              "      quickchartButtonEl.classList.remove('colab-df-spinner');\n",
              "      quickchartButtonEl.classList.add('colab-df-quickchart-complete');\n",
              "    }\n",
              "    (() => {\n",
              "      let quickchartButtonEl =\n",
              "        document.querySelector('#df-7eaa93c0-2071-4637-9f56-16e82f4c712e button');\n",
              "      quickchartButtonEl.style.display =\n",
              "        google.colab.kernel.accessAllowed ? 'block' : 'none';\n",
              "    })();\n",
              "  </script>\n",
              "</div>\n",
              "\n",
              "    </div>\n",
              "  </div>\n"
            ]
          },
          "metadata": {},
          "execution_count": 13
        }
      ]
    },
    {
      "cell_type": "code",
      "metadata": {
        "id": "psVo1ZxHCyZ-",
        "outputId": "ed9b6596-ccec-4ad7-cf54-3aab56a8a562",
        "colab": {
          "base_uri": "https://localhost:8080/"
        }
      },
      "source": [
        "df.columns"
      ],
      "execution_count": 14,
      "outputs": [
        {
          "output_type": "execute_result",
          "data": {
            "text/plain": [
              "Index(['Date', 'A_OC_GOOGLE_SHOPPING', 'C_DIV_BUY_CONNECTEDl21_0p0_0d0_12',\n",
              "       'C_DIV_BUY_ESSENTIALSl21_0p0_0d0_12', 'C_DIV_BUY_PREMIUMl21_0p0_0d0_12',\n",
              "       'C_DIV_BUY_SSl21_0p0_0d0_06', 'C_DIV_CONN_DATAl21_0p0_0d0_06',\n",
              "       'C_DIV_CONN_REMOTEl21_0p0_0d0_12', 'C_DIV_CONN_TRYl21_0p0_0d0_06',\n",
              "       'C_DIV_GETNOW_CONNl21_0p0_0d0_06', 'C_DIV_GETNOW_ESSl21_0p0_0d0_12',\n",
              "       'C_DIV_GETNOW_PREMl21_0p0_0d0_12', 'C_DIV_GETNOW_SSl21_0p0_0d0_12',\n",
              "       'C_PP_PKG_APP_ACCESSl21_0p0_0d0_12', 'C_PP_PKG_CONNECTEDl21_0p0_0d0_12',\n",
              "       'C_PP_PKG_ESSl21_0p0_0d0_12', 'C_PP_PKG_PREMl21_0p0_0d0_12',\n",
              "       'C_PP_PKG_REMOTEl21_0p0_0d0_0', 'C_PP_PKG_SCl21_0p0_0d0_12',\n",
              "       'C_PP_PKG_SSl21_0p0_0d0_12', 'DIV_GMOC_SHOP_ESSl21_0p0_0d0_0',\n",
              "       'DIV_GMOC_SHOP_SSl21_0p0_0d0_0', 'DIV_PKG_CONN_SERVICESl21_0p0_0d0_06',\n",
              "       'DIV_PLANPAGE_ESSl21_0p0_0d0_0', 'DIV_WYG_PPl21_0p0_0d0_12',\n",
              "       'OC_APP_Accessl21_0p0_0d0_12', 'OC_PAGE_PREFl21_0p0_0d0_06',\n",
              "       'OC_PAGE_PREFPLl21_0p0_0d0_12', 'OC_PAGE_PREMl21_0p0_0d0_12',\n",
              "       'SC_BUYNOWl21_0p0_0d0_12', 'SC_HOMEPAGEl21_0p0_0d0_12',\n",
              "       'SC_SHOPNOWl21_0p0_0d0_06', 'Is_Holiday'],\n",
              "      dtype='object')"
            ]
          },
          "metadata": {},
          "execution_count": 14
        }
      ]
    },
    {
      "cell_type": "markdown",
      "source": [
        "Flag variables will be unique to each use case. Be sure to include the most accurate control variables and flags that represent the most relevant adjustments to your data."
      ],
      "metadata": {
        "id": "01WqYXo7VnOd"
      }
    },
    {
      "cell_type": "code",
      "source": [
        "df.head()"
      ],
      "metadata": {
        "id": "z4ALrx9owtGv",
        "outputId": "ea271e62-5e22-4bea-9826-3a84e4d4f00e",
        "colab": {
          "base_uri": "https://localhost:8080/",
          "height": 255
        }
      },
      "execution_count": 15,
      "outputs": [
        {
          "output_type": "execute_result",
          "data": {
            "text/plain": [
              "         Date  A_OC_GOOGLE_SHOPPING  C_DIV_BUY_CONNECTEDl21_0p0_0d0_12  \\\n",
              "0  10/13/2023                   729                          -1.108161   \n",
              "1  10/14/2023                   936                          -0.591641   \n",
              "2  10/15/2023                   787                          -1.532171   \n",
              "3  10/16/2023                  1030                          -0.780518   \n",
              "4  10/17/2023                   950                          -0.965540   \n",
              "\n",
              "   C_DIV_BUY_ESSENTIALSl21_0p0_0d0_12  C_DIV_BUY_PREMIUMl21_0p0_0d0_12  \\\n",
              "0                            0.178209                        -0.774452   \n",
              "1                           -1.339583                        -0.210658   \n",
              "2                           -1.826123                        -1.843573   \n",
              "3                           -1.196795                        -0.373532   \n",
              "4                           -0.985256                        -0.277478   \n",
              "\n",
              "   C_DIV_BUY_SSl21_0p0_0d0_06  C_DIV_CONN_DATAl21_0p0_0d0_06  \\\n",
              "0                    0.627772                      -0.264759   \n",
              "1                   -0.060092                       1.589453   \n",
              "2                   -1.182772                      -1.070458   \n",
              "3                    0.178700                      -0.684164   \n",
              "4                   -1.161387                      -0.375129   \n",
              "\n",
              "   C_DIV_CONN_REMOTEl21_0p0_0d0_12  C_DIV_CONN_TRYl21_0p0_0d0_06  \\\n",
              "0                        -0.146654                     -0.311050   \n",
              "1                        -0.647853                      0.225988   \n",
              "2                        -1.485678                      0.973487   \n",
              "3                        -0.640373                     -1.523014   \n",
              "4                        -0.902193                     -1.312554   \n",
              "\n",
              "   C_DIV_GETNOW_CONNl21_0p0_0d0_06  ...  DIV_PLANPAGE_ESSl21_0p0_0d0_0  \\\n",
              "0                         1.422696  ...                      -0.690469   \n",
              "1                         0.828675  ...                      -0.717841   \n",
              "2                        -1.001415  ...                      -0.772585   \n",
              "3                        -0.602030  ...                      -0.714270   \n",
              "4                         0.123433  ...                      -0.288221   \n",
              "\n",
              "   DIV_WYG_PPl21_0p0_0d0_12  OC_APP_Accessl21_0p0_0d0_12  \\\n",
              "0                 -0.398094                    -0.624894   \n",
              "1                 -0.347162                    -0.191100   \n",
              "2                 -0.827603                    -0.320066   \n",
              "3                 -0.075824                     1.079373   \n",
              "4                  0.468299                     0.529403   \n",
              "\n",
              "   OC_PAGE_PREFl21_0p0_0d0_06  OC_PAGE_PREFPLl21_0p0_0d0_12  \\\n",
              "0                   -0.189886                     -1.329793   \n",
              "1                   -0.421855                     -0.885066   \n",
              "2                   -1.336846                     -1.405619   \n",
              "3                    1.429066                      0.473788   \n",
              "4                    1.571362                     -0.316369   \n",
              "\n",
              "   OC_PAGE_PREMl21_0p0_0d0_12  SC_BUYNOWl21_0p0_0d0_12  \\\n",
              "0                   -0.263140                -0.970183   \n",
              "1                   -0.368436                -0.970183   \n",
              "2                   -1.460062                -0.970183   \n",
              "3                    0.647186                 0.539693   \n",
              "4                    0.114966                -0.788998   \n",
              "\n",
              "   SC_HOMEPAGEl21_0p0_0d0_12  SC_SHOPNOWl21_0p0_0d0_06  Is_Holiday  \n",
              "0                   0.060408                 -0.310528           0  \n",
              "1                  -0.082952                  0.649707           0  \n",
              "2                  -0.144391                 -1.107704           0  \n",
              "3                   0.026275                 -1.216410           0  \n",
              "4                  -0.977240                 -1.216410           0  \n",
              "\n",
              "[5 rows x 33 columns]"
            ],
            "text/html": [
              "\n",
              "  <div id=\"df-c5d225e9-64fe-4adb-83cb-8f4a4dc2565b\" class=\"colab-df-container\">\n",
              "    <div>\n",
              "<style scoped>\n",
              "    .dataframe tbody tr th:only-of-type {\n",
              "        vertical-align: middle;\n",
              "    }\n",
              "\n",
              "    .dataframe tbody tr th {\n",
              "        vertical-align: top;\n",
              "    }\n",
              "\n",
              "    .dataframe thead th {\n",
              "        text-align: right;\n",
              "    }\n",
              "</style>\n",
              "<table border=\"1\" class=\"dataframe\">\n",
              "  <thead>\n",
              "    <tr style=\"text-align: right;\">\n",
              "      <th></th>\n",
              "      <th>Date</th>\n",
              "      <th>A_OC_GOOGLE_SHOPPING</th>\n",
              "      <th>C_DIV_BUY_CONNECTEDl21_0p0_0d0_12</th>\n",
              "      <th>C_DIV_BUY_ESSENTIALSl21_0p0_0d0_12</th>\n",
              "      <th>C_DIV_BUY_PREMIUMl21_0p0_0d0_12</th>\n",
              "      <th>C_DIV_BUY_SSl21_0p0_0d0_06</th>\n",
              "      <th>C_DIV_CONN_DATAl21_0p0_0d0_06</th>\n",
              "      <th>C_DIV_CONN_REMOTEl21_0p0_0d0_12</th>\n",
              "      <th>C_DIV_CONN_TRYl21_0p0_0d0_06</th>\n",
              "      <th>C_DIV_GETNOW_CONNl21_0p0_0d0_06</th>\n",
              "      <th>...</th>\n",
              "      <th>DIV_PLANPAGE_ESSl21_0p0_0d0_0</th>\n",
              "      <th>DIV_WYG_PPl21_0p0_0d0_12</th>\n",
              "      <th>OC_APP_Accessl21_0p0_0d0_12</th>\n",
              "      <th>OC_PAGE_PREFl21_0p0_0d0_06</th>\n",
              "      <th>OC_PAGE_PREFPLl21_0p0_0d0_12</th>\n",
              "      <th>OC_PAGE_PREMl21_0p0_0d0_12</th>\n",
              "      <th>SC_BUYNOWl21_0p0_0d0_12</th>\n",
              "      <th>SC_HOMEPAGEl21_0p0_0d0_12</th>\n",
              "      <th>SC_SHOPNOWl21_0p0_0d0_06</th>\n",
              "      <th>Is_Holiday</th>\n",
              "    </tr>\n",
              "  </thead>\n",
              "  <tbody>\n",
              "    <tr>\n",
              "      <th>0</th>\n",
              "      <td>10/13/2023</td>\n",
              "      <td>729</td>\n",
              "      <td>-1.108161</td>\n",
              "      <td>0.178209</td>\n",
              "      <td>-0.774452</td>\n",
              "      <td>0.627772</td>\n",
              "      <td>-0.264759</td>\n",
              "      <td>-0.146654</td>\n",
              "      <td>-0.311050</td>\n",
              "      <td>1.422696</td>\n",
              "      <td>...</td>\n",
              "      <td>-0.690469</td>\n",
              "      <td>-0.398094</td>\n",
              "      <td>-0.624894</td>\n",
              "      <td>-0.189886</td>\n",
              "      <td>-1.329793</td>\n",
              "      <td>-0.263140</td>\n",
              "      <td>-0.970183</td>\n",
              "      <td>0.060408</td>\n",
              "      <td>-0.310528</td>\n",
              "      <td>0</td>\n",
              "    </tr>\n",
              "    <tr>\n",
              "      <th>1</th>\n",
              "      <td>10/14/2023</td>\n",
              "      <td>936</td>\n",
              "      <td>-0.591641</td>\n",
              "      <td>-1.339583</td>\n",
              "      <td>-0.210658</td>\n",
              "      <td>-0.060092</td>\n",
              "      <td>1.589453</td>\n",
              "      <td>-0.647853</td>\n",
              "      <td>0.225988</td>\n",
              "      <td>0.828675</td>\n",
              "      <td>...</td>\n",
              "      <td>-0.717841</td>\n",
              "      <td>-0.347162</td>\n",
              "      <td>-0.191100</td>\n",
              "      <td>-0.421855</td>\n",
              "      <td>-0.885066</td>\n",
              "      <td>-0.368436</td>\n",
              "      <td>-0.970183</td>\n",
              "      <td>-0.082952</td>\n",
              "      <td>0.649707</td>\n",
              "      <td>0</td>\n",
              "    </tr>\n",
              "    <tr>\n",
              "      <th>2</th>\n",
              "      <td>10/15/2023</td>\n",
              "      <td>787</td>\n",
              "      <td>-1.532171</td>\n",
              "      <td>-1.826123</td>\n",
              "      <td>-1.843573</td>\n",
              "      <td>-1.182772</td>\n",
              "      <td>-1.070458</td>\n",
              "      <td>-1.485678</td>\n",
              "      <td>0.973487</td>\n",
              "      <td>-1.001415</td>\n",
              "      <td>...</td>\n",
              "      <td>-0.772585</td>\n",
              "      <td>-0.827603</td>\n",
              "      <td>-0.320066</td>\n",
              "      <td>-1.336846</td>\n",
              "      <td>-1.405619</td>\n",
              "      <td>-1.460062</td>\n",
              "      <td>-0.970183</td>\n",
              "      <td>-0.144391</td>\n",
              "      <td>-1.107704</td>\n",
              "      <td>0</td>\n",
              "    </tr>\n",
              "    <tr>\n",
              "      <th>3</th>\n",
              "      <td>10/16/2023</td>\n",
              "      <td>1030</td>\n",
              "      <td>-0.780518</td>\n",
              "      <td>-1.196795</td>\n",
              "      <td>-0.373532</td>\n",
              "      <td>0.178700</td>\n",
              "      <td>-0.684164</td>\n",
              "      <td>-0.640373</td>\n",
              "      <td>-1.523014</td>\n",
              "      <td>-0.602030</td>\n",
              "      <td>...</td>\n",
              "      <td>-0.714270</td>\n",
              "      <td>-0.075824</td>\n",
              "      <td>1.079373</td>\n",
              "      <td>1.429066</td>\n",
              "      <td>0.473788</td>\n",
              "      <td>0.647186</td>\n",
              "      <td>0.539693</td>\n",
              "      <td>0.026275</td>\n",
              "      <td>-1.216410</td>\n",
              "      <td>0</td>\n",
              "    </tr>\n",
              "    <tr>\n",
              "      <th>4</th>\n",
              "      <td>10/17/2023</td>\n",
              "      <td>950</td>\n",
              "      <td>-0.965540</td>\n",
              "      <td>-0.985256</td>\n",
              "      <td>-0.277478</td>\n",
              "      <td>-1.161387</td>\n",
              "      <td>-0.375129</td>\n",
              "      <td>-0.902193</td>\n",
              "      <td>-1.312554</td>\n",
              "      <td>0.123433</td>\n",
              "      <td>...</td>\n",
              "      <td>-0.288221</td>\n",
              "      <td>0.468299</td>\n",
              "      <td>0.529403</td>\n",
              "      <td>1.571362</td>\n",
              "      <td>-0.316369</td>\n",
              "      <td>0.114966</td>\n",
              "      <td>-0.788998</td>\n",
              "      <td>-0.977240</td>\n",
              "      <td>-1.216410</td>\n",
              "      <td>0</td>\n",
              "    </tr>\n",
              "  </tbody>\n",
              "</table>\n",
              "<p>5 rows × 33 columns</p>\n",
              "</div>\n",
              "    <div class=\"colab-df-buttons\">\n",
              "\n",
              "  <div class=\"colab-df-container\">\n",
              "    <button class=\"colab-df-convert\" onclick=\"convertToInteractive('df-c5d225e9-64fe-4adb-83cb-8f4a4dc2565b')\"\n",
              "            title=\"Convert this dataframe to an interactive table.\"\n",
              "            style=\"display:none;\">\n",
              "\n",
              "  <svg xmlns=\"http://www.w3.org/2000/svg\" height=\"24px\" viewBox=\"0 -960 960 960\">\n",
              "    <path d=\"M120-120v-720h720v720H120Zm60-500h600v-160H180v160Zm220 220h160v-160H400v160Zm0 220h160v-160H400v160ZM180-400h160v-160H180v160Zm440 0h160v-160H620v160ZM180-180h160v-160H180v160Zm440 0h160v-160H620v160Z\"/>\n",
              "  </svg>\n",
              "    </button>\n",
              "\n",
              "  <style>\n",
              "    .colab-df-container {\n",
              "      display:flex;\n",
              "      gap: 12px;\n",
              "    }\n",
              "\n",
              "    .colab-df-convert {\n",
              "      background-color: #E8F0FE;\n",
              "      border: none;\n",
              "      border-radius: 50%;\n",
              "      cursor: pointer;\n",
              "      display: none;\n",
              "      fill: #1967D2;\n",
              "      height: 32px;\n",
              "      padding: 0 0 0 0;\n",
              "      width: 32px;\n",
              "    }\n",
              "\n",
              "    .colab-df-convert:hover {\n",
              "      background-color: #E2EBFA;\n",
              "      box-shadow: 0px 1px 2px rgba(60, 64, 67, 0.3), 0px 1px 3px 1px rgba(60, 64, 67, 0.15);\n",
              "      fill: #174EA6;\n",
              "    }\n",
              "\n",
              "    .colab-df-buttons div {\n",
              "      margin-bottom: 4px;\n",
              "    }\n",
              "\n",
              "    [theme=dark] .colab-df-convert {\n",
              "      background-color: #3B4455;\n",
              "      fill: #D2E3FC;\n",
              "    }\n",
              "\n",
              "    [theme=dark] .colab-df-convert:hover {\n",
              "      background-color: #434B5C;\n",
              "      box-shadow: 0px 1px 3px 1px rgba(0, 0, 0, 0.15);\n",
              "      filter: drop-shadow(0px 1px 2px rgba(0, 0, 0, 0.3));\n",
              "      fill: #FFFFFF;\n",
              "    }\n",
              "  </style>\n",
              "\n",
              "    <script>\n",
              "      const buttonEl =\n",
              "        document.querySelector('#df-c5d225e9-64fe-4adb-83cb-8f4a4dc2565b button.colab-df-convert');\n",
              "      buttonEl.style.display =\n",
              "        google.colab.kernel.accessAllowed ? 'block' : 'none';\n",
              "\n",
              "      async function convertToInteractive(key) {\n",
              "        const element = document.querySelector('#df-c5d225e9-64fe-4adb-83cb-8f4a4dc2565b');\n",
              "        const dataTable =\n",
              "          await google.colab.kernel.invokeFunction('convertToInteractive',\n",
              "                                                    [key], {});\n",
              "        if (!dataTable) return;\n",
              "\n",
              "        const docLinkHtml = 'Like what you see? Visit the ' +\n",
              "          '<a target=\"_blank\" href=https://colab.research.google.com/notebooks/data_table.ipynb>data table notebook</a>'\n",
              "          + ' to learn more about interactive tables.';\n",
              "        element.innerHTML = '';\n",
              "        dataTable['output_type'] = 'display_data';\n",
              "        await google.colab.output.renderOutput(dataTable, element);\n",
              "        const docLink = document.createElement('div');\n",
              "        docLink.innerHTML = docLinkHtml;\n",
              "        element.appendChild(docLink);\n",
              "      }\n",
              "    </script>\n",
              "  </div>\n",
              "\n",
              "\n",
              "<div id=\"df-dfa86050-4825-493d-8920-37f54bf015ee\">\n",
              "  <button class=\"colab-df-quickchart\" onclick=\"quickchart('df-dfa86050-4825-493d-8920-37f54bf015ee')\"\n",
              "            title=\"Suggest charts\"\n",
              "            style=\"display:none;\">\n",
              "\n",
              "<svg xmlns=\"http://www.w3.org/2000/svg\" height=\"24px\"viewBox=\"0 0 24 24\"\n",
              "     width=\"24px\">\n",
              "    <g>\n",
              "        <path d=\"M19 3H5c-1.1 0-2 .9-2 2v14c0 1.1.9 2 2 2h14c1.1 0 2-.9 2-2V5c0-1.1-.9-2-2-2zM9 17H7v-7h2v7zm4 0h-2V7h2v10zm4 0h-2v-4h2v4z\"/>\n",
              "    </g>\n",
              "</svg>\n",
              "  </button>\n",
              "\n",
              "<style>\n",
              "  .colab-df-quickchart {\n",
              "      --bg-color: #E8F0FE;\n",
              "      --fill-color: #1967D2;\n",
              "      --hover-bg-color: #E2EBFA;\n",
              "      --hover-fill-color: #174EA6;\n",
              "      --disabled-fill-color: #AAA;\n",
              "      --disabled-bg-color: #DDD;\n",
              "  }\n",
              "\n",
              "  [theme=dark] .colab-df-quickchart {\n",
              "      --bg-color: #3B4455;\n",
              "      --fill-color: #D2E3FC;\n",
              "      --hover-bg-color: #434B5C;\n",
              "      --hover-fill-color: #FFFFFF;\n",
              "      --disabled-bg-color: #3B4455;\n",
              "      --disabled-fill-color: #666;\n",
              "  }\n",
              "\n",
              "  .colab-df-quickchart {\n",
              "    background-color: var(--bg-color);\n",
              "    border: none;\n",
              "    border-radius: 50%;\n",
              "    cursor: pointer;\n",
              "    display: none;\n",
              "    fill: var(--fill-color);\n",
              "    height: 32px;\n",
              "    padding: 0;\n",
              "    width: 32px;\n",
              "  }\n",
              "\n",
              "  .colab-df-quickchart:hover {\n",
              "    background-color: var(--hover-bg-color);\n",
              "    box-shadow: 0 1px 2px rgba(60, 64, 67, 0.3), 0 1px 3px 1px rgba(60, 64, 67, 0.15);\n",
              "    fill: var(--button-hover-fill-color);\n",
              "  }\n",
              "\n",
              "  .colab-df-quickchart-complete:disabled,\n",
              "  .colab-df-quickchart-complete:disabled:hover {\n",
              "    background-color: var(--disabled-bg-color);\n",
              "    fill: var(--disabled-fill-color);\n",
              "    box-shadow: none;\n",
              "  }\n",
              "\n",
              "  .colab-df-spinner {\n",
              "    border: 2px solid var(--fill-color);\n",
              "    border-color: transparent;\n",
              "    border-bottom-color: var(--fill-color);\n",
              "    animation:\n",
              "      spin 1s steps(1) infinite;\n",
              "  }\n",
              "\n",
              "  @keyframes spin {\n",
              "    0% {\n",
              "      border-color: transparent;\n",
              "      border-bottom-color: var(--fill-color);\n",
              "      border-left-color: var(--fill-color);\n",
              "    }\n",
              "    20% {\n",
              "      border-color: transparent;\n",
              "      border-left-color: var(--fill-color);\n",
              "      border-top-color: var(--fill-color);\n",
              "    }\n",
              "    30% {\n",
              "      border-color: transparent;\n",
              "      border-left-color: var(--fill-color);\n",
              "      border-top-color: var(--fill-color);\n",
              "      border-right-color: var(--fill-color);\n",
              "    }\n",
              "    40% {\n",
              "      border-color: transparent;\n",
              "      border-right-color: var(--fill-color);\n",
              "      border-top-color: var(--fill-color);\n",
              "    }\n",
              "    60% {\n",
              "      border-color: transparent;\n",
              "      border-right-color: var(--fill-color);\n",
              "    }\n",
              "    80% {\n",
              "      border-color: transparent;\n",
              "      border-right-color: var(--fill-color);\n",
              "      border-bottom-color: var(--fill-color);\n",
              "    }\n",
              "    90% {\n",
              "      border-color: transparent;\n",
              "      border-bottom-color: var(--fill-color);\n",
              "    }\n",
              "  }\n",
              "</style>\n",
              "\n",
              "  <script>\n",
              "    async function quickchart(key) {\n",
              "      const quickchartButtonEl =\n",
              "        document.querySelector('#' + key + ' button');\n",
              "      quickchartButtonEl.disabled = true;  // To prevent multiple clicks.\n",
              "      quickchartButtonEl.classList.add('colab-df-spinner');\n",
              "      try {\n",
              "        const charts = await google.colab.kernel.invokeFunction(\n",
              "            'suggestCharts', [key], {});\n",
              "      } catch (error) {\n",
              "        console.error('Error during call to suggestCharts:', error);\n",
              "      }\n",
              "      quickchartButtonEl.classList.remove('colab-df-spinner');\n",
              "      quickchartButtonEl.classList.add('colab-df-quickchart-complete');\n",
              "    }\n",
              "    (() => {\n",
              "      let quickchartButtonEl =\n",
              "        document.querySelector('#df-dfa86050-4825-493d-8920-37f54bf015ee button');\n",
              "      quickchartButtonEl.style.display =\n",
              "        google.colab.kernel.accessAllowed ? 'block' : 'none';\n",
              "    })();\n",
              "  </script>\n",
              "</div>\n",
              "\n",
              "    </div>\n",
              "  </div>\n"
            ]
          },
          "metadata": {},
          "execution_count": 15
        }
      ]
    },
    {
      "cell_type": "markdown",
      "source": [
        "Set KPI and date columns"
      ],
      "metadata": {
        "id": "3epORUHi1FGX"
      }
    },
    {
      "cell_type": "code",
      "source": [
        "kpi_col = \"A_OC_GOOGLE_SHOPPING\" #@param {type:\"string\"}"
      ],
      "metadata": {
        "id": "aaTtFBe50_jd"
      },
      "execution_count": 20,
      "outputs": []
    },
    {
      "cell_type": "code",
      "source": [
        "date_col = \"Date\" #@param {type:\"string\"}"
      ],
      "metadata": {
        "id": "ZYSZG_ca1Qan"
      },
      "execution_count": 21,
      "outputs": []
    },
    {
      "cell_type": "markdown",
      "metadata": {
        "id": "j2kOEcAxArc7"
      },
      "source": [
        "## 2) Run the RBA Model"
      ]
    },
    {
      "cell_type": "markdown",
      "source": [
        "This model also includes a train/test split of 90/10 using the \"data_split_method\", \"data_split_eval_fraction\", and \"data_split_col\" parameters.\n",
        "\n",
        "Since this data is time series, we use a sequential split with the date column as the reference point.\n",
        "\n",
        "We suggest using a train/test split to validate model performance, but for attribution results we suggest running the model on the full dataset."
      ],
      "metadata": {
        "id": "Ef_lA3mrP5Ds"
      }
    },
    {
      "cell_type": "code",
      "source": [
        "################################################################################\n",
        "######################### CHANGE BQ PROJECT NAME BELOW #########################\n",
        "################################################################################"
      ],
      "metadata": {
        "id": "SXzNcRovJJbW"
      },
      "execution_count": null,
      "outputs": []
    },
    {
      "cell_type": "code",
      "metadata": {
        "id": "9cp6xyg278H7"
      },
      "source": [
        "# %%bigquery\n",
        "# REATE OR REPLACE MODEL `test.model`  #update project name\n",
        "# OPTIONS (model_type='linear_reg',\n",
        "#         data_split_method = 'SEQ', #use these options for train/test splits\n",
        "#         data_split_eval_fraction = 0.1,\n",
        "#         data_split_col = 'date',\n",
        "#         input_label_cols = ['y1'],\n",
        "#         enable_global_explain = True)\n",
        "# AS SELECT * EXCEPT(date)\n",
        "#     FROM df\n",
        "#     ORDER BY date; #update project name"
      ],
      "execution_count": 11,
      "outputs": []
    },
    {
      "cell_type": "code",
      "source": [
        "\n",
        "# Load your DataFrame 'df' and sort it by date\n",
        "df = df.sort_values(by='Date')\n",
        "\n",
        "# Define the fraction for the test set\n",
        "test_fraction = 0.05\n",
        "\n",
        "# Compute the index at which to split the data\n",
        "split_index = int((1 - test_fraction) * len(df))\n",
        "\n",
        "# Split the data into training and testing sets\n",
        "train_df = df.iloc[:split_index]\n",
        "test_df = df.iloc[split_index:]\n",
        "\n",
        "# Define the features (X) and target (y)\n",
        "X_train = train_df.drop([kpi_col, date_col], axis=1)\n",
        "y_train = train_df[kpi_col]\n",
        "X_test = test_df.drop([kpi_col, date_col], axis=1)\n",
        "y_test = test_df[kpi_col]\n",
        "\n",
        "# Create and fit the model\n",
        "model = LinearRegression()\n",
        "model.fit(X_train, y_train)\n",
        "\n",
        "# Now you can use model.predict(X_test) to make predictions\n"
      ],
      "metadata": {
        "id": "YTq_SvG7To-e",
        "outputId": "96b0cf5a-08f6-4a2a-c634-9521d2b2a730",
        "colab": {
          "base_uri": "https://localhost:8080/",
          "height": 74
        }
      },
      "execution_count": 26,
      "outputs": [
        {
          "output_type": "execute_result",
          "data": {
            "text/plain": [
              "LinearRegression()"
            ],
            "text/html": [
              "<style>#sk-container-id-2 {color: black;background-color: white;}#sk-container-id-2 pre{padding: 0;}#sk-container-id-2 div.sk-toggleable {background-color: white;}#sk-container-id-2 label.sk-toggleable__label {cursor: pointer;display: block;width: 100%;margin-bottom: 0;padding: 0.3em;box-sizing: border-box;text-align: center;}#sk-container-id-2 label.sk-toggleable__label-arrow:before {content: \"▸\";float: left;margin-right: 0.25em;color: #696969;}#sk-container-id-2 label.sk-toggleable__label-arrow:hover:before {color: black;}#sk-container-id-2 div.sk-estimator:hover label.sk-toggleable__label-arrow:before {color: black;}#sk-container-id-2 div.sk-toggleable__content {max-height: 0;max-width: 0;overflow: hidden;text-align: left;background-color: #f0f8ff;}#sk-container-id-2 div.sk-toggleable__content pre {margin: 0.2em;color: black;border-radius: 0.25em;background-color: #f0f8ff;}#sk-container-id-2 input.sk-toggleable__control:checked~div.sk-toggleable__content {max-height: 200px;max-width: 100%;overflow: auto;}#sk-container-id-2 input.sk-toggleable__control:checked~label.sk-toggleable__label-arrow:before {content: \"▾\";}#sk-container-id-2 div.sk-estimator input.sk-toggleable__control:checked~label.sk-toggleable__label {background-color: #d4ebff;}#sk-container-id-2 div.sk-label input.sk-toggleable__control:checked~label.sk-toggleable__label {background-color: #d4ebff;}#sk-container-id-2 input.sk-hidden--visually {border: 0;clip: rect(1px 1px 1px 1px);clip: rect(1px, 1px, 1px, 1px);height: 1px;margin: -1px;overflow: hidden;padding: 0;position: absolute;width: 1px;}#sk-container-id-2 div.sk-estimator {font-family: monospace;background-color: #f0f8ff;border: 1px dotted black;border-radius: 0.25em;box-sizing: border-box;margin-bottom: 0.5em;}#sk-container-id-2 div.sk-estimator:hover {background-color: #d4ebff;}#sk-container-id-2 div.sk-parallel-item::after {content: \"\";width: 100%;border-bottom: 1px solid gray;flex-grow: 1;}#sk-container-id-2 div.sk-label:hover label.sk-toggleable__label {background-color: #d4ebff;}#sk-container-id-2 div.sk-serial::before {content: \"\";position: absolute;border-left: 1px solid gray;box-sizing: border-box;top: 0;bottom: 0;left: 50%;z-index: 0;}#sk-container-id-2 div.sk-serial {display: flex;flex-direction: column;align-items: center;background-color: white;padding-right: 0.2em;padding-left: 0.2em;position: relative;}#sk-container-id-2 div.sk-item {position: relative;z-index: 1;}#sk-container-id-2 div.sk-parallel {display: flex;align-items: stretch;justify-content: center;background-color: white;position: relative;}#sk-container-id-2 div.sk-item::before, #sk-container-id-2 div.sk-parallel-item::before {content: \"\";position: absolute;border-left: 1px solid gray;box-sizing: border-box;top: 0;bottom: 0;left: 50%;z-index: -1;}#sk-container-id-2 div.sk-parallel-item {display: flex;flex-direction: column;z-index: 1;position: relative;background-color: white;}#sk-container-id-2 div.sk-parallel-item:first-child::after {align-self: flex-end;width: 50%;}#sk-container-id-2 div.sk-parallel-item:last-child::after {align-self: flex-start;width: 50%;}#sk-container-id-2 div.sk-parallel-item:only-child::after {width: 0;}#sk-container-id-2 div.sk-dashed-wrapped {border: 1px dashed gray;margin: 0 0.4em 0.5em 0.4em;box-sizing: border-box;padding-bottom: 0.4em;background-color: white;}#sk-container-id-2 div.sk-label label {font-family: monospace;font-weight: bold;display: inline-block;line-height: 1.2em;}#sk-container-id-2 div.sk-label-container {text-align: center;}#sk-container-id-2 div.sk-container {/* jupyter's `normalize.less` sets `[hidden] { display: none; }` but bootstrap.min.css set `[hidden] { display: none !important; }` so we also need the `!important` here to be able to override the default hidden behavior on the sphinx rendered scikit-learn.org. See: https://github.com/scikit-learn/scikit-learn/issues/21755 */display: inline-block !important;position: relative;}#sk-container-id-2 div.sk-text-repr-fallback {display: none;}</style><div id=\"sk-container-id-2\" class=\"sk-top-container\"><div class=\"sk-text-repr-fallback\"><pre>LinearRegression()</pre><b>In a Jupyter environment, please rerun this cell to show the HTML representation or trust the notebook. <br />On GitHub, the HTML representation is unable to render, please try loading this page with nbviewer.org.</b></div><div class=\"sk-container\" hidden><div class=\"sk-item\"><div class=\"sk-estimator sk-toggleable\"><input class=\"sk-toggleable__control sk-hidden--visually\" id=\"sk-estimator-id-2\" type=\"checkbox\" checked><label for=\"sk-estimator-id-2\" class=\"sk-toggleable__label sk-toggleable__label-arrow\">LinearRegression</label><div class=\"sk-toggleable__content\"><pre>LinearRegression()</pre></div></div></div></div></div>"
            ]
          },
          "metadata": {},
          "execution_count": 26
        }
      ]
    },
    {
      "cell_type": "markdown",
      "metadata": {
        "id": "KtvXzEFDDeyp"
      },
      "source": [
        "### 2.1) Print the model evaluation metrics"
      ]
    },
    {
      "cell_type": "code",
      "source": [
        "################################################################################\n",
        "######################### CHANGE BQ PROJECT NAME BELOW #########################\n",
        "################################################################################"
      ],
      "metadata": {
        "id": "wJRETqIIEhrk"
      },
      "execution_count": null,
      "outputs": []
    },
    {
      "cell_type": "markdown",
      "source": [
        "Call the model evaluation metrics from the model and save to a dataframe \"evaluation_metrics\".\n",
        "\n",
        "For linear regression models The ML.EVALUATE function returns the following error metrics: mean absolute error, mean squared erorr, mean squared log error, median absolute error, r-squared, and explained variance metrics."
      ],
      "metadata": {
        "id": "lhOfZw5xOwdj"
      }
    },
    {
      "cell_type": "code",
      "metadata": {
        "id": "0KPZXxNXzkl-"
      },
      "source": [
        "# %%bigquery evaluation_metrics\n",
        "# SELECT *\n",
        "# FROM ML.EVALUATE(MODEL `.RBA_demo.RBA_model`) #update project name"
      ],
      "execution_count": null,
      "outputs": []
    },
    {
      "cell_type": "code",
      "source": [
        "# evaluation_metrics"
      ],
      "metadata": {
        "id": "u0lA4xMcQqi-"
      },
      "execution_count": null,
      "outputs": []
    },
    {
      "cell_type": "code",
      "source": [
        "# Predict using the model\n",
        "y_pred = model.predict(X_test)\n",
        "\n",
        "# Calculate evaluation metrics\n",
        "mse = mean_squared_error(y_test, y_pred)\n",
        "mae = mean_absolute_error(y_test, y_pred)\n",
        "median_ae = median_absolute_error(y_test, y_pred)\n",
        "r2 = r2_score(y_test, y_pred)\n",
        "explained_variance = explained_variance_score(y_test, y_pred)\n",
        "\n",
        "# Save to a DataFrame\n",
        "evaluation_metrics = pd.DataFrame({\n",
        "    'Mean Absolute Error': [mae],\n",
        "    'Mean Squared Error': [mse],\n",
        "    'Median Absolute Error': [median_ae],\n",
        "    'R-squared': [r2],\n",
        "    'Explained Variance': [explained_variance]\n",
        "})\n",
        "\n",
        "evaluation_metrics\n"
      ],
      "metadata": {
        "id": "zuR3BavwUfJQ",
        "outputId": "a3d2e36b-db73-4b15-d7db-e9f9e26ed5c4",
        "colab": {
          "base_uri": "https://localhost:8080/",
          "height": 89
        }
      },
      "execution_count": 27,
      "outputs": [
        {
          "output_type": "execute_result",
          "data": {
            "text/plain": [
              "   Mean Absolute Error  Mean Squared Error  Median Absolute Error  R-squared  \\\n",
              "0           232.727705        66349.274549             257.281535   0.454525   \n",
              "\n",
              "   Explained Variance  \n",
              "0            0.899807  "
            ],
            "text/html": [
              "\n",
              "  <div id=\"df-e2222067-007f-499e-ae06-ea8e01f66f02\" class=\"colab-df-container\">\n",
              "    <div>\n",
              "<style scoped>\n",
              "    .dataframe tbody tr th:only-of-type {\n",
              "        vertical-align: middle;\n",
              "    }\n",
              "\n",
              "    .dataframe tbody tr th {\n",
              "        vertical-align: top;\n",
              "    }\n",
              "\n",
              "    .dataframe thead th {\n",
              "        text-align: right;\n",
              "    }\n",
              "</style>\n",
              "<table border=\"1\" class=\"dataframe\">\n",
              "  <thead>\n",
              "    <tr style=\"text-align: right;\">\n",
              "      <th></th>\n",
              "      <th>Mean Absolute Error</th>\n",
              "      <th>Mean Squared Error</th>\n",
              "      <th>Median Absolute Error</th>\n",
              "      <th>R-squared</th>\n",
              "      <th>Explained Variance</th>\n",
              "    </tr>\n",
              "  </thead>\n",
              "  <tbody>\n",
              "    <tr>\n",
              "      <th>0</th>\n",
              "      <td>232.727705</td>\n",
              "      <td>66349.274549</td>\n",
              "      <td>257.281535</td>\n",
              "      <td>0.454525</td>\n",
              "      <td>0.899807</td>\n",
              "    </tr>\n",
              "  </tbody>\n",
              "</table>\n",
              "</div>\n",
              "    <div class=\"colab-df-buttons\">\n",
              "\n",
              "  <div class=\"colab-df-container\">\n",
              "    <button class=\"colab-df-convert\" onclick=\"convertToInteractive('df-e2222067-007f-499e-ae06-ea8e01f66f02')\"\n",
              "            title=\"Convert this dataframe to an interactive table.\"\n",
              "            style=\"display:none;\">\n",
              "\n",
              "  <svg xmlns=\"http://www.w3.org/2000/svg\" height=\"24px\" viewBox=\"0 -960 960 960\">\n",
              "    <path d=\"M120-120v-720h720v720H120Zm60-500h600v-160H180v160Zm220 220h160v-160H400v160Zm0 220h160v-160H400v160ZM180-400h160v-160H180v160Zm440 0h160v-160H620v160ZM180-180h160v-160H180v160Zm440 0h160v-160H620v160Z\"/>\n",
              "  </svg>\n",
              "    </button>\n",
              "\n",
              "  <style>\n",
              "    .colab-df-container {\n",
              "      display:flex;\n",
              "      gap: 12px;\n",
              "    }\n",
              "\n",
              "    .colab-df-convert {\n",
              "      background-color: #E8F0FE;\n",
              "      border: none;\n",
              "      border-radius: 50%;\n",
              "      cursor: pointer;\n",
              "      display: none;\n",
              "      fill: #1967D2;\n",
              "      height: 32px;\n",
              "      padding: 0 0 0 0;\n",
              "      width: 32px;\n",
              "    }\n",
              "\n",
              "    .colab-df-convert:hover {\n",
              "      background-color: #E2EBFA;\n",
              "      box-shadow: 0px 1px 2px rgba(60, 64, 67, 0.3), 0px 1px 3px 1px rgba(60, 64, 67, 0.15);\n",
              "      fill: #174EA6;\n",
              "    }\n",
              "\n",
              "    .colab-df-buttons div {\n",
              "      margin-bottom: 4px;\n",
              "    }\n",
              "\n",
              "    [theme=dark] .colab-df-convert {\n",
              "      background-color: #3B4455;\n",
              "      fill: #D2E3FC;\n",
              "    }\n",
              "\n",
              "    [theme=dark] .colab-df-convert:hover {\n",
              "      background-color: #434B5C;\n",
              "      box-shadow: 0px 1px 3px 1px rgba(0, 0, 0, 0.15);\n",
              "      filter: drop-shadow(0px 1px 2px rgba(0, 0, 0, 0.3));\n",
              "      fill: #FFFFFF;\n",
              "    }\n",
              "  </style>\n",
              "\n",
              "    <script>\n",
              "      const buttonEl =\n",
              "        document.querySelector('#df-e2222067-007f-499e-ae06-ea8e01f66f02 button.colab-df-convert');\n",
              "      buttonEl.style.display =\n",
              "        google.colab.kernel.accessAllowed ? 'block' : 'none';\n",
              "\n",
              "      async function convertToInteractive(key) {\n",
              "        const element = document.querySelector('#df-e2222067-007f-499e-ae06-ea8e01f66f02');\n",
              "        const dataTable =\n",
              "          await google.colab.kernel.invokeFunction('convertToInteractive',\n",
              "                                                    [key], {});\n",
              "        if (!dataTable) return;\n",
              "\n",
              "        const docLinkHtml = 'Like what you see? Visit the ' +\n",
              "          '<a target=\"_blank\" href=https://colab.research.google.com/notebooks/data_table.ipynb>data table notebook</a>'\n",
              "          + ' to learn more about interactive tables.';\n",
              "        element.innerHTML = '';\n",
              "        dataTable['output_type'] = 'display_data';\n",
              "        await google.colab.output.renderOutput(dataTable, element);\n",
              "        const docLink = document.createElement('div');\n",
              "        docLink.innerHTML = docLinkHtml;\n",
              "        element.appendChild(docLink);\n",
              "      }\n",
              "    </script>\n",
              "  </div>\n",
              "\n",
              "\n",
              "  <div id=\"id_5e6113f8-f48c-447e-9977-c8083b024840\">\n",
              "    <style>\n",
              "      .colab-df-generate {\n",
              "        background-color: #E8F0FE;\n",
              "        border: none;\n",
              "        border-radius: 50%;\n",
              "        cursor: pointer;\n",
              "        display: none;\n",
              "        fill: #1967D2;\n",
              "        height: 32px;\n",
              "        padding: 0 0 0 0;\n",
              "        width: 32px;\n",
              "      }\n",
              "\n",
              "      .colab-df-generate:hover {\n",
              "        background-color: #E2EBFA;\n",
              "        box-shadow: 0px 1px 2px rgba(60, 64, 67, 0.3), 0px 1px 3px 1px rgba(60, 64, 67, 0.15);\n",
              "        fill: #174EA6;\n",
              "      }\n",
              "\n",
              "      [theme=dark] .colab-df-generate {\n",
              "        background-color: #3B4455;\n",
              "        fill: #D2E3FC;\n",
              "      }\n",
              "\n",
              "      [theme=dark] .colab-df-generate:hover {\n",
              "        background-color: #434B5C;\n",
              "        box-shadow: 0px 1px 3px 1px rgba(0, 0, 0, 0.15);\n",
              "        filter: drop-shadow(0px 1px 2px rgba(0, 0, 0, 0.3));\n",
              "        fill: #FFFFFF;\n",
              "      }\n",
              "    </style>\n",
              "    <button class=\"colab-df-generate\" onclick=\"generateWithVariable('evaluation_metrics')\"\n",
              "            title=\"Generate code using this dataframe.\"\n",
              "            style=\"display:none;\">\n",
              "\n",
              "  <svg xmlns=\"http://www.w3.org/2000/svg\" height=\"24px\"viewBox=\"0 0 24 24\"\n",
              "       width=\"24px\">\n",
              "    <path d=\"M7,19H8.4L18.45,9,17,7.55,7,17.6ZM5,21V16.75L18.45,3.32a2,2,0,0,1,2.83,0l1.4,1.43a1.91,1.91,0,0,1,.58,1.4,1.91,1.91,0,0,1-.58,1.4L9.25,21ZM18.45,9,17,7.55Zm-12,3A5.31,5.31,0,0,0,4.9,8.1,5.31,5.31,0,0,0,1,6.5,5.31,5.31,0,0,0,4.9,4.9,5.31,5.31,0,0,0,6.5,1,5.31,5.31,0,0,0,8.1,4.9,5.31,5.31,0,0,0,12,6.5,5.46,5.46,0,0,0,6.5,12Z\"/>\n",
              "  </svg>\n",
              "    </button>\n",
              "    <script>\n",
              "      (() => {\n",
              "      const buttonEl =\n",
              "        document.querySelector('#id_5e6113f8-f48c-447e-9977-c8083b024840 button.colab-df-generate');\n",
              "      buttonEl.style.display =\n",
              "        google.colab.kernel.accessAllowed ? 'block' : 'none';\n",
              "\n",
              "      buttonEl.onclick = () => {\n",
              "        google.colab.notebook.generateWithVariable('evaluation_metrics');\n",
              "      }\n",
              "      })();\n",
              "    </script>\n",
              "  </div>\n",
              "\n",
              "    </div>\n",
              "  </div>\n"
            ]
          },
          "metadata": {},
          "execution_count": 27
        }
      ]
    },
    {
      "cell_type": "markdown",
      "source": [
        "### 2.2) Visualize model fit"
      ],
      "metadata": {
        "id": "s-WeCPeFKZ-x"
      }
    },
    {
      "cell_type": "code",
      "source": [
        "################################################################################\n",
        "######################### CHANGE BQ PROJECT NAME BELOW #########################\n",
        "################################################################################"
      ],
      "metadata": {
        "id": "sF80oyU6KnSe"
      },
      "execution_count": null,
      "outputs": []
    },
    {
      "cell_type": "markdown",
      "source": [
        "Select the predicted conversions (y1) of the model and actual conversions from the data (y1) using the ML.PREDICT function"
      ],
      "metadata": {
        "id": "EkHqYIKKKfbc"
      }
    },
    {
      "cell_type": "code",
      "source": [
        "%%bigquery model_predictions\n",
        "SELECT\n",
        "  *\n",
        "FROM\n",
        "  ML.PREDICT(MODEL `.RBA_demo.RBA_model`, #update project name\n",
        "    (\n",
        "    SELECT\n",
        "        *\n",
        "    FROM\n",
        "      `.RBA_demo.cleaned_data`\n",
        "      ORDER BY date)); #update project name"
      ],
      "metadata": {
        "id": "6tK38VliKZZb"
      },
      "execution_count": null,
      "outputs": []
    },
    {
      "cell_type": "markdown",
      "source": [
        "Visualize the model fit by comparing predicted vs. actual data."
      ],
      "metadata": {
        "id": "J460CbLiQI9P"
      }
    },
    {
      "cell_type": "code",
      "source": [
        "results = pd.DataFrame()\n",
        "results['actual'] = df[kpi_col]\n",
        "results['predicted'] = model_predictions.predicted_y1"
      ],
      "metadata": {
        "id": "nASYBh7dKs7s",
        "outputId": "74adbfd7-0369-402e-92e6-e4564dd5b3d6",
        "colab": {
          "base_uri": "https://localhost:8080/",
          "height": 210
        }
      },
      "execution_count": 28,
      "outputs": [
        {
          "output_type": "error",
          "ename": "NameError",
          "evalue": "name 'model_predictions' is not defined",
          "traceback": [
            "\u001b[0;31m---------------------------------------------------------------------------\u001b[0m",
            "\u001b[0;31mNameError\u001b[0m                                 Traceback (most recent call last)",
            "\u001b[0;32m<ipython-input-28-400d7b10dbd6>\u001b[0m in \u001b[0;36m<cell line: 3>\u001b[0;34m()\u001b[0m\n\u001b[1;32m      1\u001b[0m \u001b[0mresults\u001b[0m \u001b[0;34m=\u001b[0m \u001b[0mpd\u001b[0m\u001b[0;34m.\u001b[0m\u001b[0mDataFrame\u001b[0m\u001b[0;34m(\u001b[0m\u001b[0;34m)\u001b[0m\u001b[0;34m\u001b[0m\u001b[0;34m\u001b[0m\u001b[0m\n\u001b[1;32m      2\u001b[0m \u001b[0mresults\u001b[0m\u001b[0;34m[\u001b[0m\u001b[0;34m'actual'\u001b[0m\u001b[0;34m]\u001b[0m \u001b[0;34m=\u001b[0m \u001b[0mdf\u001b[0m\u001b[0;34m[\u001b[0m\u001b[0mkpi_col\u001b[0m\u001b[0;34m]\u001b[0m\u001b[0;34m\u001b[0m\u001b[0;34m\u001b[0m\u001b[0m\n\u001b[0;32m----> 3\u001b[0;31m \u001b[0mresults\u001b[0m\u001b[0;34m[\u001b[0m\u001b[0;34m'predicted'\u001b[0m\u001b[0;34m]\u001b[0m \u001b[0;34m=\u001b[0m \u001b[0mmodel_predictions\u001b[0m\u001b[0;34m.\u001b[0m\u001b[0mpredicted_y1\u001b[0m\u001b[0;34m\u001b[0m\u001b[0;34m\u001b[0m\u001b[0m\n\u001b[0m",
            "\u001b[0;31mNameError\u001b[0m: name 'model_predictions' is not defined"
          ]
        }
      ]
    },
    {
      "cell_type": "code",
      "source": [
        "fig = px.line(results.sort_index())\n",
        "fig.show()"
      ],
      "metadata": {
        "id": "j4xh1O83KtPV"
      },
      "execution_count": null,
      "outputs": []
    },
    {
      "cell_type": "markdown",
      "source": [
        "## 3) Calculate contribution of each digital tactic on conversions"
      ],
      "metadata": {
        "id": "sSRuYWkxLZCy"
      }
    },
    {
      "cell_type": "markdown",
      "source": [
        "### 3.1) Relative Importance"
      ],
      "metadata": {
        "id": "-hayLrAiLMB5"
      }
    },
    {
      "cell_type": "markdown",
      "source": [
        "Use the [relativeImp](https://pypi.org/project/relativeImp/) package to conduct key driver analysis and generate relative importance values by feature in the model.\n",
        "\n",
        "\n",
        "The relativeImp function produces a raw relative importance and a normalized relative importance value.\n",
        "\n",
        "- Raw relative importance sums to the r-squared of the linear model.\n",
        "- Normalized relative importance is scaled to sum to 1"
      ],
      "metadata": {
        "id": "lFQ3DqQAM5Kc"
      }
    },
    {
      "cell_type": "code",
      "source": [
        "conversions = kpi_col\n",
        "df = df.drop(columns = date_col)\n",
        "tactics = df[df.columns[df.columns != conversions]].columns.to_list()\n",
        "relative_importance_results = relativeImp(df,\n",
        "                                          outcomeName = conversions,\n",
        "                                          driverNames = tactics)"
      ],
      "metadata": {
        "id": "7TmHIXC0M5_V"
      },
      "execution_count": null,
      "outputs": []
    },
    {
      "cell_type": "code",
      "source": [
        "relative_importance_results.sort_values(by = 'rawRelaImpt', ascending = False)"
      ],
      "metadata": {
        "id": "JBVFq621NLty"
      },
      "execution_count": null,
      "outputs": []
    },
    {
      "cell_type": "markdown",
      "source": [],
      "metadata": {
        "id": "_zQxXlL7Qray"
      }
    },
    {
      "cell_type": "code",
      "source": [
        "round(relative_importance_results.rawRelaImpt.sum(),2) #Model's R-squared"
      ],
      "metadata": {
        "id": "ABsV68ECON9k"
      },
      "execution_count": null,
      "outputs": []
    },
    {
      "cell_type": "markdown",
      "metadata": {
        "id": "mCKeutMiqOc2"
      },
      "source": [
        "## 4) Validate Linear Regression Model Assumptions"
      ]
    },
    {
      "cell_type": "markdown",
      "source": [
        "For any statistical model it is important to validate model assumptions.\n",
        "With RBA, we validate the standard linear model assumptions of:\n",
        "\n",
        "  - Linearity\n",
        "  - Normality of errors\n",
        "  - Absence of multicollinearity\n",
        "  - Homoscedasticity\n",
        "  - Absence of autocorrelation of residuals\n",
        "\n",
        "\n",
        "\n",
        "If any of the model assumptions fail, a different model specification, as well as re-examination of the data should be considered\n",
        "\n",
        "Incorrect model use can lead to unreliable results"
      ],
      "metadata": {
        "id": "sRKYy6zpK3PI"
      }
    },
    {
      "cell_type": "markdown",
      "metadata": {
        "id": "xIiQh9x17Kmc"
      },
      "source": [
        "### 4.1) Generate residuals"
      ]
    },
    {
      "cell_type": "markdown",
      "source": [
        "Calculate model residuals as the difference from predicted y1 values and actual y1 values\n"
      ],
      "metadata": {
        "id": "pJiWglmpPAel"
      }
    },
    {
      "cell_type": "code",
      "metadata": {
        "id": "87fbrpbM7cE3"
      },
      "source": [
        "model_predictions['residuals'] = model_predictions.predicted_y1 - model_predictions.y1"
      ],
      "execution_count": null,
      "outputs": []
    },
    {
      "cell_type": "markdown",
      "metadata": {
        "id": "s9GYKrS87EGQ"
      },
      "source": [
        "### 4.2) Linearity"
      ]
    },
    {
      "cell_type": "markdown",
      "source": [
        "Visually inspect linearity between target variable (y1) and predictions"
      ],
      "metadata": {
        "id": "1u_fzK8gPEkM"
      }
    },
    {
      "cell_type": "code",
      "metadata": {
        "id": "8Gx6KzBKlTFZ"
      },
      "source": [
        "plt.plot(model_predictions.predicted_y1,model_predictions.y1,'o',alpha=0.5)\n",
        "plt.show()"
      ],
      "execution_count": null,
      "outputs": []
    },
    {
      "cell_type": "markdown",
      "metadata": {
        "id": "4w71z33T8IRB"
      },
      "source": [
        "### 4.3) Normality of Errors"
      ]
    },
    {
      "cell_type": "markdown",
      "source": [
        "Visually inspect the residuals to confirm normality"
      ],
      "metadata": {
        "id": "gdOhTCaWPHGj"
      }
    },
    {
      "cell_type": "code",
      "metadata": {
        "id": "PB5NIR6Blu6e"
      },
      "source": [
        "fig = sm.qqplot(model_predictions.residuals)\n",
        "plt.xlabel('Model Residuals'); plt.ylabel('Density'); plt.title('Distribution of Residuals');"
      ],
      "execution_count": null,
      "outputs": []
    },
    {
      "cell_type": "markdown",
      "metadata": {
        "id": "1_U7qdH78-it"
      },
      "source": [
        "### 4.4) Homoscedasticity\n"
      ]
    },
    {
      "cell_type": "markdown",
      "source": [
        "Visually inspect residuals to confirm constant variance"
      ],
      "metadata": {
        "id": "NjPlGnSsPMgZ"
      }
    },
    {
      "cell_type": "code",
      "metadata": {
        "id": "FFB28_F3muwb"
      },
      "source": [
        "plt.plot(model_predictions.residuals,'o',alpha=0.5)\n",
        "plt.show()"
      ],
      "execution_count": null,
      "outputs": []
    },
    {
      "cell_type": "markdown",
      "metadata": {
        "id": "2Jxt2_94-QZG"
      },
      "source": [
        "### 4.5) Absence of Autocorrelation of the residuals"
      ]
    },
    {
      "cell_type": "markdown",
      "source": [
        "The Durbin Watson test is a statistical test for detecting autocorrelation of the model residuals"
      ],
      "metadata": {
        "id": "XrlJsGGPPQh0"
      }
    },
    {
      "cell_type": "code",
      "metadata": {
        "id": "ZC4Jxy_tnS0o"
      },
      "source": [
        "dw = durbin_watson(model_predictions.residuals)\n",
        "print('Durbin-Watson',round(dw,1))"
      ],
      "execution_count": null,
      "outputs": []
    },
    {
      "cell_type": "code",
      "metadata": {
        "id": "DfZKsNaUnkgh"
      },
      "source": [
        "if dw < 1.5:\n",
        "        print('Positive autocorrelation', '\\n')\n",
        "elif dw > 2.5:\n",
        "        print('Negative autocorrelation', '\\n')\n",
        "else:\n",
        "        print('Little to no autocorrelation', '\\n')\n"
      ],
      "execution_count": null,
      "outputs": []
    },
    {
      "cell_type": "markdown",
      "source": [
        "## 5) Export Final Results"
      ],
      "metadata": {
        "id": "szq3Rcb1YdOo"
      }
    },
    {
      "cell_type": "code",
      "source": [
        "final_results_df = relative_importance_results[['driver','rawRelaImpt']]\n",
        "final_results_df.to_csv('rba_final_output.csv', encoding = 'utf-8-sig')\n",
        "files.download('rba_final_output.csv')"
      ],
      "metadata": {
        "id": "repI6zqiYex_"
      },
      "execution_count": null,
      "outputs": []
    }
  ]
}